{
  "cells": [
    {
      "cell_type": "markdown",
      "metadata": {
        "id": "view-in-github",
        "colab_type": "text"
      },
      "source": [
        "<a href=\"https://colab.research.google.com/github/RentoYabuki06/Born2beroot_42tokyo/blob/main/240613_%E6%95%B0%E7%90%86%E6%9C%80%E9%81%A9%E5%8C%96%E5%8B%89%E5%BC%B7%E4%BC%9A_%E7%AC%AC5%E7%AB%A0.ipynb\" target=\"_parent\"><img src=\"https://colab.research.google.com/assets/colab-badge.svg\" alt=\"Open In Colab\"/></a>"
      ]
    },
    {
      "cell_type": "markdown",
      "metadata": {
        "id": "fYR_xYM9MhVZ"
      },
      "source": [
        "# **第5章 1つの車両を用いた多期間の配送計画**"
      ]
    },
    {
      "cell_type": "markdown",
      "source": [
        "### **5.1 導入**\n",
        "\n",
        "- **配送計画問題（VRP: Vehicle Routing Problem)**：車両を用いて複数の荷物を配送する際の最適な経路を求める最適化問題\n",
        "\n",
        "- **NP困難**：配送計画問題、巡回セールスマン問題\n",
        "\n",
        "本章では、1つの車両を用いた多機関の配送計画問題を**混合整数計画（MIP: Mixed Integer Programming)問題**にモデリングして解く\n",
        "\n",
        "以下3点を解説\n",
        "\n",
        "- 巡回セールスマン問題の混合整数計画問題へのモデリング（MTZ定式化）\n",
        "- 数理モデルの表現力を高める補助変数の使い方\n",
        "- 配送パターンの列挙を利用した数理モデルの工夫による求解の効率化\n",
        "\n",
        "以下の通り進める。2回サイクルをまわしているのがポイント\n",
        "\n",
        "- 5.2: 課題整理\n",
        "- 5.3: 混合整数計画問題として素朴に数理モデリング\n",
        "- 5.4: 実装、実験、検証し、課題を発見\n",
        "- 5.5: 課題を解決するために、工夫して数理モデリング\n",
        "- 5.6: 実装、実験、検証\n",
        "- 5.7: まとめ\n"
      ],
      "metadata": {
        "id": "-UI-ryM1Mjhf"
      }
    },
    {
      "cell_type": "markdown",
      "source": [
        "### **5.2 課題整理**\n",
        "#### ①配送計画の概要とアウトプットイメージ\n",
        "##### 概要\n",
        "- 配送車両：トラック1台\n",
        "- 地点：配送拠点である配送センターが1箇所、配送先であるお店を複数持つ\n",
        "- 配送ルート：配送センターを出発し、いくつかのお店を訪問して、配送センターに戻ってくるまでの配送の順番を表したもの。同じお店に2回以上訪問しない\n",
        "- それぞれのお店には荷物を注文する\n",
        "- 各荷物には配送期間と荷物の重量が指定されている\n",
        "\n",
        "図は省略\n",
        "\n",
        "##### アウトプットイメージ\n",
        "- 配送計画：20日分の配送ルート、および各配送日にお店に配送する荷物が決定された表\n",
        "\n",
        "表は省略\n",
        "\n",
        "#### ②トラックに関する要件\n",
        "- 1日に配送できる荷物の重量は4,000[kg]とする\n",
        "\n",
        "#### ③ドライバーに関する要件\n",
        "- ドライバーの所定労働時間は1日8時間とする\n",
        "- ドライバーが所定労働時間を超えて配送業務を行う場合、1時間あたり3,000円の残業費用が発生する\n",
        "- ドライバーの1日の残業時間は3時間以下とする\n",
        "\n",
        "#### ④外部配送業者に関する要件\n",
        "\n",
        "- 外注すると1[kg]あたり46円の外注費用が発生する\n",
        "\n",
        "#### ⑤最適化の要件\n",
        "\n",
        "目標：配送費用の最小化を目指し、「残業費用」と「外注費用」の和を最小化する\n"
      ],
      "metadata": {
        "id": "_r0iRY_eKgYJ"
      }
    },
    {
      "cell_type": "markdown",
      "metadata": {
        "id": "vzC6AbYbMhVb"
      },
      "source": [
        "### **5.3 素朴な数理モデリング**"
      ]
    },
    {
      "cell_type": "markdown",
      "source": [
        "数理最適化問題のモデリング：集合、定数、変数、制約式、目的関数に分けて行う\n",
        "\n",
        "入力データは、集合、定数なのでこちらを先に与えるとモデリングの見通しがよくなる。"
      ],
      "metadata": {
        "id": "8HCVr9IEN6-s"
      }
    },
    {
      "cell_type": "markdown",
      "source": [
        "#### 　①混合整数計画問題への素朴な数理モデリング"
      ],
      "metadata": {
        "id": "iiXBrdc-QzKM"
      }
    },
    {
      "cell_type": "markdown",
      "source": [
        "#####(1) 集合と定数\n",
        "\n",
        "以下。詳細は書籍参照\n",
        "\n",
        "- 期間\n",
        "- 地点\n",
        "- 移動時間\n",
        "- 荷物\n",
        "- その他、固定値の定数"
      ],
      "metadata": {
        "id": "7mm7A3KgQ78I"
      }
    },
    {
      "cell_type": "markdown",
      "source": [
        "##### (2) 決定変数と補助変数\n",
        "\n",
        "- 決定変数（独立した変数として定義するもの）：地点間の移動の有無・荷物の自社配送の有無\n",
        "- 補助変数（決定変数の従属して値が決まる変数）：移動する順番・残業時間\n",
        "\n",
        "補助変数は一見すると無用に思えるが、現実の問題をソルバーで解くために必須のテクニック。一般的には「モデリングしたら問題が非線形になってしまって困った」ときに導入を検討するもの。\n",
        "\n",
        "数式や詳細は書籍参照"
      ],
      "metadata": {
        "id": "JGyvdrH9QzUK"
      }
    },
    {
      "cell_type": "markdown",
      "source": [
        "##### (3) 制約式と目的関数\n",
        "\n",
        "###### (A) サイクルとなる経路\n",
        "\n",
        "現実的に移動可能な経路を表すために、制約式が必要\n",
        "\n",
        "- (A-1) 各配送日について、ある地点に移動する数とその地点から移動する数は一致する\n",
        "- (A-2) 各配送日について、地点に訪問する数は高々1回までとする\n",
        "\n",
        "配送センターを通らないサイクルは配送ルートとならないので、次の(B)の制約が必要となる。\n",
        "\n",
        "###### (B) 配送センターを出発するサイクル\n",
        "\n",
        "- (B-1) 各配送日について、配送センターを出発地点（0番目に訪問）とする\n",
        "- (B-2) 各配送日における、地点への訪問順番の上下限値\n",
        "- (B-3) 各配送日について、お店間だけのサイクルを禁止する\n",
        "\n",
        "(A)(B)のテクニックは巡回セールスマン問題のMTZ定式化（Miller-Tucker-Zemlin)で用いられる（後述）。\n",
        "\n",
        "###### (C) 荷物を自社配送するなら期間内で高々一回\n",
        "\n",
        "- 各荷物は、自社配送するなら期間内で高々一回までとする\n",
        "\n",
        "###### (D) 荷物を自社配送するなら配送先のお店に訪問\n",
        "\n",
        "- 各配送日について、荷物を自社配送するなら、配送先のお店に訪問する\n",
        "\n",
        "###### (E) トラックの積載量\n",
        "\n",
        "- 各配送日について、荷物の重量は4,000[kg]以下とする\n",
        "\n",
        "###### (F) ドライバーの残業時間の定義\n",
        "\n",
        "- 各配送日について、ドライバーの残業時間は所定労働時間の8時間を差し引いた労働時間となる\n",
        "\n",
        "\n",
        "###### (G) ドライバーの残業時間の制約\n",
        "\n",
        "- 各配送日について、ドライバーの残業時間は3時間以内とする\n",
        "\n",
        "###### (H) 荷物は指定配送期間に配送\n",
        "\n",
        "- (H-1) 各荷物は、開始日より前の配送を禁止する\n",
        "- (H-2) 各荷物は、終了日より後の配送を禁止する\n",
        "\n",
        "###### (I) 配送費用（残業費用 + 外注費用）の最小化\n",
        "\n",
        "- (I) 配送費用（残業費用 + 外注費用）を最小化する\n",
        "\n",
        "\n",
        "###### **☆素朴な数理モデル**\n",
        "\n",
        "上記をまとめると素朴な数理モデルが得られる。\n",
        "\n",
        "詳細は書籍を参照。\n"
      ],
      "metadata": {
        "id": "nvBbadTuQzWx"
      }
    },
    {
      "cell_type": "markdown",
      "source": [
        "#### ②素朴な数理モデルの解説\n",
        "\n",
        "初学者にとっては難しい内容で読み飛ばしてよいと書いてあるので、ありがたく読み飛ばす。"
      ],
      "metadata": {
        "id": "SLRqi9enPahx"
      }
    },
    {
      "cell_type": "markdown",
      "source": [
        "### **5.4 素朴な数理モデルの実装と実験**"
      ],
      "metadata": {
        "id": "RrVHXCRCPmCw"
      }
    },
    {
      "cell_type": "markdown",
      "source": [
        "#### ① 実行環境\n",
        "データのダウンロード"
      ],
      "metadata": {
        "id": "nABH9W4iPmpp"
      }
    },
    {
      "cell_type": "code",
      "source": [
        "!wget https://raw.githubusercontent.com/ohmsha/PyOptBook/main/5.routing_ver2/small_locations.csv\n",
        "!wget https://raw.githubusercontent.com/ohmsha/PyOptBook/main/5.routing_ver2/small_distances.csv\n",
        "!wget https://raw.githubusercontent.com/ohmsha/PyOptBook/main/5.routing_ver2/small_orders.csv\n",
        "!wget https://raw.githubusercontent.com/ohmsha/PyOptBook/main/5.routing_ver2/locations.csv\n",
        "!wget https://raw.githubusercontent.com/ohmsha/PyOptBook/main/5.routing_ver2/distances.csv\n",
        "!wget https://raw.githubusercontent.com/ohmsha/PyOptBook/main/5.routing_ver2/orders.csv"
      ],
      "metadata": {
        "colab": {
          "base_uri": "https://localhost:8080/"
        },
        "id": "qHeD21TEQMsQ",
        "outputId": "0725d0ad-406c-4dfd-cf02-9e8f2b7465e8"
      },
      "execution_count": null,
      "outputs": [
        {
          "output_type": "stream",
          "name": "stdout",
          "text": [
            "--2024-06-07 01:13:44--  https://raw.githubusercontent.com/ohmsha/PyOptBook/main/5.routing_ver2/small_locations.csv\n",
            "Resolving raw.githubusercontent.com (raw.githubusercontent.com)... 185.199.111.133, 185.199.110.133, 185.199.109.133, ...\n",
            "Connecting to raw.githubusercontent.com (raw.githubusercontent.com)|185.199.111.133|:443... connected.\n",
            "HTTP request sent, awaiting response... 200 OK\n",
            "Length: 63 [text/plain]\n",
            "Saving to: ‘small_locations.csv’\n",
            "\n",
            "\rsmall_locations.csv   0%[                    ]       0  --.-KB/s               \rsmall_locations.csv 100%[===================>]      63  --.-KB/s    in 0s      \n",
            "\n",
            "2024-06-07 01:13:44 (1.12 MB/s) - ‘small_locations.csv’ saved [63/63]\n",
            "\n",
            "--2024-06-07 01:13:45--  https://raw.githubusercontent.com/ohmsha/PyOptBook/main/5.routing_ver2/small_distances.csv\n",
            "Resolving raw.githubusercontent.com (raw.githubusercontent.com)... 185.199.108.133, 185.199.109.133, 185.199.110.133, ...\n",
            "Connecting to raw.githubusercontent.com (raw.githubusercontent.com)|185.199.108.133|:443... connected.\n",
            "HTTP request sent, awaiting response... 200 OK\n",
            "Length: 388 [text/plain]\n",
            "Saving to: ‘small_distances.csv’\n",
            "\n",
            "small_distances.csv 100%[===================>]     388  --.-KB/s    in 0s      \n",
            "\n",
            "2024-06-07 01:13:45 (16.0 MB/s) - ‘small_distances.csv’ saved [388/388]\n",
            "\n",
            "--2024-06-07 01:13:45--  https://raw.githubusercontent.com/ohmsha/PyOptBook/main/5.routing_ver2/small_orders.csv\n",
            "Resolving raw.githubusercontent.com (raw.githubusercontent.com)... 185.199.108.133, 185.199.110.133, 185.199.109.133, ...\n",
            "Connecting to raw.githubusercontent.com (raw.githubusercontent.com)|185.199.108.133|:443... connected.\n",
            "HTTP request sent, awaiting response... 200 OK\n",
            "Length: 130 [text/plain]\n",
            "Saving to: ‘small_orders.csv’\n",
            "\n",
            "small_orders.csv    100%[===================>]     130  --.-KB/s    in 0s      \n",
            "\n",
            "2024-06-07 01:13:45 (1.83 MB/s) - ‘small_orders.csv’ saved [130/130]\n",
            "\n",
            "--2024-06-07 01:13:45--  https://raw.githubusercontent.com/ohmsha/PyOptBook/main/5.routing_ver2/locations.csv\n",
            "Resolving raw.githubusercontent.com (raw.githubusercontent.com)... 185.199.110.133, 185.199.111.133, 185.199.109.133, ...\n",
            "Connecting to raw.githubusercontent.com (raw.githubusercontent.com)|185.199.110.133|:443... connected.\n",
            "HTTP request sent, awaiting response... 200 OK\n",
            "Length: 429 [text/plain]\n",
            "Saving to: ‘locations.csv’\n",
            "\n",
            "locations.csv       100%[===================>]     429  --.-KB/s    in 0s      \n",
            "\n",
            "2024-06-07 01:13:45 (8.10 MB/s) - ‘locations.csv’ saved [429/429]\n",
            "\n",
            "--2024-06-07 01:13:46--  https://raw.githubusercontent.com/ohmsha/PyOptBook/main/5.routing_ver2/distances.csv\n",
            "Resolving raw.githubusercontent.com (raw.githubusercontent.com)... 185.199.108.133, 185.199.110.133, 185.199.109.133, ...\n",
            "Connecting to raw.githubusercontent.com (raw.githubusercontent.com)|185.199.108.133|:443... connected.\n",
            "HTTP request sent, awaiting response... 200 OK\n",
            "Length: 2296 (2.2K) [text/plain]\n",
            "Saving to: ‘distances.csv’\n",
            "\n",
            "distances.csv       100%[===================>]   2.24K  --.-KB/s    in 0s      \n",
            "\n",
            "2024-06-07 01:13:46 (35.5 MB/s) - ‘distances.csv’ saved [2296/2296]\n",
            "\n",
            "--2024-06-07 01:13:46--  https://raw.githubusercontent.com/ohmsha/PyOptBook/main/5.routing_ver2/orders.csv\n",
            "Resolving raw.githubusercontent.com (raw.githubusercontent.com)... 185.199.111.133, 185.199.110.133, 185.199.109.133, ...\n",
            "Connecting to raw.githubusercontent.com (raw.githubusercontent.com)|185.199.111.133|:443... connected.\n",
            "HTTP request sent, awaiting response... 200 OK\n",
            "Length: 1680 (1.6K) [text/plain]\n",
            "Saving to: ‘orders.csv’\n",
            "\n",
            "orders.csv          100%[===================>]   1.64K  --.-KB/s    in 0s      \n",
            "\n",
            "2024-06-07 01:13:46 (26.7 MB/s) - ‘orders.csv’ saved [1680/1680]\n",
            "\n"
          ]
        }
      ]
    },
    {
      "cell_type": "markdown",
      "source": [
        "- location.csv: 地点のデータ\n",
        "- distances.csv: 地点間の移動時間のデータ\n",
        "- orders.csv: 荷物のデータ\n",
        "\n",
        "ファイル名にsmall_という接頭辞がついているファイルは実装確認用の小規模なデータ"
      ],
      "metadata": {
        "id": "2rjbwDrjPmsf"
      }
    },
    {
      "cell_type": "markdown",
      "source": [
        "#### ② データの確認\n",
        "小規模なデータで確認\n",
        "\n",
        "##### small_locations.csv\n",
        "\n",
        "- k: お店/配送センターのID\n",
        "- x,y: お店/配送センターの座標\n",
        "- depo_flag: 配送センターだと1,お店は0"
      ],
      "metadata": {
        "id": "-8JxXLHHRJwD"
      }
    },
    {
      "cell_type": "code",
      "source": [
        "import pandas as pd\n",
        "k_df = pd.read_csv('small_locations.csv')\n",
        "print(len(k_df))\n",
        "k_df.head()"
      ],
      "metadata": {
        "colab": {
          "base_uri": "https://localhost:8080/",
          "height": 224
        },
        "id": "_gY9voUeRDN8",
        "outputId": "1a91948f-6f81-400d-d5e1-1b474c22ffc7"
      },
      "execution_count": null,
      "outputs": [
        {
          "output_type": "stream",
          "name": "stdout",
          "text": [
            "5\n"
          ]
        },
        {
          "output_type": "execute_result",
          "data": {
            "text/plain": [
              "    k  x  y  depo_flag\n",
              "0   p  0  0          1\n",
              "1  s1 -2  0          0\n",
              "2  s2 -2 -2          0\n",
              "3  s3  4  0          0\n",
              "4  s4  4  2          0"
            ],
            "text/html": [
              "\n",
              "  <div id=\"df-c259689c-caa1-4be5-b5bf-97f1bdafdfbc\" class=\"colab-df-container\">\n",
              "    <div>\n",
              "<style scoped>\n",
              "    .dataframe tbody tr th:only-of-type {\n",
              "        vertical-align: middle;\n",
              "    }\n",
              "\n",
              "    .dataframe tbody tr th {\n",
              "        vertical-align: top;\n",
              "    }\n",
              "\n",
              "    .dataframe thead th {\n",
              "        text-align: right;\n",
              "    }\n",
              "</style>\n",
              "<table border=\"1\" class=\"dataframe\">\n",
              "  <thead>\n",
              "    <tr style=\"text-align: right;\">\n",
              "      <th></th>\n",
              "      <th>k</th>\n",
              "      <th>x</th>\n",
              "      <th>y</th>\n",
              "      <th>depo_flag</th>\n",
              "    </tr>\n",
              "  </thead>\n",
              "  <tbody>\n",
              "    <tr>\n",
              "      <th>0</th>\n",
              "      <td>p</td>\n",
              "      <td>0</td>\n",
              "      <td>0</td>\n",
              "      <td>1</td>\n",
              "    </tr>\n",
              "    <tr>\n",
              "      <th>1</th>\n",
              "      <td>s1</td>\n",
              "      <td>-2</td>\n",
              "      <td>0</td>\n",
              "      <td>0</td>\n",
              "    </tr>\n",
              "    <tr>\n",
              "      <th>2</th>\n",
              "      <td>s2</td>\n",
              "      <td>-2</td>\n",
              "      <td>-2</td>\n",
              "      <td>0</td>\n",
              "    </tr>\n",
              "    <tr>\n",
              "      <th>3</th>\n",
              "      <td>s3</td>\n",
              "      <td>4</td>\n",
              "      <td>0</td>\n",
              "      <td>0</td>\n",
              "    </tr>\n",
              "    <tr>\n",
              "      <th>4</th>\n",
              "      <td>s4</td>\n",
              "      <td>4</td>\n",
              "      <td>2</td>\n",
              "      <td>0</td>\n",
              "    </tr>\n",
              "  </tbody>\n",
              "</table>\n",
              "</div>\n",
              "    <div class=\"colab-df-buttons\">\n",
              "\n",
              "  <div class=\"colab-df-container\">\n",
              "    <button class=\"colab-df-convert\" onclick=\"convertToInteractive('df-c259689c-caa1-4be5-b5bf-97f1bdafdfbc')\"\n",
              "            title=\"Convert this dataframe to an interactive table.\"\n",
              "            style=\"display:none;\">\n",
              "\n",
              "  <svg xmlns=\"http://www.w3.org/2000/svg\" height=\"24px\" viewBox=\"0 -960 960 960\">\n",
              "    <path d=\"M120-120v-720h720v720H120Zm60-500h600v-160H180v160Zm220 220h160v-160H400v160Zm0 220h160v-160H400v160ZM180-400h160v-160H180v160Zm440 0h160v-160H620v160ZM180-180h160v-160H180v160Zm440 0h160v-160H620v160Z\"/>\n",
              "  </svg>\n",
              "    </button>\n",
              "\n",
              "  <style>\n",
              "    .colab-df-container {\n",
              "      display:flex;\n",
              "      gap: 12px;\n",
              "    }\n",
              "\n",
              "    .colab-df-convert {\n",
              "      background-color: #E8F0FE;\n",
              "      border: none;\n",
              "      border-radius: 50%;\n",
              "      cursor: pointer;\n",
              "      display: none;\n",
              "      fill: #1967D2;\n",
              "      height: 32px;\n",
              "      padding: 0 0 0 0;\n",
              "      width: 32px;\n",
              "    }\n",
              "\n",
              "    .colab-df-convert:hover {\n",
              "      background-color: #E2EBFA;\n",
              "      box-shadow: 0px 1px 2px rgba(60, 64, 67, 0.3), 0px 1px 3px 1px rgba(60, 64, 67, 0.15);\n",
              "      fill: #174EA6;\n",
              "    }\n",
              "\n",
              "    .colab-df-buttons div {\n",
              "      margin-bottom: 4px;\n",
              "    }\n",
              "\n",
              "    [theme=dark] .colab-df-convert {\n",
              "      background-color: #3B4455;\n",
              "      fill: #D2E3FC;\n",
              "    }\n",
              "\n",
              "    [theme=dark] .colab-df-convert:hover {\n",
              "      background-color: #434B5C;\n",
              "      box-shadow: 0px 1px 3px 1px rgba(0, 0, 0, 0.15);\n",
              "      filter: drop-shadow(0px 1px 2px rgba(0, 0, 0, 0.3));\n",
              "      fill: #FFFFFF;\n",
              "    }\n",
              "  </style>\n",
              "\n",
              "    <script>\n",
              "      const buttonEl =\n",
              "        document.querySelector('#df-c259689c-caa1-4be5-b5bf-97f1bdafdfbc button.colab-df-convert');\n",
              "      buttonEl.style.display =\n",
              "        google.colab.kernel.accessAllowed ? 'block' : 'none';\n",
              "\n",
              "      async function convertToInteractive(key) {\n",
              "        const element = document.querySelector('#df-c259689c-caa1-4be5-b5bf-97f1bdafdfbc');\n",
              "        const dataTable =\n",
              "          await google.colab.kernel.invokeFunction('convertToInteractive',\n",
              "                                                    [key], {});\n",
              "        if (!dataTable) return;\n",
              "\n",
              "        const docLinkHtml = 'Like what you see? Visit the ' +\n",
              "          '<a target=\"_blank\" href=https://colab.research.google.com/notebooks/data_table.ipynb>data table notebook</a>'\n",
              "          + ' to learn more about interactive tables.';\n",
              "        element.innerHTML = '';\n",
              "        dataTable['output_type'] = 'display_data';\n",
              "        await google.colab.output.renderOutput(dataTable, element);\n",
              "        const docLink = document.createElement('div');\n",
              "        docLink.innerHTML = docLinkHtml;\n",
              "        element.appendChild(docLink);\n",
              "      }\n",
              "    </script>\n",
              "  </div>\n",
              "\n",
              "\n",
              "<div id=\"df-a47822e5-5d45-4c4a-9af6-39434592cfef\">\n",
              "  <button class=\"colab-df-quickchart\" onclick=\"quickchart('df-a47822e5-5d45-4c4a-9af6-39434592cfef')\"\n",
              "            title=\"Suggest charts\"\n",
              "            style=\"display:none;\">\n",
              "\n",
              "<svg xmlns=\"http://www.w3.org/2000/svg\" height=\"24px\"viewBox=\"0 0 24 24\"\n",
              "     width=\"24px\">\n",
              "    <g>\n",
              "        <path d=\"M19 3H5c-1.1 0-2 .9-2 2v14c0 1.1.9 2 2 2h14c1.1 0 2-.9 2-2V5c0-1.1-.9-2-2-2zM9 17H7v-7h2v7zm4 0h-2V7h2v10zm4 0h-2v-4h2v4z\"/>\n",
              "    </g>\n",
              "</svg>\n",
              "  </button>\n",
              "\n",
              "<style>\n",
              "  .colab-df-quickchart {\n",
              "      --bg-color: #E8F0FE;\n",
              "      --fill-color: #1967D2;\n",
              "      --hover-bg-color: #E2EBFA;\n",
              "      --hover-fill-color: #174EA6;\n",
              "      --disabled-fill-color: #AAA;\n",
              "      --disabled-bg-color: #DDD;\n",
              "  }\n",
              "\n",
              "  [theme=dark] .colab-df-quickchart {\n",
              "      --bg-color: #3B4455;\n",
              "      --fill-color: #D2E3FC;\n",
              "      --hover-bg-color: #434B5C;\n",
              "      --hover-fill-color: #FFFFFF;\n",
              "      --disabled-bg-color: #3B4455;\n",
              "      --disabled-fill-color: #666;\n",
              "  }\n",
              "\n",
              "  .colab-df-quickchart {\n",
              "    background-color: var(--bg-color);\n",
              "    border: none;\n",
              "    border-radius: 50%;\n",
              "    cursor: pointer;\n",
              "    display: none;\n",
              "    fill: var(--fill-color);\n",
              "    height: 32px;\n",
              "    padding: 0;\n",
              "    width: 32px;\n",
              "  }\n",
              "\n",
              "  .colab-df-quickchart:hover {\n",
              "    background-color: var(--hover-bg-color);\n",
              "    box-shadow: 0 1px 2px rgba(60, 64, 67, 0.3), 0 1px 3px 1px rgba(60, 64, 67, 0.15);\n",
              "    fill: var(--button-hover-fill-color);\n",
              "  }\n",
              "\n",
              "  .colab-df-quickchart-complete:disabled,\n",
              "  .colab-df-quickchart-complete:disabled:hover {\n",
              "    background-color: var(--disabled-bg-color);\n",
              "    fill: var(--disabled-fill-color);\n",
              "    box-shadow: none;\n",
              "  }\n",
              "\n",
              "  .colab-df-spinner {\n",
              "    border: 2px solid var(--fill-color);\n",
              "    border-color: transparent;\n",
              "    border-bottom-color: var(--fill-color);\n",
              "    animation:\n",
              "      spin 1s steps(1) infinite;\n",
              "  }\n",
              "\n",
              "  @keyframes spin {\n",
              "    0% {\n",
              "      border-color: transparent;\n",
              "      border-bottom-color: var(--fill-color);\n",
              "      border-left-color: var(--fill-color);\n",
              "    }\n",
              "    20% {\n",
              "      border-color: transparent;\n",
              "      border-left-color: var(--fill-color);\n",
              "      border-top-color: var(--fill-color);\n",
              "    }\n",
              "    30% {\n",
              "      border-color: transparent;\n",
              "      border-left-color: var(--fill-color);\n",
              "      border-top-color: var(--fill-color);\n",
              "      border-right-color: var(--fill-color);\n",
              "    }\n",
              "    40% {\n",
              "      border-color: transparent;\n",
              "      border-right-color: var(--fill-color);\n",
              "      border-top-color: var(--fill-color);\n",
              "    }\n",
              "    60% {\n",
              "      border-color: transparent;\n",
              "      border-right-color: var(--fill-color);\n",
              "    }\n",
              "    80% {\n",
              "      border-color: transparent;\n",
              "      border-right-color: var(--fill-color);\n",
              "      border-bottom-color: var(--fill-color);\n",
              "    }\n",
              "    90% {\n",
              "      border-color: transparent;\n",
              "      border-bottom-color: var(--fill-color);\n",
              "    }\n",
              "  }\n",
              "</style>\n",
              "\n",
              "  <script>\n",
              "    async function quickchart(key) {\n",
              "      const quickchartButtonEl =\n",
              "        document.querySelector('#' + key + ' button');\n",
              "      quickchartButtonEl.disabled = true;  // To prevent multiple clicks.\n",
              "      quickchartButtonEl.classList.add('colab-df-spinner');\n",
              "      try {\n",
              "        const charts = await google.colab.kernel.invokeFunction(\n",
              "            'suggestCharts', [key], {});\n",
              "      } catch (error) {\n",
              "        console.error('Error during call to suggestCharts:', error);\n",
              "      }\n",
              "      quickchartButtonEl.classList.remove('colab-df-spinner');\n",
              "      quickchartButtonEl.classList.add('colab-df-quickchart-complete');\n",
              "    }\n",
              "    (() => {\n",
              "      let quickchartButtonEl =\n",
              "        document.querySelector('#df-a47822e5-5d45-4c4a-9af6-39434592cfef button');\n",
              "      quickchartButtonEl.style.display =\n",
              "        google.colab.kernel.accessAllowed ? 'block' : 'none';\n",
              "    })();\n",
              "  </script>\n",
              "</div>\n",
              "\n",
              "    </div>\n",
              "  </div>\n"
            ],
            "application/vnd.google.colaboratory.intrinsic+json": {
              "type": "dataframe",
              "variable_name": "k_df",
              "summary": "{\n  \"name\": \"k_df\",\n  \"rows\": 5,\n  \"fields\": [\n    {\n      \"column\": \"k\",\n      \"properties\": {\n        \"dtype\": \"string\",\n        \"num_unique_values\": 5,\n        \"samples\": [\n          \"s1\",\n          \"s4\",\n          \"s2\"\n        ],\n        \"semantic_type\": \"\",\n        \"description\": \"\"\n      }\n    },\n    {\n      \"column\": \"x\",\n      \"properties\": {\n        \"dtype\": \"number\",\n        \"std\": 3,\n        \"min\": -2,\n        \"max\": 4,\n        \"num_unique_values\": 3,\n        \"samples\": [\n          0,\n          -2,\n          4\n        ],\n        \"semantic_type\": \"\",\n        \"description\": \"\"\n      }\n    },\n    {\n      \"column\": \"y\",\n      \"properties\": {\n        \"dtype\": \"number\",\n        \"std\": 1,\n        \"min\": -2,\n        \"max\": 2,\n        \"num_unique_values\": 3,\n        \"samples\": [\n          0,\n          -2,\n          2\n        ],\n        \"semantic_type\": \"\",\n        \"description\": \"\"\n      }\n    },\n    {\n      \"column\": \"depo_flag\",\n      \"properties\": {\n        \"dtype\": \"number\",\n        \"std\": 0,\n        \"min\": 0,\n        \"max\": 1,\n        \"num_unique_values\": 2,\n        \"samples\": [\n          0,\n          1\n        ],\n        \"semantic_type\": \"\",\n        \"description\": \"\"\n      }\n    }\n  ]\n}"
            }
          },
          "metadata": {},
          "execution_count": 2
        }
      ]
    },
    {
      "cell_type": "markdown",
      "source": [
        "可視化。配送センター(o)は原点。"
      ],
      "metadata": {
        "id": "FGp-gNd3Rfhg"
      }
    },
    {
      "cell_type": "code",
      "source": [
        "import matplotlib.pyplot as plt\n",
        "\n",
        "fig = plt.subplot()\n",
        "fig.set_aspect('equal')\n",
        "\n",
        "for row in k_df.itertuples():\n",
        "    if row.depo_flag:\n",
        "        fig.scatter(row.x, row.y, marker='o')\n",
        "    else:\n",
        "        fig.scatter(row.x, row.y, marker='x')\n",
        "    fig.annotate(row.k, (row.x,row.y+0.1))\n",
        "\n",
        "plt.show()"
      ],
      "metadata": {
        "colab": {
          "base_uri": "https://localhost:8080/",
          "height": 394
        },
        "id": "gcgnMHdDRXC8",
        "outputId": "1ec20e2c-453d-4a11-97bd-56f6e8f3bb83"
      },
      "execution_count": null,
      "outputs": [
        {
          "output_type": "display_data",
          "data": {
            "text/plain": [
              "<Figure size 640x480 with 1 Axes>"
            ],
            "image/png": "[encoded data removed]"
          },
          "metadata": {}
        }
      ]
    },
    {
      "cell_type": "markdown",
      "source": [
        "##### small_locations.csv"
      ],
      "metadata": {
        "id": "FQ0RhbwiPmvQ"
      }
    },
    {
      "cell_type": "markdown",
      "source": [
        "- k1: 始点\n",
        "- k2: 終点\n",
        "- t: 時間"
      ],
      "metadata": {
        "id": "RhPGDP-GTCC_"
      }
    },
    {
      "cell_type": "code",
      "source": [
        "kk_df = pd.read_csv('small_distances.csv')\n",
        "print(len(kk_df))\n",
        "kk_df.head()"
      ],
      "metadata": {
        "colab": {
          "base_uri": "https://localhost:8080/",
          "height": 224
        },
        "id": "yZRHKydGR2sw",
        "outputId": "e73f2b33-99e1-4d18-efcd-2182a66cbc89"
      },
      "execution_count": null,
      "outputs": [
        {
          "output_type": "stream",
          "name": "stdout",
          "text": [
            "25\n"
          ]
        },
        {
          "output_type": "execute_result",
          "data": {
            "text/plain": [
              "  k1  k2         t\n",
              "0  p   p  0.000000\n",
              "1  p  s1  2.000000\n",
              "2  p  s2  2.828427\n",
              "3  p  s3  4.000000\n",
              "4  p  s4  4.472136"
            ],
            "text/html": [
              "\n",
              "  <div id=\"df-9cd34888-1e9e-4d4b-b866-f33e2647b28c\" class=\"colab-df-container\">\n",
              "    <div>\n",
              "<style scoped>\n",
              "    .dataframe tbody tr th:only-of-type {\n",
              "        vertical-align: middle;\n",
              "    }\n",
              "\n",
              "    .dataframe tbody tr th {\n",
              "        vertical-align: top;\n",
              "    }\n",
              "\n",
              "    .dataframe thead th {\n",
              "        text-align: right;\n",
              "    }\n",
              "</style>\n",
              "<table border=\"1\" class=\"dataframe\">\n",
              "  <thead>\n",
              "    <tr style=\"text-align: right;\">\n",
              "      <th></th>\n",
              "      <th>k1</th>\n",
              "      <th>k2</th>\n",
              "      <th>t</th>\n",
              "    </tr>\n",
              "  </thead>\n",
              "  <tbody>\n",
              "    <tr>\n",
              "      <th>0</th>\n",
              "      <td>p</td>\n",
              "      <td>p</td>\n",
              "      <td>0.000000</td>\n",
              "    </tr>\n",
              "    <tr>\n",
              "      <th>1</th>\n",
              "      <td>p</td>\n",
              "      <td>s1</td>\n",
              "      <td>2.000000</td>\n",
              "    </tr>\n",
              "    <tr>\n",
              "      <th>2</th>\n",
              "      <td>p</td>\n",
              "      <td>s2</td>\n",
              "      <td>2.828427</td>\n",
              "    </tr>\n",
              "    <tr>\n",
              "      <th>3</th>\n",
              "      <td>p</td>\n",
              "      <td>s3</td>\n",
              "      <td>4.000000</td>\n",
              "    </tr>\n",
              "    <tr>\n",
              "      <th>4</th>\n",
              "      <td>p</td>\n",
              "      <td>s4</td>\n",
              "      <td>4.472136</td>\n",
              "    </tr>\n",
              "  </tbody>\n",
              "</table>\n",
              "</div>\n",
              "    <div class=\"colab-df-buttons\">\n",
              "\n",
              "  <div class=\"colab-df-container\">\n",
              "    <button class=\"colab-df-convert\" onclick=\"convertToInteractive('df-9cd34888-1e9e-4d4b-b866-f33e2647b28c')\"\n",
              "            title=\"Convert this dataframe to an interactive table.\"\n",
              "            style=\"display:none;\">\n",
              "\n",
              "  <svg xmlns=\"http://www.w3.org/2000/svg\" height=\"24px\" viewBox=\"0 -960 960 960\">\n",
              "    <path d=\"M120-120v-720h720v720H120Zm60-500h600v-160H180v160Zm220 220h160v-160H400v160Zm0 220h160v-160H400v160ZM180-400h160v-160H180v160Zm440 0h160v-160H620v160ZM180-180h160v-160H180v160Zm440 0h160v-160H620v160Z\"/>\n",
              "  </svg>\n",
              "    </button>\n",
              "\n",
              "  <style>\n",
              "    .colab-df-container {\n",
              "      display:flex;\n",
              "      gap: 12px;\n",
              "    }\n",
              "\n",
              "    .colab-df-convert {\n",
              "      background-color: #E8F0FE;\n",
              "      border: none;\n",
              "      border-radius: 50%;\n",
              "      cursor: pointer;\n",
              "      display: none;\n",
              "      fill: #1967D2;\n",
              "      height: 32px;\n",
              "      padding: 0 0 0 0;\n",
              "      width: 32px;\n",
              "    }\n",
              "\n",
              "    .colab-df-convert:hover {\n",
              "      background-color: #E2EBFA;\n",
              "      box-shadow: 0px 1px 2px rgba(60, 64, 67, 0.3), 0px 1px 3px 1px rgba(60, 64, 67, 0.15);\n",
              "      fill: #174EA6;\n",
              "    }\n",
              "\n",
              "    .colab-df-buttons div {\n",
              "      margin-bottom: 4px;\n",
              "    }\n",
              "\n",
              "    [theme=dark] .colab-df-convert {\n",
              "      background-color: #3B4455;\n",
              "      fill: #D2E3FC;\n",
              "    }\n",
              "\n",
              "    [theme=dark] .colab-df-convert:hover {\n",
              "      background-color: #434B5C;\n",
              "      box-shadow: 0px 1px 3px 1px rgba(0, 0, 0, 0.15);\n",
              "      filter: drop-shadow(0px 1px 2px rgba(0, 0, 0, 0.3));\n",
              "      fill: #FFFFFF;\n",
              "    }\n",
              "  </style>\n",
              "\n",
              "    <script>\n",
              "      const buttonEl =\n",
              "        document.querySelector('#df-9cd34888-1e9e-4d4b-b866-f33e2647b28c button.colab-df-convert');\n",
              "      buttonEl.style.display =\n",
              "        google.colab.kernel.accessAllowed ? 'block' : 'none';\n",
              "\n",
              "      async function convertToInteractive(key) {\n",
              "        const element = document.querySelector('#df-9cd34888-1e9e-4d4b-b866-f33e2647b28c');\n",
              "        const dataTable =\n",
              "          await google.colab.kernel.invokeFunction('convertToInteractive',\n",
              "                                                    [key], {});\n",
              "        if (!dataTable) return;\n",
              "\n",
              "        const docLinkHtml = 'Like what you see? Visit the ' +\n",
              "          '<a target=\"_blank\" href=https://colab.research.google.com/notebooks/data_table.ipynb>data table notebook</a>'\n",
              "          + ' to learn more about interactive tables.';\n",
              "        element.innerHTML = '';\n",
              "        dataTable['output_type'] = 'display_data';\n",
              "        await google.colab.output.renderOutput(dataTable, element);\n",
              "        const docLink = document.createElement('div');\n",
              "        docLink.innerHTML = docLinkHtml;\n",
              "        element.appendChild(docLink);\n",
              "      }\n",
              "    </script>\n",
              "  </div>\n",
              "\n",
              "\n",
              "<div id=\"df-7547def3-0bca-4cac-885f-03f54e33ecb8\">\n",
              "  <button class=\"colab-df-quickchart\" onclick=\"quickchart('df-7547def3-0bca-4cac-885f-03f54e33ecb8')\"\n",
              "            title=\"Suggest charts\"\n",
              "            style=\"display:none;\">\n",
              "\n",
              "<svg xmlns=\"http://www.w3.org/2000/svg\" height=\"24px\"viewBox=\"0 0 24 24\"\n",
              "     width=\"24px\">\n",
              "    <g>\n",
              "        <path d=\"M19 3H5c-1.1 0-2 .9-2 2v14c0 1.1.9 2 2 2h14c1.1 0 2-.9 2-2V5c0-1.1-.9-2-2-2zM9 17H7v-7h2v7zm4 0h-2V7h2v10zm4 0h-2v-4h2v4z\"/>\n",
              "    </g>\n",
              "</svg>\n",
              "  </button>\n",
              "\n",
              "<style>\n",
              "  .colab-df-quickchart {\n",
              "      --bg-color: #E8F0FE;\n",
              "      --fill-color: #1967D2;\n",
              "      --hover-bg-color: #E2EBFA;\n",
              "      --hover-fill-color: #174EA6;\n",
              "      --disabled-fill-color: #AAA;\n",
              "      --disabled-bg-color: #DDD;\n",
              "  }\n",
              "\n",
              "  [theme=dark] .colab-df-quickchart {\n",
              "      --bg-color: #3B4455;\n",
              "      --fill-color: #D2E3FC;\n",
              "      --hover-bg-color: #434B5C;\n",
              "      --hover-fill-color: #FFFFFF;\n",
              "      --disabled-bg-color: #3B4455;\n",
              "      --disabled-fill-color: #666;\n",
              "  }\n",
              "\n",
              "  .colab-df-quickchart {\n",
              "    background-color: var(--bg-color);\n",
              "    border: none;\n",
              "    border-radius: 50%;\n",
              "    cursor: pointer;\n",
              "    display: none;\n",
              "    fill: var(--fill-color);\n",
              "    height: 32px;\n",
              "    padding: 0;\n",
              "    width: 32px;\n",
              "  }\n",
              "\n",
              "  .colab-df-quickchart:hover {\n",
              "    background-color: var(--hover-bg-color);\n",
              "    box-shadow: 0 1px 2px rgba(60, 64, 67, 0.3), 0 1px 3px 1px rgba(60, 64, 67, 0.15);\n",
              "    fill: var(--button-hover-fill-color);\n",
              "  }\n",
              "\n",
              "  .colab-df-quickchart-complete:disabled,\n",
              "  .colab-df-quickchart-complete:disabled:hover {\n",
              "    background-color: var(--disabled-bg-color);\n",
              "    fill: var(--disabled-fill-color);\n",
              "    box-shadow: none;\n",
              "  }\n",
              "\n",
              "  .colab-df-spinner {\n",
              "    border: 2px solid var(--fill-color);\n",
              "    border-color: transparent;\n",
              "    border-bottom-color: var(--fill-color);\n",
              "    animation:\n",
              "      spin 1s steps(1) infinite;\n",
              "  }\n",
              "\n",
              "  @keyframes spin {\n",
              "    0% {\n",
              "      border-color: transparent;\n",
              "      border-bottom-color: var(--fill-color);\n",
              "      border-left-color: var(--fill-color);\n",
              "    }\n",
              "    20% {\n",
              "      border-color: transparent;\n",
              "      border-left-color: var(--fill-color);\n",
              "      border-top-color: var(--fill-color);\n",
              "    }\n",
              "    30% {\n",
              "      border-color: transparent;\n",
              "      border-left-color: var(--fill-color);\n",
              "      border-top-color: var(--fill-color);\n",
              "      border-right-color: var(--fill-color);\n",
              "    }\n",
              "    40% {\n",
              "      border-color: transparent;\n",
              "      border-right-color: var(--fill-color);\n",
              "      border-top-color: var(--fill-color);\n",
              "    }\n",
              "    60% {\n",
              "      border-color: transparent;\n",
              "      border-right-color: var(--fill-color);\n",
              "    }\n",
              "    80% {\n",
              "      border-color: transparent;\n",
              "      border-right-color: var(--fill-color);\n",
              "      border-bottom-color: var(--fill-color);\n",
              "    }\n",
              "    90% {\n",
              "      border-color: transparent;\n",
              "      border-bottom-color: var(--fill-color);\n",
              "    }\n",
              "  }\n",
              "</style>\n",
              "\n",
              "  <script>\n",
              "    async function quickchart(key) {\n",
              "      const quickchartButtonEl =\n",
              "        document.querySelector('#' + key + ' button');\n",
              "      quickchartButtonEl.disabled = true;  // To prevent multiple clicks.\n",
              "      quickchartButtonEl.classList.add('colab-df-spinner');\n",
              "      try {\n",
              "        const charts = await google.colab.kernel.invokeFunction(\n",
              "            'suggestCharts', [key], {});\n",
              "      } catch (error) {\n",
              "        console.error('Error during call to suggestCharts:', error);\n",
              "      }\n",
              "      quickchartButtonEl.classList.remove('colab-df-spinner');\n",
              "      quickchartButtonEl.classList.add('colab-df-quickchart-complete');\n",
              "    }\n",
              "    (() => {\n",
              "      let quickchartButtonEl =\n",
              "        document.querySelector('#df-7547def3-0bca-4cac-885f-03f54e33ecb8 button');\n",
              "      quickchartButtonEl.style.display =\n",
              "        google.colab.kernel.accessAllowed ? 'block' : 'none';\n",
              "    })();\n",
              "  </script>\n",
              "</div>\n",
              "\n",
              "    </div>\n",
              "  </div>\n"
            ],
            "application/vnd.google.colaboratory.intrinsic+json": {
              "type": "dataframe",
              "variable_name": "kk_df",
              "summary": "{\n  \"name\": \"kk_df\",\n  \"rows\": 25,\n  \"fields\": [\n    {\n      \"column\": \"k1\",\n      \"properties\": {\n        \"dtype\": \"category\",\n        \"num_unique_values\": 5,\n        \"samples\": [\n          \"s1\",\n          \"s4\",\n          \"s2\"\n        ],\n        \"semantic_type\": \"\",\n        \"description\": \"\"\n      }\n    },\n    {\n      \"column\": \"k2\",\n      \"properties\": {\n        \"dtype\": \"category\",\n        \"num_unique_values\": 5,\n        \"samples\": [\n          \"s1\",\n          \"s4\",\n          \"s2\"\n        ],\n        \"semantic_type\": \"\",\n        \"description\": \"\"\n      }\n    },\n    {\n      \"column\": \"t\",\n      \"properties\": {\n        \"dtype\": \"number\",\n        \"std\": 2.499529811324131,\n        \"min\": 0.0,\n        \"max\": 7.211102550927978,\n        \"num_unique_values\": 8,\n        \"samples\": [\n          2.0,\n          6.0,\n          0.0\n        ],\n        \"semantic_type\": \"\",\n        \"description\": \"\"\n      }\n    }\n  ]\n}"
            }
          },
          "metadata": {},
          "execution_count": 4
        }
      ]
    },
    {
      "cell_type": "markdown",
      "source": [
        "##### small_orders.csv\n",
        "\n",
        "- r: 荷物のID\n",
        "- s: 注文したお店のID\n",
        "- w: 荷物の重量[kg]\n",
        "- b: 荷物を届けて欲しい期間の開始日[day]\n",
        "- e: 荷物を届けて欲しい期間の終了日[day]"
      ],
      "metadata": {
        "id": "EvP4QBH9SKAW"
      }
    },
    {
      "cell_type": "code",
      "source": [
        "r_df = pd.read_csv('small_orders.csv')\n",
        "print(len(r_df))\n",
        "r_df.head()"
      ],
      "metadata": {
        "colab": {
          "base_uri": "https://localhost:8080/",
          "height": 224
        },
        "id": "X9BySlCxR4EU",
        "outputId": "ed247346-caff-4c97-d542-64bd569363de"
      },
      "execution_count": null,
      "outputs": [
        {
          "output_type": "stream",
          "name": "stdout",
          "text": [
            "8\n"
          ]
        },
        {
          "output_type": "execute_result",
          "data": {
            "text/plain": [
              "    r   s     w  b  e\n",
              "0  r1  s1  1000  1  1\n",
              "1  r2  s2  1000  1  2\n",
              "2  r3  s3  1000  2  2\n",
              "3  r4  s4  1500  2  3\n",
              "4  r5  s1  1500  2  4"
            ],
            "text/html": [
              "\n",
              "  <div id=\"df-021125ff-7280-40ed-a3e3-b9e2438784c0\" class=\"colab-df-container\">\n",
              "    <div>\n",
              "<style scoped>\n",
              "    .dataframe tbody tr th:only-of-type {\n",
              "        vertical-align: middle;\n",
              "    }\n",
              "\n",
              "    .dataframe tbody tr th {\n",
              "        vertical-align: top;\n",
              "    }\n",
              "\n",
              "    .dataframe thead th {\n",
              "        text-align: right;\n",
              "    }\n",
              "</style>\n",
              "<table border=\"1\" class=\"dataframe\">\n",
              "  <thead>\n",
              "    <tr style=\"text-align: right;\">\n",
              "      <th></th>\n",
              "      <th>r</th>\n",
              "      <th>s</th>\n",
              "      <th>w</th>\n",
              "      <th>b</th>\n",
              "      <th>e</th>\n",
              "    </tr>\n",
              "  </thead>\n",
              "  <tbody>\n",
              "    <tr>\n",
              "      <th>0</th>\n",
              "      <td>r1</td>\n",
              "      <td>s1</td>\n",
              "      <td>1000</td>\n",
              "      <td>1</td>\n",
              "      <td>1</td>\n",
              "    </tr>\n",
              "    <tr>\n",
              "      <th>1</th>\n",
              "      <td>r2</td>\n",
              "      <td>s2</td>\n",
              "      <td>1000</td>\n",
              "      <td>1</td>\n",
              "      <td>2</td>\n",
              "    </tr>\n",
              "    <tr>\n",
              "      <th>2</th>\n",
              "      <td>r3</td>\n",
              "      <td>s3</td>\n",
              "      <td>1000</td>\n",
              "      <td>2</td>\n",
              "      <td>2</td>\n",
              "    </tr>\n",
              "    <tr>\n",
              "      <th>3</th>\n",
              "      <td>r4</td>\n",
              "      <td>s4</td>\n",
              "      <td>1500</td>\n",
              "      <td>2</td>\n",
              "      <td>3</td>\n",
              "    </tr>\n",
              "    <tr>\n",
              "      <th>4</th>\n",
              "      <td>r5</td>\n",
              "      <td>s1</td>\n",
              "      <td>1500</td>\n",
              "      <td>2</td>\n",
              "      <td>4</td>\n",
              "    </tr>\n",
              "  </tbody>\n",
              "</table>\n",
              "</div>\n",
              "    <div class=\"colab-df-buttons\">\n",
              "\n",
              "  <div class=\"colab-df-container\">\n",
              "    <button class=\"colab-df-convert\" onclick=\"convertToInteractive('df-021125ff-7280-40ed-a3e3-b9e2438784c0')\"\n",
              "            title=\"Convert this dataframe to an interactive table.\"\n",
              "            style=\"display:none;\">\n",
              "\n",
              "  <svg xmlns=\"http://www.w3.org/2000/svg\" height=\"24px\" viewBox=\"0 -960 960 960\">\n",
              "    <path d=\"M120-120v-720h720v720H120Zm60-500h600v-160H180v160Zm220 220h160v-160H400v160Zm0 220h160v-160H400v160ZM180-400h160v-160H180v160Zm440 0h160v-160H620v160ZM180-180h160v-160H180v160Zm440 0h160v-160H620v160Z\"/>\n",
              "  </svg>\n",
              "    </button>\n",
              "\n",
              "  <style>\n",
              "    .colab-df-container {\n",
              "      display:flex;\n",
              "      gap: 12px;\n",
              "    }\n",
              "\n",
              "    .colab-df-convert {\n",
              "      background-color: #E8F0FE;\n",
              "      border: none;\n",
              "      border-radius: 50%;\n",
              "      cursor: pointer;\n",
              "      display: none;\n",
              "      fill: #1967D2;\n",
              "      height: 32px;\n",
              "      padding: 0 0 0 0;\n",
              "      width: 32px;\n",
              "    }\n",
              "\n",
              "    .colab-df-convert:hover {\n",
              "      background-color: #E2EBFA;\n",
              "      box-shadow: 0px 1px 2px rgba(60, 64, 67, 0.3), 0px 1px 3px 1px rgba(60, 64, 67, 0.15);\n",
              "      fill: #174EA6;\n",
              "    }\n",
              "\n",
              "    .colab-df-buttons div {\n",
              "      margin-bottom: 4px;\n",
              "    }\n",
              "\n",
              "    [theme=dark] .colab-df-convert {\n",
              "      background-color: #3B4455;\n",
              "      fill: #D2E3FC;\n",
              "    }\n",
              "\n",
              "    [theme=dark] .colab-df-convert:hover {\n",
              "      background-color: #434B5C;\n",
              "      box-shadow: 0px 1px 3px 1px rgba(0, 0, 0, 0.15);\n",
              "      filter: drop-shadow(0px 1px 2px rgba(0, 0, 0, 0.3));\n",
              "      fill: #FFFFFF;\n",
              "    }\n",
              "  </style>\n",
              "\n",
              "    <script>\n",
              "      const buttonEl =\n",
              "        document.querySelector('#df-021125ff-7280-40ed-a3e3-b9e2438784c0 button.colab-df-convert');\n",
              "      buttonEl.style.display =\n",
              "        google.colab.kernel.accessAllowed ? 'block' : 'none';\n",
              "\n",
              "      async function convertToInteractive(key) {\n",
              "        const element = document.querySelector('#df-021125ff-7280-40ed-a3e3-b9e2438784c0');\n",
              "        const dataTable =\n",
              "          await google.colab.kernel.invokeFunction('convertToInteractive',\n",
              "                                                    [key], {});\n",
              "        if (!dataTable) return;\n",
              "\n",
              "        const docLinkHtml = 'Like what you see? Visit the ' +\n",
              "          '<a target=\"_blank\" href=https://colab.research.google.com/notebooks/data_table.ipynb>data table notebook</a>'\n",
              "          + ' to learn more about interactive tables.';\n",
              "        element.innerHTML = '';\n",
              "        dataTable['output_type'] = 'display_data';\n",
              "        await google.colab.output.renderOutput(dataTable, element);\n",
              "        const docLink = document.createElement('div');\n",
              "        docLink.innerHTML = docLinkHtml;\n",
              "        element.appendChild(docLink);\n",
              "      }\n",
              "    </script>\n",
              "  </div>\n",
              "\n",
              "\n",
              "<div id=\"df-c362c217-c784-4487-9bbe-d35a693cd323\">\n",
              "  <button class=\"colab-df-quickchart\" onclick=\"quickchart('df-c362c217-c784-4487-9bbe-d35a693cd323')\"\n",
              "            title=\"Suggest charts\"\n",
              "            style=\"display:none;\">\n",
              "\n",
              "<svg xmlns=\"http://www.w3.org/2000/svg\" height=\"24px\"viewBox=\"0 0 24 24\"\n",
              "     width=\"24px\">\n",
              "    <g>\n",
              "        <path d=\"M19 3H5c-1.1 0-2 .9-2 2v14c0 1.1.9 2 2 2h14c1.1 0 2-.9 2-2V5c0-1.1-.9-2-2-2zM9 17H7v-7h2v7zm4 0h-2V7h2v10zm4 0h-2v-4h2v4z\"/>\n",
              "    </g>\n",
              "</svg>\n",
              "  </button>\n",
              "\n",
              "<style>\n",
              "  .colab-df-quickchart {\n",
              "      --bg-color: #E8F0FE;\n",
              "      --fill-color: #1967D2;\n",
              "      --hover-bg-color: #E2EBFA;\n",
              "      --hover-fill-color: #174EA6;\n",
              "      --disabled-fill-color: #AAA;\n",
              "      --disabled-bg-color: #DDD;\n",
              "  }\n",
              "\n",
              "  [theme=dark] .colab-df-quickchart {\n",
              "      --bg-color: #3B4455;\n",
              "      --fill-color: #D2E3FC;\n",
              "      --hover-bg-color: #434B5C;\n",
              "      --hover-fill-color: #FFFFFF;\n",
              "      --disabled-bg-color: #3B4455;\n",
              "      --disabled-fill-color: #666;\n",
              "  }\n",
              "\n",
              "  .colab-df-quickchart {\n",
              "    background-color: var(--bg-color);\n",
              "    border: none;\n",
              "    border-radius: 50%;\n",
              "    cursor: pointer;\n",
              "    display: none;\n",
              "    fill: var(--fill-color);\n",
              "    height: 32px;\n",
              "    padding: 0;\n",
              "    width: 32px;\n",
              "  }\n",
              "\n",
              "  .colab-df-quickchart:hover {\n",
              "    background-color: var(--hover-bg-color);\n",
              "    box-shadow: 0 1px 2px rgba(60, 64, 67, 0.3), 0 1px 3px 1px rgba(60, 64, 67, 0.15);\n",
              "    fill: var(--button-hover-fill-color);\n",
              "  }\n",
              "\n",
              "  .colab-df-quickchart-complete:disabled,\n",
              "  .colab-df-quickchart-complete:disabled:hover {\n",
              "    background-color: var(--disabled-bg-color);\n",
              "    fill: var(--disabled-fill-color);\n",
              "    box-shadow: none;\n",
              "  }\n",
              "\n",
              "  .colab-df-spinner {\n",
              "    border: 2px solid var(--fill-color);\n",
              "    border-color: transparent;\n",
              "    border-bottom-color: var(--fill-color);\n",
              "    animation:\n",
              "      spin 1s steps(1) infinite;\n",
              "  }\n",
              "\n",
              "  @keyframes spin {\n",
              "    0% {\n",
              "      border-color: transparent;\n",
              "      border-bottom-color: var(--fill-color);\n",
              "      border-left-color: var(--fill-color);\n",
              "    }\n",
              "    20% {\n",
              "      border-color: transparent;\n",
              "      border-left-color: var(--fill-color);\n",
              "      border-top-color: var(--fill-color);\n",
              "    }\n",
              "    30% {\n",
              "      border-color: transparent;\n",
              "      border-left-color: var(--fill-color);\n",
              "      border-top-color: var(--fill-color);\n",
              "      border-right-color: var(--fill-color);\n",
              "    }\n",
              "    40% {\n",
              "      border-color: transparent;\n",
              "      border-right-color: var(--fill-color);\n",
              "      border-top-color: var(--fill-color);\n",
              "    }\n",
              "    60% {\n",
              "      border-color: transparent;\n",
              "      border-right-color: var(--fill-color);\n",
              "    }\n",
              "    80% {\n",
              "      border-color: transparent;\n",
              "      border-right-color: var(--fill-color);\n",
              "      border-bottom-color: var(--fill-color);\n",
              "    }\n",
              "    90% {\n",
              "      border-color: transparent;\n",
              "      border-bottom-color: var(--fill-color);\n",
              "    }\n",
              "  }\n",
              "</style>\n",
              "\n",
              "  <script>\n",
              "    async function quickchart(key) {\n",
              "      const quickchartButtonEl =\n",
              "        document.querySelector('#' + key + ' button');\n",
              "      quickchartButtonEl.disabled = true;  // To prevent multiple clicks.\n",
              "      quickchartButtonEl.classList.add('colab-df-spinner');\n",
              "      try {\n",
              "        const charts = await google.colab.kernel.invokeFunction(\n",
              "            'suggestCharts', [key], {});\n",
              "      } catch (error) {\n",
              "        console.error('Error during call to suggestCharts:', error);\n",
              "      }\n",
              "      quickchartButtonEl.classList.remove('colab-df-spinner');\n",
              "      quickchartButtonEl.classList.add('colab-df-quickchart-complete');\n",
              "    }\n",
              "    (() => {\n",
              "      let quickchartButtonEl =\n",
              "        document.querySelector('#df-c362c217-c784-4487-9bbe-d35a693cd323 button');\n",
              "      quickchartButtonEl.style.display =\n",
              "        google.colab.kernel.accessAllowed ? 'block' : 'none';\n",
              "    })();\n",
              "  </script>\n",
              "</div>\n",
              "\n",
              "    </div>\n",
              "  </div>\n"
            ],
            "application/vnd.google.colaboratory.intrinsic+json": {
              "type": "dataframe",
              "variable_name": "r_df",
              "summary": "{\n  \"name\": \"r_df\",\n  \"rows\": 8,\n  \"fields\": [\n    {\n      \"column\": \"r\",\n      \"properties\": {\n        \"dtype\": \"string\",\n        \"num_unique_values\": 8,\n        \"samples\": [\n          \"r2\",\n          \"r6\",\n          \"r1\"\n        ],\n        \"semantic_type\": \"\",\n        \"description\": \"\"\n      }\n    },\n    {\n      \"column\": \"s\",\n      \"properties\": {\n        \"dtype\": \"string\",\n        \"num_unique_values\": 4,\n        \"samples\": [\n          \"s2\",\n          \"s4\",\n          \"s1\"\n        ],\n        \"semantic_type\": \"\",\n        \"description\": \"\"\n      }\n    },\n    {\n      \"column\": \"w\",\n      \"properties\": {\n        \"dtype\": \"number\",\n        \"std\": 654,\n        \"min\": 1000,\n        \"max\": 3000,\n        \"num_unique_values\": 3,\n        \"samples\": [\n          1000,\n          1500,\n          3000\n        ],\n        \"semantic_type\": \"\",\n        \"description\": \"\"\n      }\n    },\n    {\n      \"column\": \"b\",\n      \"properties\": {\n        \"dtype\": \"number\",\n        \"std\": 1,\n        \"min\": 1,\n        \"max\": 4,\n        \"num_unique_values\": 4,\n        \"samples\": [\n          2,\n          4,\n          1\n        ],\n        \"semantic_type\": \"\",\n        \"description\": \"\"\n      }\n    },\n    {\n      \"column\": \"e\",\n      \"properties\": {\n        \"dtype\": \"number\",\n        \"std\": 1,\n        \"min\": 1,\n        \"max\": 4,\n        \"num_unique_values\": 4,\n        \"samples\": [\n          2,\n          4,\n          1\n        ],\n        \"semantic_type\": \"\",\n        \"description\": \"\"\n      }\n    }\n  ]\n}"
            }
          },
          "metadata": {},
          "execution_count": 7
        }
      ]
    },
    {
      "cell_type": "markdown",
      "source": [
        "#### ③ 素朴な数理モデルの実装と確認（小規模データ）"
      ],
      "metadata": {
        "id": "KiaVj5WVRwGU"
      }
    },
    {
      "cell_type": "markdown",
      "source": [
        "配送日のリスト"
      ],
      "metadata": {
        "id": "i7oJPLSVebF-"
      }
    },
    {
      "cell_type": "code",
      "source": [
        "D = list(range(r_df.b.min(), r_df.e.max() + 1))\n",
        "D"
      ],
      "metadata": {
        "colab": {
          "base_uri": "https://localhost:8080/"
        },
        "id": "uNFFqKq7eWTK",
        "outputId": "ea67686c-536c-46da-cc70-bc7d539ca50c"
      },
      "execution_count": null,
      "outputs": [
        {
          "output_type": "execute_result",
          "data": {
            "text/plain": [
              "[1, 2, 3, 4]"
            ]
          },
          "metadata": {},
          "execution_count": 8
        }
      ]
    },
    {
      "cell_type": "markdown",
      "source": [
        "配送センター"
      ],
      "metadata": {
        "id": "HVUwn5EWeo96"
      }
    },
    {
      "cell_type": "code",
      "source": [
        "p = k_df[k_df.depo_flag == 1].k.tolist()[0] # なんでわざわざ[0]を取り出してる？ → 後で使うからっぽい\n",
        "p"
      ],
      "metadata": {
        "colab": {
          "base_uri": "https://localhost:8080/",
          "height": 35
        },
        "id": "YGg3XjMneoGy",
        "outputId": "964cc21a-d7f8-43d2-95c1-9bf70f728f30"
      },
      "execution_count": null,
      "outputs": [
        {
          "output_type": "execute_result",
          "data": {
            "text/plain": [
              "'p'"
            ],
            "application/vnd.google.colaboratory.intrinsic+json": {
              "type": "string"
            }
          },
          "metadata": {},
          "execution_count": 18
        }
      ]
    },
    {
      "cell_type": "markdown",
      "source": [
        "お店のリスト"
      ],
      "metadata": {
        "id": "JKLoKcuTev7w"
      }
    },
    {
      "cell_type": "code",
      "source": [
        "S = k_df[k_df.depo_flag == 0].k.tolist()\n",
        "S"
      ],
      "metadata": {
        "colab": {
          "base_uri": "https://localhost:8080/"
        },
        "id": "8xzH1wSdevYn",
        "outputId": "5d25b00d-1092-4555-b8a5-64ee0dc4835e"
      },
      "execution_count": null,
      "outputs": [
        {
          "output_type": "execute_result",
          "data": {
            "text/plain": [
              "['s1', 's2', 's3', 's4']"
            ]
          },
          "metadata": {},
          "execution_count": 14
        }
      ]
    },
    {
      "cell_type": "markdown",
      "source": [
        "地点のリスト"
      ],
      "metadata": {
        "id": "zL71jw9dfQ-j"
      }
    },
    {
      "cell_type": "code",
      "source": [
        "K = [p] + S\n",
        "K"
      ],
      "metadata": {
        "colab": {
          "base_uri": "https://localhost:8080/"
        },
        "id": "x3n-IGLCfTI8",
        "outputId": "34dfe820-d33a-4ae5-87fe-a2169303836f"
      },
      "execution_count": null,
      "outputs": [
        {
          "output_type": "execute_result",
          "data": {
            "text/plain": [
              "['p', 's1', 's2', 's3', 's4']"
            ]
          },
          "metadata": {},
          "execution_count": 19
        }
      ]
    },
    {
      "cell_type": "markdown",
      "source": [
        "荷物のリスト"
      ],
      "metadata": {
        "id": "WAyrV_opfn31"
      }
    },
    {
      "cell_type": "code",
      "source": [
        "R = r_df.r.tolist()\n",
        "R"
      ],
      "metadata": {
        "colab": {
          "base_uri": "https://localhost:8080/"
        },
        "id": "Jbrsk7xTfpgz",
        "outputId": "5ad5bb4f-7c77-4bd7-b615-f69a359ef4b3"
      },
      "execution_count": null,
      "outputs": [
        {
          "output_type": "execute_result",
          "data": {
            "text/plain": [
              "['r1', 'r2', 'r3', 'r4', 'r5', 'r6', 'r7', 'r8']"
            ]
          },
          "metadata": {},
          "execution_count": 21
        }
      ]
    },
    {
      "cell_type": "markdown",
      "source": [
        "各変数を定義するために必要なリスト"
      ],
      "metadata": {
        "id": "oNlmTMChftfz"
      }
    },
    {
      "cell_type": "code",
      "source": [
        "DKK = [(d,k1,k2) for d in D for k1 in K for k2 in K]\n",
        "DKK[:5]"
      ],
      "metadata": {
        "colab": {
          "base_uri": "https://localhost:8080/"
        },
        "id": "iFdpjo-yfvwO",
        "outputId": "fe310b49-9474-4150-b4f5-4cb71857bd85"
      },
      "execution_count": null,
      "outputs": [
        {
          "output_type": "execute_result",
          "data": {
            "text/plain": [
              "[(1, 'p', 'p'), (1, 'p', 's1'), (1, 'p', 's2'), (1, 'p', 's3'), (1, 'p', 's4')]"
            ]
          },
          "metadata": {},
          "execution_count": 35
        }
      ]
    },
    {
      "cell_type": "markdown",
      "source": [
        "おまけ：頭が悪いので、これくらい冗長に書かないとパッとわからない…"
      ],
      "metadata": {
        "id": "3e4KKAwrgYpw"
      }
    },
    {
      "cell_type": "code",
      "source": [
        "DKK_2 = []\n",
        "for d in D:\n",
        "    for k1 in K:\n",
        "        for k2 in K:\n",
        "            DKK_2.append((d, k1, k2))\n",
        "\n",
        "DKK_2[:5]"
      ],
      "metadata": {
        "colab": {
          "base_uri": "https://localhost:8080/"
        },
        "id": "GS5YyVtIgTCT",
        "outputId": "e5cec658-6905-405c-c096-72e21a086cc6"
      },
      "execution_count": null,
      "outputs": [
        {
          "output_type": "execute_result",
          "data": {
            "text/plain": [
              "[(1, 'p', 'p'), (1, 'p', 's1'), (1, 'p', 's2'), (1, 'p', 's3'), (1, 'p', 's4')]"
            ]
          },
          "metadata": {},
          "execution_count": 36
        }
      ]
    },
    {
      "cell_type": "code",
      "source": [
        "DR = [(d,r) for d in D for r in R]\n",
        "DR[:5]"
      ],
      "metadata": {
        "colab": {
          "base_uri": "https://localhost:8080/"
        },
        "id": "nTCtbDHef77c",
        "outputId": "70b4a4a1-e540-4b61-f8b1-ac05d0a42678"
      },
      "execution_count": null,
      "outputs": [
        {
          "output_type": "execute_result",
          "data": {
            "text/plain": [
              "[(1, 'r1'), (1, 'r2'), (1, 'r3'), (1, 'r4'), (1, 'r5')]"
            ]
          },
          "metadata": {},
          "execution_count": 37
        }
      ]
    },
    {
      "cell_type": "code",
      "source": [
        "DK = [(d,k) for d in D for k in K]\n",
        "DK[:5]"
      ],
      "metadata": {
        "colab": {
          "base_uri": "https://localhost:8080/"
        },
        "id": "v3tqJ9xmgxfq",
        "outputId": "f0bd9c08-9e09-437f-b0e5-91731017c048"
      },
      "execution_count": null,
      "outputs": [
        {
          "output_type": "execute_result",
          "data": {
            "text/plain": [
              "[(1, 'p'), (1, 's1'), (1, 's2'), (1, 's3'), (1, 's4')]"
            ]
          },
          "metadata": {},
          "execution_count": 38
        }
      ]
    },
    {
      "cell_type": "markdown",
      "source": [
        "定数を辞書形式で作成。\n",
        "\n",
        "- R2S: 荷物の配送先のお店を表す辞書\n",
        "- R2W: 荷物の重量を表す辞書\n",
        "- R2B: 荷物の指定配送期間の開始日を表す辞書\n",
        "- R2E: 荷物の指定配送期間の終了日を表す辞書\n",
        "- KK2T: 地点間の移動時間を表す辞書"
      ],
      "metadata": {
        "id": "gErqVLyFhGo4"
      }
    },
    {
      "cell_type": "code",
      "source": [
        "r_df.itertuples()"
      ],
      "metadata": {
        "colab": {
          "base_uri": "https://localhost:8080/"
        },
        "id": "Gf63N7Tchnix",
        "outputId": "df9e2f60-0b8b-44e2-e918-4bce7b947678"
      },
      "execution_count": null,
      "outputs": [
        {
          "output_type": "execute_result",
          "data": {
            "text/plain": [
              "<map at 0x7f51e6fe6320>"
            ]
          },
          "metadata": {},
          "execution_count": 42
        }
      ]
    },
    {
      "cell_type": "code",
      "source": [
        "R2S = {row.r:row.s for row in r_df.itertuples()}\n",
        "R2S"
      ],
      "metadata": {
        "colab": {
          "base_uri": "https://localhost:8080/"
        },
        "id": "Qv7VJUgdg5Pw",
        "outputId": "429fb4bd-ca8c-43cb-ffbb-b44710abc1c0"
      },
      "execution_count": null,
      "outputs": [
        {
          "output_type": "execute_result",
          "data": {
            "text/plain": [
              "{'r1': 's1',\n",
              " 'r2': 's2',\n",
              " 'r3': 's3',\n",
              " 'r4': 's4',\n",
              " 'r5': 's1',\n",
              " 'r6': 's2',\n",
              " 'r7': 's3',\n",
              " 'r8': 's4'}"
            ]
          },
          "metadata": {},
          "execution_count": 40
        }
      ]
    },
    {
      "cell_type": "code",
      "source": [
        "R2W = {row.r:row.w for row in r_df.itertuples()}\n",
        "R2W"
      ],
      "metadata": {
        "colab": {
          "base_uri": "https://localhost:8080/"
        },
        "id": "hnT--Urlh7IU",
        "outputId": "5ee0e7d7-8875-4865-d764-983312c699f0"
      },
      "execution_count": null,
      "outputs": [
        {
          "output_type": "execute_result",
          "data": {
            "text/plain": [
              "{'r1': 1000,\n",
              " 'r2': 1000,\n",
              " 'r3': 1000,\n",
              " 'r4': 1500,\n",
              " 'r5': 1500,\n",
              " 'r6': 1500,\n",
              " 'r7': 1500,\n",
              " 'r8': 3000}"
            ]
          },
          "metadata": {},
          "execution_count": 43
        }
      ]
    },
    {
      "cell_type": "code",
      "source": [
        "R2B = {row.r:row.b for row in r_df.itertuples()}\n",
        "R2B"
      ],
      "metadata": {
        "colab": {
          "base_uri": "https://localhost:8080/"
        },
        "id": "4-opF3_siHq-",
        "outputId": "0b91504f-5ec1-454a-abe6-47c0df8b10f9"
      },
      "execution_count": null,
      "outputs": [
        {
          "output_type": "execute_result",
          "data": {
            "text/plain": [
              "{'r1': 1, 'r2': 1, 'r3': 2, 'r4': 2, 'r5': 2, 'r6': 3, 'r7': 3, 'r8': 4}"
            ]
          },
          "metadata": {},
          "execution_count": 44
        }
      ]
    },
    {
      "cell_type": "code",
      "source": [
        "R2E = {row.r:row.e for row in r_df.itertuples()}\n",
        "R2E"
      ],
      "metadata": {
        "colab": {
          "base_uri": "https://localhost:8080/"
        },
        "id": "jUYDMUiziQP_",
        "outputId": "aedb1d67-ec65-4255-f409-c37cabd6dbf6"
      },
      "execution_count": null,
      "outputs": [
        {
          "output_type": "execute_result",
          "data": {
            "text/plain": [
              "{'r1': 1, 'r2': 2, 'r3': 2, 'r4': 3, 'r5': 4, 'r6': 4, 'r7': 4, 'r8': 4}"
            ]
          },
          "metadata": {},
          "execution_count": 45
        }
      ]
    },
    {
      "cell_type": "code",
      "source": [
        "KK2T = {(row.k1, row.k2):row.t for row in kk_df.itertuples()}\n",
        "KK2T"
      ],
      "metadata": {
        "colab": {
          "base_uri": "https://localhost:8080/"
        },
        "id": "6CLygwMOiVTe",
        "outputId": "c271f10d-1f2b-40c0-fca6-3c871dc88208"
      },
      "execution_count": null,
      "outputs": [
        {
          "output_type": "execute_result",
          "data": {
            "text/plain": [
              "{('p', 'p'): 0.0,\n",
              " ('p', 's1'): 2.0,\n",
              " ('p', 's2'): 2.8284271247461903,\n",
              " ('p', 's3'): 4.0,\n",
              " ('p', 's4'): 4.47213595499958,\n",
              " ('s1', 'p'): 2.0,\n",
              " ('s1', 's1'): 0.0,\n",
              " ('s1', 's2'): 2.0,\n",
              " ('s1', 's3'): 6.0,\n",
              " ('s1', 's4'): 6.324555320336759,\n",
              " ('s2', 'p'): 2.8284271247461903,\n",
              " ('s2', 's1'): 2.0,\n",
              " ('s2', 's2'): 0.0,\n",
              " ('s2', 's3'): 6.324555320336759,\n",
              " ('s2', 's4'): 7.211102550927978,\n",
              " ('s3', 'p'): 4.0,\n",
              " ('s3', 's1'): 6.0,\n",
              " ('s3', 's2'): 6.324555320336759,\n",
              " ('s3', 's3'): 0.0,\n",
              " ('s3', 's4'): 2.0,\n",
              " ('s4', 'p'): 4.47213595499958,\n",
              " ('s4', 's1'): 6.324555320336759,\n",
              " ('s4', 's2'): 7.211102550927978,\n",
              " ('s4', 's3'): 2.0,\n",
              " ('s4', 's4'): 0.0}"
            ]
          },
          "metadata": {},
          "execution_count": 46
        }
      ]
    },
    {
      "cell_type": "markdown",
      "source": [
        "**☆「素朴な数理モデル」の実装**"
      ],
      "metadata": {
        "id": "BEuf-Lykiofn"
      }
    },
    {
      "cell_type": "code",
      "source": [
        "!pip install -qq pulp"
      ],
      "metadata": {
        "colab": {
          "base_uri": "https://localhost:8080/"
        },
        "id": "IjYZfoR7i7mR",
        "outputId": "a934631b-8646-445c-84a2-9de5d982cec7"
      },
      "execution_count": null,
      "outputs": [
        {
          "output_type": "stream",
          "name": "stdout",
          "text": [
            "\u001b[2K     \u001b[90m━━━━━━━━━━━━━━━━━━━━━━━━━━━━━━━━━━━━━━━━\u001b[0m \u001b[32m17.7/17.7 MB\u001b[0m \u001b[31m41.2 MB/s\u001b[0m eta \u001b[36m0:00:00\u001b[0m\n",
            "\u001b[?25h"
          ]
        }
      ]
    },
    {
      "cell_type": "markdown",
      "source": [
        "制約式を1つずつ追加して結果を吟味するような進め方が理想。\n",
        "\n",
        "ここでは省略して一気に実装。"
      ],
      "metadata": {
        "id": "mFhKGsPRRwJL"
      }
    },
    {
      "cell_type": "code",
      "source": [
        "import pulp\n",
        "\n",
        "prob = pulp.LpProblem('vrp_small', pulp.LpMinimize)\n",
        "\n",
        "x = pulp.LpVariable.dicts('x', DKK, cat='Binary')\n",
        "u = pulp.LpVariable.dicts('u', DK, cat='Integer', lowBound=0)\n",
        "y = pulp.LpVariable.dicts('y', DR, cat='Binary')\n",
        "h = pulp.LpVariable.dicts('h', D, cat='Continuous', lowBound=0)\n",
        "\n",
        "for d in D:\n",
        "    for k1 in K:\n",
        "        # (A-1) 各配送日について、ある地点に移動する数とその地点から移動する数は一致\n",
        "        prob += pulp.lpSum([x[d,k1,k2] for k2 in K]) == pulp.lpSum([x[d,k2,k1] for k2 in K])\n",
        "\n",
        "        # (A-2) 各配送日について、地点に訪問する数は高々1回まで\n",
        "        prob += pulp.lpSum([x[d,k2,k1] for k2 in K]) <= 1\n",
        "\n",
        "for d in D:\n",
        "    # (B-1) 各配送日について、配送センターは出発地点(0番目に訪問)\n",
        "    prob += u[d,p] == 0\n",
        "\n",
        "    # (B-2) 各配送日における、地点への訪問順番の上下限値\n",
        "    for s in S:\n",
        "        prob += 1 <= u[d,s]\n",
        "        prob += u[d,s] <= len(K) - 1\n",
        "\n",
        "    # (B-3) 各配送日について、お店間だけのサイクルを禁止\n",
        "    for s1 in S:\n",
        "        for s2 in S:\n",
        "            prob += u[d,s1] + 1 <= u[d,s2] + (len(K) - 1) * (1 - x[d,s1,s2])\n",
        "\n",
        "# (C) 各荷物は、自社配送するなら期間内で高々1回まで\n",
        "for r in R:\n",
        "    prob += pulp.lpSum([y[d,r] for d in D]) <= 1\n",
        "\n",
        "# (D) 各配送日について、荷物を自社配送するなら、配送先のお店に訪問\n",
        "for d in D:\n",
        "    for r in R:\n",
        "        tar_s = R2S[r]\n",
        "        prob += y[d,r] <= pulp.lpSum(x[d,k,tar_s] for k in K)\n",
        "\n",
        "# (E) 各配送日について、荷物の重量は4,000[kg]以下\n",
        "for d in D:\n",
        "    prob += pulp.lpSum([y[d,r] * R2W[r] for r in R]) <= 4000\n",
        "\n",
        "# (F) 各配送日について、ドライバーの残業時間は所定労働時間の8時間を差し引いた労働時間\n",
        "for d in D:\n",
        "    prob += pulp.lpSum([KK2T[k1,k2] * x[d,k1,k2] for k1 in K for k2 in K]) - 8 <= h[d]\n",
        "\n",
        "# (G) 各配送日について、ドライバーの残業時間は3時間以内\n",
        "for d in D:\n",
        "    prob += h[d] <= 3\n",
        "\n",
        "# (H) 各荷物は指定配送期間外の配送を禁止\n",
        "for r in R:\n",
        "    for d in D:\n",
        "        if d < R2B[r]:\n",
        "            prob += y[d,r] == 0\n",
        "        if R2E[r] < d:\n",
        "            prob += y[d,r] == 0\n",
        "\n",
        "# (I) 配送費用（残業費用+外注費用）を最小化する\n",
        "zangyo = pulp.lpSum([3000 * h[d] for d in D])\n",
        "gaityu = pulp.lpSum([46 * R2W[r] * (1 - pulp.lpSum(y[d,r] for d in D)) for r in R])\n",
        "prob += zangyo + gaityu\n",
        "\n",
        "# 求解（明示的にCBCソルバーを指定する）\n",
        "solver = pulp.PULP_CBC_CMD()\n",
        "status = prob.solve(solver)\n",
        "print('ステータス:', pulp.LpStatus[status])\n",
        "\n",
        "# 結果の表示\n",
        "print('残業費用:{:.0f}[円]'.format(zangyo.value()))\n",
        "print('外注費用:{:.0f}[円]'.format(gaityu.value()))\n",
        "print('費用合計:{:.0f}[円]'.format(zangyo.value() + gaityu.value()))"
      ],
      "metadata": {
        "colab": {
          "base_uri": "https://localhost:8080/"
        },
        "id": "zczT7bByi5m5",
        "outputId": "a77595ed-f902-462b-8bf4-cbdffbe88f27"
      },
      "execution_count": null,
      "outputs": [
        {
          "output_type": "stream",
          "name": "stdout",
          "text": [
            "ステータス: Optimal\n",
            "残業費用:10249[円]\n",
            "外注費用:69000[円]\n",
            "費用合計:79249[円]\n"
          ]
        }
      ]
    },
    {
      "cell_type": "markdown",
      "source": [
        "コードのポイントは以下\n",
        "\n",
        "```python\n",
        "solver = pulp.PULP_CBC_CMD()\n",
        "status = prob.solve(solver)\n",
        "```\n",
        "\n",
        "大きな問題のための準備。大きな問題のときにまた注意する。"
      ],
      "metadata": {
        "id": "LvmECY_OKgu4"
      }
    },
    {
      "cell_type": "markdown",
      "source": [
        "配送日ごとの配送ルートを確認"
      ],
      "metadata": {
        "id": "AYoyOvIMRwME"
      }
    },
    {
      "cell_type": "code",
      "source": [
        "for d in D:\n",
        "    X = [(k1,k2) for k1 in K for k2 in K if x[d,k1,k2].value() == 1]\n",
        "\n",
        "    time = sum([KK2T[k1,k2] for k1,k2 in X])\n",
        "    print('---配送日:{}日目---'.format(d))\n",
        "    print('配送重量:{}[kg]'.format(sum([y[d,r].value() * R2W[r] for r in R])))\n",
        "    print('移動時間:{:.2f}[h]'.format(time))\n",
        "    print('残業時間:{:.2f}[h]'.format(h[d].value()))\n",
        "    print('x:', X)\n",
        "\n",
        "    # 移動する地点の順番のリストを作成\n",
        "    tar = p\n",
        "    Route = [p]\n",
        "    while len(X) >= 1:\n",
        "        for k1,k2 in X:\n",
        "            if k1 == tar:\n",
        "                tar = k2\n",
        "                Route.append(k2)\n",
        "                X.remove((k1,k2))\n",
        "\n",
        "    print('Route:', Route)\n",
        "    print('u:', [u[d,k].value() for k in Route])\n",
        "    print('配送ルート:', '->'.join(Route) + '\\n')"
      ],
      "metadata": {
        "colab": {
          "base_uri": "https://localhost:8080/"
        },
        "id": "P3E0BLj3CTHE",
        "outputId": "114e3937-d04b-48dc-b5b5-13c88a83e023"
      },
      "execution_count": null,
      "outputs": [
        {
          "output_type": "stream",
          "name": "stdout",
          "text": [
            "---配送日:1日目---\n",
            "配送重量:2000.0[kg]\n",
            "移動時間:6.83[h]\n",
            "残業時間:0.00[h]\n",
            "x: [('p', 's2'), ('s1', 'p'), ('s2', 's1')]\n",
            "Route: ['p', 's2', 's1', 'p']\n",
            "u: [0.0, 1.0, 4.0, 0.0]\n",
            "配送ルート: p->s2->s1->p\n",
            "\n",
            "---配送日:2日目---\n",
            "配送重量:2500.0[kg]\n",
            "移動時間:10.47[h]\n",
            "残業時間:2.47[h]\n",
            "x: [('p', 's3'), ('s3', 's4'), ('s4', 'p')]\n",
            "Route: ['p', 's3', 's4', 'p']\n",
            "u: [0.0, 1.0, 4.0, 0.0]\n",
            "配送ルート: p->s3->s4->p\n",
            "\n",
            "---配送日:3日目---\n",
            "配送重量:3000.0[kg]\n",
            "移動時間:6.83[h]\n",
            "残業時間:0.00[h]\n",
            "x: [('p', 's1'), ('s1', 's2'), ('s2', 'p')]\n",
            "Route: ['p', 's1', 's2', 'p']\n",
            "u: [0.0, 1.0, 4.0, 0.0]\n",
            "配送ルート: p->s1->s2->p\n",
            "\n",
            "---配送日:4日目---\n",
            "配送重量:3000.0[kg]\n",
            "移動時間:8.94[h]\n",
            "残業時間:0.94[h]\n",
            "x: [('p', 's4'), ('s4', 'p')]\n",
            "Route: ['p', 's4', 'p']\n",
            "u: [0.0, 1.0, 0.0]\n",
            "配送ルート: p->s4->p\n",
            "\n"
          ]
        }
      ]
    },
    {
      "cell_type": "markdown",
      "source": [
        "- トラックに積む荷物の重量は全て4,000[kg]以下\n",
        "- 移動時間は全て 11時間（残業3時間）未満\n",
        "- 配送ルートは「p,s2,s1,p」「p,s3,s4,p」「p,s1,s2,p」,「p,s4,p」であり、すべて「配送センターから出発してお店を訪問して、配送センターに戻ってくる」ルートである\n",
        "- 補助変数uの値は訪問する順番を表している\n"
      ],
      "metadata": {
        "id": "QARFHvmlDTY2"
      }
    },
    {
      "cell_type": "markdown",
      "source": [
        "荷物ごとの配送計画を確認する"
      ],
      "metadata": {
        "id": "qsNv6ZBsRwO0"
      }
    },
    {
      "cell_type": "code",
      "source": [
        "for r in R:\n",
        "    # 自社トラックで配送したかどうかのフラグ\n",
        "    owned_truck_flag = sum([y[d,r].value() for d in D])\n",
        "    if owned_truck_flag:\n",
        "        # 配送日の取得\n",
        "        tar_d = [d for d in D if y[d,r].value() == 1][0]\n",
        "        text = '荷物{}(お店{},{}[kg])-配送日:{}日目'.format(r, R2S[r], R2W[r], tar_d)\n",
        "    else:\n",
        "        # 外注費用の取得\n",
        "        gc = 46 * R2W[r]\n",
        "        text = '荷物{}(お店{},{}[kg])-外注費用:{}[円]'.format(r, R2S[r], R2W[r], gc)\n",
        "\n",
        "    print(text)"
      ],
      "metadata": {
        "colab": {
          "base_uri": "https://localhost:8080/"
        },
        "id": "iuz_ZS1DKCze",
        "outputId": "3cd11778-e9ab-4bb2-ddab-cc7f60fc6f9e"
      },
      "execution_count": null,
      "outputs": [
        {
          "output_type": "stream",
          "name": "stdout",
          "text": [
            "荷物r1(お店s1,1000[kg])-配送日:1日目\n",
            "荷物r2(お店s2,1000[kg])-配送日:1日目\n",
            "荷物r3(お店s3,1000[kg])-配送日:2日目\n",
            "荷物r4(お店s4,1500[kg])-配送日:2日目\n",
            "荷物r5(お店s1,1500[kg])-配送日:3日目\n",
            "荷物r6(お店s2,1500[kg])-配送日:3日目\n",
            "荷物r7(お店s3,1500[kg])-外注費用:69000[円]\n",
            "荷物r8(お店s4,3000[kg])-配送日:4日目\n"
          ]
        }
      ]
    },
    {
      "cell_type": "markdown",
      "source": [
        "#### ④ 素朴な数理モデルの実験（中規模データ）"
      ],
      "metadata": {
        "id": "zjPVEYk4RwRe"
      }
    },
    {
      "cell_type": "markdown",
      "source": [
        "データを読み込む"
      ],
      "metadata": {
        "id": "fED-5z9KRwUE"
      }
    },
    {
      "cell_type": "code",
      "source": [
        "k_df = pd.read_csv('locations.csv')\n",
        "print(len(k_df))\n",
        "#k_df.head()\n",
        "k_df"
      ],
      "metadata": {
        "colab": {
          "base_uri": "https://localhost:8080/",
          "height": 381
        },
        "id": "uKlzjLt9LA1A",
        "outputId": "d6e1bc54-eb15-44e1-b72d-57a32ffb9ecd"
      },
      "execution_count": null,
      "outputs": [
        {
          "output_type": "stream",
          "name": "stdout",
          "text": [
            "10\n"
          ]
        },
        {
          "output_type": "execute_result",
          "data": {
            "text/plain": [
              "    k         x         y  depo_flag\n",
              "0   p  0.000000  0.000000          1\n",
              "1  s1  0.529473 -0.397044          0\n",
              "2  s2  2.916925 -0.302511          0\n",
              "3  s3  0.131532  1.898977          0\n",
              "4  s4 -1.091079 -0.709964          0\n",
              "5  s5  0.225124 -0.395844          0\n",
              "6  s6 -1.431318 -0.245852          0\n",
              "7  s7 -0.430595  0.724166          0\n",
              "8  s8 -1.997746 -0.840215          0\n",
              "9  s9  1.381669  2.228797          0"
            ],
            "text/html": [
              "\n",
              "  <div id=\"df-8ad89cb5-ece1-41e4-adfc-c4de01f1bf4a\" class=\"colab-df-container\">\n",
              "    <div>\n",
              "<style scoped>\n",
              "    .dataframe tbody tr th:only-of-type {\n",
              "        vertical-align: middle;\n",
              "    }\n",
              "\n",
              "    .dataframe tbody tr th {\n",
              "        vertical-align: top;\n",
              "    }\n",
              "\n",
              "    .dataframe thead th {\n",
              "        text-align: right;\n",
              "    }\n",
              "</style>\n",
              "<table border=\"1\" class=\"dataframe\">\n",
              "  <thead>\n",
              "    <tr style=\"text-align: right;\">\n",
              "      <th></th>\n",
              "      <th>k</th>\n",
              "      <th>x</th>\n",
              "      <th>y</th>\n",
              "      <th>depo_flag</th>\n",
              "    </tr>\n",
              "  </thead>\n",
              "  <tbody>\n",
              "    <tr>\n",
              "      <th>0</th>\n",
              "      <td>p</td>\n",
              "      <td>0.000000</td>\n",
              "      <td>0.000000</td>\n",
              "      <td>1</td>\n",
              "    </tr>\n",
              "    <tr>\n",
              "      <th>1</th>\n",
              "      <td>s1</td>\n",
              "      <td>0.529473</td>\n",
              "      <td>-0.397044</td>\n",
              "      <td>0</td>\n",
              "    </tr>\n",
              "    <tr>\n",
              "      <th>2</th>\n",
              "      <td>s2</td>\n",
              "      <td>2.916925</td>\n",
              "      <td>-0.302511</td>\n",
              "      <td>0</td>\n",
              "    </tr>\n",
              "    <tr>\n",
              "      <th>3</th>\n",
              "      <td>s3</td>\n",
              "      <td>0.131532</td>\n",
              "      <td>1.898977</td>\n",
              "      <td>0</td>\n",
              "    </tr>\n",
              "    <tr>\n",
              "      <th>4</th>\n",
              "      <td>s4</td>\n",
              "      <td>-1.091079</td>\n",
              "      <td>-0.709964</td>\n",
              "      <td>0</td>\n",
              "    </tr>\n",
              "    <tr>\n",
              "      <th>5</th>\n",
              "      <td>s5</td>\n",
              "      <td>0.225124</td>\n",
              "      <td>-0.395844</td>\n",
              "      <td>0</td>\n",
              "    </tr>\n",
              "    <tr>\n",
              "      <th>6</th>\n",
              "      <td>s6</td>\n",
              "      <td>-1.431318</td>\n",
              "      <td>-0.245852</td>\n",
              "      <td>0</td>\n",
              "    </tr>\n",
              "    <tr>\n",
              "      <th>7</th>\n",
              "      <td>s7</td>\n",
              "      <td>-0.430595</td>\n",
              "      <td>0.724166</td>\n",
              "      <td>0</td>\n",
              "    </tr>\n",
              "    <tr>\n",
              "      <th>8</th>\n",
              "      <td>s8</td>\n",
              "      <td>-1.997746</td>\n",
              "      <td>-0.840215</td>\n",
              "      <td>0</td>\n",
              "    </tr>\n",
              "    <tr>\n",
              "      <th>9</th>\n",
              "      <td>s9</td>\n",
              "      <td>1.381669</td>\n",
              "      <td>2.228797</td>\n",
              "      <td>0</td>\n",
              "    </tr>\n",
              "  </tbody>\n",
              "</table>\n",
              "</div>\n",
              "    <div class=\"colab-df-buttons\">\n",
              "\n",
              "  <div class=\"colab-df-container\">\n",
              "    <button class=\"colab-df-convert\" onclick=\"convertToInteractive('df-8ad89cb5-ece1-41e4-adfc-c4de01f1bf4a')\"\n",
              "            title=\"Convert this dataframe to an interactive table.\"\n",
              "            style=\"display:none;\">\n",
              "\n",
              "  <svg xmlns=\"http://www.w3.org/2000/svg\" height=\"24px\" viewBox=\"0 -960 960 960\">\n",
              "    <path d=\"M120-120v-720h720v720H120Zm60-500h600v-160H180v160Zm220 220h160v-160H400v160Zm0 220h160v-160H400v160ZM180-400h160v-160H180v160Zm440 0h160v-160H620v160ZM180-180h160v-160H180v160Zm440 0h160v-160H620v160Z\"/>\n",
              "  </svg>\n",
              "    </button>\n",
              "\n",
              "  <style>\n",
              "    .colab-df-container {\n",
              "      display:flex;\n",
              "      gap: 12px;\n",
              "    }\n",
              "\n",
              "    .colab-df-convert {\n",
              "      background-color: #E8F0FE;\n",
              "      border: none;\n",
              "      border-radius: 50%;\n",
              "      cursor: pointer;\n",
              "      display: none;\n",
              "      fill: #1967D2;\n",
              "      height: 32px;\n",
              "      padding: 0 0 0 0;\n",
              "      width: 32px;\n",
              "    }\n",
              "\n",
              "    .colab-df-convert:hover {\n",
              "      background-color: #E2EBFA;\n",
              "      box-shadow: 0px 1px 2px rgba(60, 64, 67, 0.3), 0px 1px 3px 1px rgba(60, 64, 67, 0.15);\n",
              "      fill: #174EA6;\n",
              "    }\n",
              "\n",
              "    .colab-df-buttons div {\n",
              "      margin-bottom: 4px;\n",
              "    }\n",
              "\n",
              "    [theme=dark] .colab-df-convert {\n",
              "      background-color: #3B4455;\n",
              "      fill: #D2E3FC;\n",
              "    }\n",
              "\n",
              "    [theme=dark] .colab-df-convert:hover {\n",
              "      background-color: #434B5C;\n",
              "      box-shadow: 0px 1px 3px 1px rgba(0, 0, 0, 0.15);\n",
              "      filter: drop-shadow(0px 1px 2px rgba(0, 0, 0, 0.3));\n",
              "      fill: #FFFFFF;\n",
              "    }\n",
              "  </style>\n",
              "\n",
              "    <script>\n",
              "      const buttonEl =\n",
              "        document.querySelector('#df-8ad89cb5-ece1-41e4-adfc-c4de01f1bf4a button.colab-df-convert');\n",
              "      buttonEl.style.display =\n",
              "        google.colab.kernel.accessAllowed ? 'block' : 'none';\n",
              "\n",
              "      async function convertToInteractive(key) {\n",
              "        const element = document.querySelector('#df-8ad89cb5-ece1-41e4-adfc-c4de01f1bf4a');\n",
              "        const dataTable =\n",
              "          await google.colab.kernel.invokeFunction('convertToInteractive',\n",
              "                                                    [key], {});\n",
              "        if (!dataTable) return;\n",
              "\n",
              "        const docLinkHtml = 'Like what you see? Visit the ' +\n",
              "          '<a target=\"_blank\" href=https://colab.research.google.com/notebooks/data_table.ipynb>data table notebook</a>'\n",
              "          + ' to learn more about interactive tables.';\n",
              "        element.innerHTML = '';\n",
              "        dataTable['output_type'] = 'display_data';\n",
              "        await google.colab.output.renderOutput(dataTable, element);\n",
              "        const docLink = document.createElement('div');\n",
              "        docLink.innerHTML = docLinkHtml;\n",
              "        element.appendChild(docLink);\n",
              "      }\n",
              "    </script>\n",
              "  </div>\n",
              "\n",
              "\n",
              "<div id=\"df-7fdad2b8-4171-429f-ac7b-529014c60948\">\n",
              "  <button class=\"colab-df-quickchart\" onclick=\"quickchart('df-7fdad2b8-4171-429f-ac7b-529014c60948')\"\n",
              "            title=\"Suggest charts\"\n",
              "            style=\"display:none;\">\n",
              "\n",
              "<svg xmlns=\"http://www.w3.org/2000/svg\" height=\"24px\"viewBox=\"0 0 24 24\"\n",
              "     width=\"24px\">\n",
              "    <g>\n",
              "        <path d=\"M19 3H5c-1.1 0-2 .9-2 2v14c0 1.1.9 2 2 2h14c1.1 0 2-.9 2-2V5c0-1.1-.9-2-2-2zM9 17H7v-7h2v7zm4 0h-2V7h2v10zm4 0h-2v-4h2v4z\"/>\n",
              "    </g>\n",
              "</svg>\n",
              "  </button>\n",
              "\n",
              "<style>\n",
              "  .colab-df-quickchart {\n",
              "      --bg-color: #E8F0FE;\n",
              "      --fill-color: #1967D2;\n",
              "      --hover-bg-color: #E2EBFA;\n",
              "      --hover-fill-color: #174EA6;\n",
              "      --disabled-fill-color: #AAA;\n",
              "      --disabled-bg-color: #DDD;\n",
              "  }\n",
              "\n",
              "  [theme=dark] .colab-df-quickchart {\n",
              "      --bg-color: #3B4455;\n",
              "      --fill-color: #D2E3FC;\n",
              "      --hover-bg-color: #434B5C;\n",
              "      --hover-fill-color: #FFFFFF;\n",
              "      --disabled-bg-color: #3B4455;\n",
              "      --disabled-fill-color: #666;\n",
              "  }\n",
              "\n",
              "  .colab-df-quickchart {\n",
              "    background-color: var(--bg-color);\n",
              "    border: none;\n",
              "    border-radius: 50%;\n",
              "    cursor: pointer;\n",
              "    display: none;\n",
              "    fill: var(--fill-color);\n",
              "    height: 32px;\n",
              "    padding: 0;\n",
              "    width: 32px;\n",
              "  }\n",
              "\n",
              "  .colab-df-quickchart:hover {\n",
              "    background-color: var(--hover-bg-color);\n",
              "    box-shadow: 0 1px 2px rgba(60, 64, 67, 0.3), 0 1px 3px 1px rgba(60, 64, 67, 0.15);\n",
              "    fill: var(--button-hover-fill-color);\n",
              "  }\n",
              "\n",
              "  .colab-df-quickchart-complete:disabled,\n",
              "  .colab-df-quickchart-complete:disabled:hover {\n",
              "    background-color: var(--disabled-bg-color);\n",
              "    fill: var(--disabled-fill-color);\n",
              "    box-shadow: none;\n",
              "  }\n",
              "\n",
              "  .colab-df-spinner {\n",
              "    border: 2px solid var(--fill-color);\n",
              "    border-color: transparent;\n",
              "    border-bottom-color: var(--fill-color);\n",
              "    animation:\n",
              "      spin 1s steps(1) infinite;\n",
              "  }\n",
              "\n",
              "  @keyframes spin {\n",
              "    0% {\n",
              "      border-color: transparent;\n",
              "      border-bottom-color: var(--fill-color);\n",
              "      border-left-color: var(--fill-color);\n",
              "    }\n",
              "    20% {\n",
              "      border-color: transparent;\n",
              "      border-left-color: var(--fill-color);\n",
              "      border-top-color: var(--fill-color);\n",
              "    }\n",
              "    30% {\n",
              "      border-color: transparent;\n",
              "      border-left-color: var(--fill-color);\n",
              "      border-top-color: var(--fill-color);\n",
              "      border-right-color: var(--fill-color);\n",
              "    }\n",
              "    40% {\n",
              "      border-color: transparent;\n",
              "      border-right-color: var(--fill-color);\n",
              "      border-top-color: var(--fill-color);\n",
              "    }\n",
              "    60% {\n",
              "      border-color: transparent;\n",
              "      border-right-color: var(--fill-color);\n",
              "    }\n",
              "    80% {\n",
              "      border-color: transparent;\n",
              "      border-right-color: var(--fill-color);\n",
              "      border-bottom-color: var(--fill-color);\n",
              "    }\n",
              "    90% {\n",
              "      border-color: transparent;\n",
              "      border-bottom-color: var(--fill-color);\n",
              "    }\n",
              "  }\n",
              "</style>\n",
              "\n",
              "  <script>\n",
              "    async function quickchart(key) {\n",
              "      const quickchartButtonEl =\n",
              "        document.querySelector('#' + key + ' button');\n",
              "      quickchartButtonEl.disabled = true;  // To prevent multiple clicks.\n",
              "      quickchartButtonEl.classList.add('colab-df-spinner');\n",
              "      try {\n",
              "        const charts = await google.colab.kernel.invokeFunction(\n",
              "            'suggestCharts', [key], {});\n",
              "      } catch (error) {\n",
              "        console.error('Error during call to suggestCharts:', error);\n",
              "      }\n",
              "      quickchartButtonEl.classList.remove('colab-df-spinner');\n",
              "      quickchartButtonEl.classList.add('colab-df-quickchart-complete');\n",
              "    }\n",
              "    (() => {\n",
              "      let quickchartButtonEl =\n",
              "        document.querySelector('#df-7fdad2b8-4171-429f-ac7b-529014c60948 button');\n",
              "      quickchartButtonEl.style.display =\n",
              "        google.colab.kernel.accessAllowed ? 'block' : 'none';\n",
              "    })();\n",
              "  </script>\n",
              "</div>\n",
              "\n",
              "  <div id=\"id_ea2954a8-b0ed-4bcd-9afc-0ca2e2d6c9cb\">\n",
              "    <style>\n",
              "      .colab-df-generate {\n",
              "        background-color: #E8F0FE;\n",
              "        border: none;\n",
              "        border-radius: 50%;\n",
              "        cursor: pointer;\n",
              "        display: none;\n",
              "        fill: #1967D2;\n",
              "        height: 32px;\n",
              "        padding: 0 0 0 0;\n",
              "        width: 32px;\n",
              "      }\n",
              "\n",
              "      .colab-df-generate:hover {\n",
              "        background-color: #E2EBFA;\n",
              "        box-shadow: 0px 1px 2px rgba(60, 64, 67, 0.3), 0px 1px 3px 1px rgba(60, 64, 67, 0.15);\n",
              "        fill: #174EA6;\n",
              "      }\n",
              "\n",
              "      [theme=dark] .colab-df-generate {\n",
              "        background-color: #3B4455;\n",
              "        fill: #D2E3FC;\n",
              "      }\n",
              "\n",
              "      [theme=dark] .colab-df-generate:hover {\n",
              "        background-color: #434B5C;\n",
              "        box-shadow: 0px 1px 3px 1px rgba(0, 0, 0, 0.15);\n",
              "        filter: drop-shadow(0px 1px 2px rgba(0, 0, 0, 0.3));\n",
              "        fill: #FFFFFF;\n",
              "      }\n",
              "    </style>\n",
              "    <button class=\"colab-df-generate\" onclick=\"generateWithVariable('k_df')\"\n",
              "            title=\"Generate code using this dataframe.\"\n",
              "            style=\"display:none;\">\n",
              "\n",
              "  <svg xmlns=\"http://www.w3.org/2000/svg\" height=\"24px\"viewBox=\"0 0 24 24\"\n",
              "       width=\"24px\">\n",
              "    <path d=\"M7,19H8.4L18.45,9,17,7.55,7,17.6ZM5,21V16.75L18.45,3.32a2,2,0,0,1,2.83,0l1.4,1.43a1.91,1.91,0,0,1,.58,1.4,1.91,1.91,0,0,1-.58,1.4L9.25,21ZM18.45,9,17,7.55Zm-12,3A5.31,5.31,0,0,0,4.9,8.1,5.31,5.31,0,0,0,1,6.5,5.31,5.31,0,0,0,4.9,4.9,5.31,5.31,0,0,0,6.5,1,5.31,5.31,0,0,0,8.1,4.9,5.31,5.31,0,0,0,12,6.5,5.46,5.46,0,0,0,6.5,12Z\"/>\n",
              "  </svg>\n",
              "    </button>\n",
              "    <script>\n",
              "      (() => {\n",
              "      const buttonEl =\n",
              "        document.querySelector('#id_ea2954a8-b0ed-4bcd-9afc-0ca2e2d6c9cb button.colab-df-generate');\n",
              "      buttonEl.style.display =\n",
              "        google.colab.kernel.accessAllowed ? 'block' : 'none';\n",
              "\n",
              "      buttonEl.onclick = () => {\n",
              "        google.colab.notebook.generateWithVariable('k_df');\n",
              "      }\n",
              "      })();\n",
              "    </script>\n",
              "  </div>\n",
              "\n",
              "    </div>\n",
              "  </div>\n"
            ],
            "application/vnd.google.colaboratory.intrinsic+json": {
              "type": "dataframe",
              "variable_name": "k_df",
              "summary": "{\n  \"name\": \"k_df\",\n  \"rows\": 10,\n  \"fields\": [\n    {\n      \"column\": \"k\",\n      \"properties\": {\n        \"dtype\": \"string\",\n        \"num_unique_values\": 10,\n        \"samples\": [\n          \"s8\",\n          \"s1\",\n          \"s5\"\n        ],\n        \"semantic_type\": \"\",\n        \"description\": \"\"\n      }\n    },\n    {\n      \"column\": \"x\",\n      \"properties\": {\n        \"dtype\": \"number\",\n        \"std\": 1.421104292241927,\n        \"min\": -1.997746235366033,\n        \"max\": 2.916925424409336,\n        \"num_unique_values\": 10,\n        \"samples\": [\n          -1.997746235366033,\n          0.5294729842620497,\n          0.2251238710044425\n        ],\n        \"semantic_type\": \"\",\n        \"description\": \"\"\n      }\n    },\n    {\n      \"column\": \"y\",\n      \"properties\": {\n        \"dtype\": \"number\",\n        \"std\": 1.0744512783860525,\n        \"min\": -0.8402148452279417,\n        \"max\": 2.228797208677574,\n        \"num_unique_values\": 10,\n        \"samples\": [\n          -0.8402148452279417,\n          -0.3970441822729051,\n          -0.3958439493352311\n        ],\n        \"semantic_type\": \"\",\n        \"description\": \"\"\n      }\n    },\n    {\n      \"column\": \"depo_flag\",\n      \"properties\": {\n        \"dtype\": \"number\",\n        \"std\": 0,\n        \"min\": 0,\n        \"max\": 1,\n        \"num_unique_values\": 2,\n        \"samples\": [\n          0,\n          1\n        ],\n        \"semantic_type\": \"\",\n        \"description\": \"\"\n      }\n    }\n  ]\n}"
            }
          },
          "metadata": {},
          "execution_count": 66
        }
      ]
    },
    {
      "cell_type": "markdown",
      "source": [
        "可視化"
      ],
      "metadata": {
        "id": "nBhJGsSeLQLb"
      }
    },
    {
      "cell_type": "code",
      "source": [
        "fig = plt.subplot()\n",
        "fig.set_aspect('equal')\n",
        "\n",
        "for row in k_df.itertuples():\n",
        "    if row.depo_flag:\n",
        "        fig.scatter(row.x, row.y, marker='o')\n",
        "    else:\n",
        "        fig.scatter(row.x, row.y, marker='x')\n",
        "    fig.annotate(row.k, (row.x,row.y+0.1))\n",
        "\n",
        "plt.show()"
      ],
      "metadata": {
        "colab": {
          "base_uri": "https://localhost:8080/",
          "height": 376
        },
        "id": "lhY0I6G_LPgo",
        "outputId": "7fb8c4d7-2b0f-4bae-e078-88f28275bad9"
      },
      "execution_count": null,
      "outputs": [
        {
          "output_type": "display_data",
          "data": {
            "text/plain": [
              "<Figure size 640x480 with 1 Axes>"
            ],
            "image/png": "[encoded data removed]"
          },
          "metadata": {}
        }
      ]
    },
    {
      "cell_type": "code",
      "source": [
        "kk_df = pd.read_csv('distances.csv')\n",
        "print(len(kk_df))\n",
        "kk_df.head()"
      ],
      "metadata": {
        "colab": {
          "base_uri": "https://localhost:8080/",
          "height": 224
        },
        "id": "RioIc-hnLgM-",
        "outputId": "ad4abbbe-55a8-4e9a-e2b9-572d37a19858"
      },
      "execution_count": null,
      "outputs": [
        {
          "output_type": "stream",
          "name": "stdout",
          "text": [
            "100\n"
          ]
        },
        {
          "output_type": "execute_result",
          "data": {
            "text/plain": [
              "  k1  k2         t\n",
              "0  p   p  0.000000\n",
              "1  p  s1  0.661805\n",
              "2  p  s2  2.932570\n",
              "3  p  s3  1.903527\n",
              "4  p  s4  1.301730"
            ],
            "text/html": [
              "\n",
              "  <div id=\"df-a24ad631-6ef0-438f-97bf-345270d36eaf\" class=\"colab-df-container\">\n",
              "    <div>\n",
              "<style scoped>\n",
              "    .dataframe tbody tr th:only-of-type {\n",
              "        vertical-align: middle;\n",
              "    }\n",
              "\n",
              "    .dataframe tbody tr th {\n",
              "        vertical-align: top;\n",
              "    }\n",
              "\n",
              "    .dataframe thead th {\n",
              "        text-align: right;\n",
              "    }\n",
              "</style>\n",
              "<table border=\"1\" class=\"dataframe\">\n",
              "  <thead>\n",
              "    <tr style=\"text-align: right;\">\n",
              "      <th></th>\n",
              "      <th>k1</th>\n",
              "      <th>k2</th>\n",
              "      <th>t</th>\n",
              "    </tr>\n",
              "  </thead>\n",
              "  <tbody>\n",
              "    <tr>\n",
              "      <th>0</th>\n",
              "      <td>p</td>\n",
              "      <td>p</td>\n",
              "      <td>0.000000</td>\n",
              "    </tr>\n",
              "    <tr>\n",
              "      <th>1</th>\n",
              "      <td>p</td>\n",
              "      <td>s1</td>\n",
              "      <td>0.661805</td>\n",
              "    </tr>\n",
              "    <tr>\n",
              "      <th>2</th>\n",
              "      <td>p</td>\n",
              "      <td>s2</td>\n",
              "      <td>2.932570</td>\n",
              "    </tr>\n",
              "    <tr>\n",
              "      <th>3</th>\n",
              "      <td>p</td>\n",
              "      <td>s3</td>\n",
              "      <td>1.903527</td>\n",
              "    </tr>\n",
              "    <tr>\n",
              "      <th>4</th>\n",
              "      <td>p</td>\n",
              "      <td>s4</td>\n",
              "      <td>1.301730</td>\n",
              "    </tr>\n",
              "  </tbody>\n",
              "</table>\n",
              "</div>\n",
              "    <div class=\"colab-df-buttons\">\n",
              "\n",
              "  <div class=\"colab-df-container\">\n",
              "    <button class=\"colab-df-convert\" onclick=\"convertToInteractive('df-a24ad631-6ef0-438f-97bf-345270d36eaf')\"\n",
              "            title=\"Convert this dataframe to an interactive table.\"\n",
              "            style=\"display:none;\">\n",
              "\n",
              "  <svg xmlns=\"http://www.w3.org/2000/svg\" height=\"24px\" viewBox=\"0 -960 960 960\">\n",
              "    <path d=\"M120-120v-720h720v720H120Zm60-500h600v-160H180v160Zm220 220h160v-160H400v160Zm0 220h160v-160H400v160ZM180-400h160v-160H180v160Zm440 0h160v-160H620v160ZM180-180h160v-160H180v160Zm440 0h160v-160H620v160Z\"/>\n",
              "  </svg>\n",
              "    </button>\n",
              "\n",
              "  <style>\n",
              "    .colab-df-container {\n",
              "      display:flex;\n",
              "      gap: 12px;\n",
              "    }\n",
              "\n",
              "    .colab-df-convert {\n",
              "      background-color: #E8F0FE;\n",
              "      border: none;\n",
              "      border-radius: 50%;\n",
              "      cursor: pointer;\n",
              "      display: none;\n",
              "      fill: #1967D2;\n",
              "      height: 32px;\n",
              "      padding: 0 0 0 0;\n",
              "      width: 32px;\n",
              "    }\n",
              "\n",
              "    .colab-df-convert:hover {\n",
              "      background-color: #E2EBFA;\n",
              "      box-shadow: 0px 1px 2px rgba(60, 64, 67, 0.3), 0px 1px 3px 1px rgba(60, 64, 67, 0.15);\n",
              "      fill: #174EA6;\n",
              "    }\n",
              "\n",
              "    .colab-df-buttons div {\n",
              "      margin-bottom: 4px;\n",
              "    }\n",
              "\n",
              "    [theme=dark] .colab-df-convert {\n",
              "      background-color: #3B4455;\n",
              "      fill: #D2E3FC;\n",
              "    }\n",
              "\n",
              "    [theme=dark] .colab-df-convert:hover {\n",
              "      background-color: #434B5C;\n",
              "      box-shadow: 0px 1px 3px 1px rgba(0, 0, 0, 0.15);\n",
              "      filter: drop-shadow(0px 1px 2px rgba(0, 0, 0, 0.3));\n",
              "      fill: #FFFFFF;\n",
              "    }\n",
              "  </style>\n",
              "\n",
              "    <script>\n",
              "      const buttonEl =\n",
              "        document.querySelector('#df-a24ad631-6ef0-438f-97bf-345270d36eaf button.colab-df-convert');\n",
              "      buttonEl.style.display =\n",
              "        google.colab.kernel.accessAllowed ? 'block' : 'none';\n",
              "\n",
              "      async function convertToInteractive(key) {\n",
              "        const element = document.querySelector('#df-a24ad631-6ef0-438f-97bf-345270d36eaf');\n",
              "        const dataTable =\n",
              "          await google.colab.kernel.invokeFunction('convertToInteractive',\n",
              "                                                    [key], {});\n",
              "        if (!dataTable) return;\n",
              "\n",
              "        const docLinkHtml = 'Like what you see? Visit the ' +\n",
              "          '<a target=\"_blank\" href=https://colab.research.google.com/notebooks/data_table.ipynb>data table notebook</a>'\n",
              "          + ' to learn more about interactive tables.';\n",
              "        element.innerHTML = '';\n",
              "        dataTable['output_type'] = 'display_data';\n",
              "        await google.colab.output.renderOutput(dataTable, element);\n",
              "        const docLink = document.createElement('div');\n",
              "        docLink.innerHTML = docLinkHtml;\n",
              "        element.appendChild(docLink);\n",
              "      }\n",
              "    </script>\n",
              "  </div>\n",
              "\n",
              "\n",
              "<div id=\"df-4fe278fd-a9d8-454c-b38c-1fc0ced86b60\">\n",
              "  <button class=\"colab-df-quickchart\" onclick=\"quickchart('df-4fe278fd-a9d8-454c-b38c-1fc0ced86b60')\"\n",
              "            title=\"Suggest charts\"\n",
              "            style=\"display:none;\">\n",
              "\n",
              "<svg xmlns=\"http://www.w3.org/2000/svg\" height=\"24px\"viewBox=\"0 0 24 24\"\n",
              "     width=\"24px\">\n",
              "    <g>\n",
              "        <path d=\"M19 3H5c-1.1 0-2 .9-2 2v14c0 1.1.9 2 2 2h14c1.1 0 2-.9 2-2V5c0-1.1-.9-2-2-2zM9 17H7v-7h2v7zm4 0h-2V7h2v10zm4 0h-2v-4h2v4z\"/>\n",
              "    </g>\n",
              "</svg>\n",
              "  </button>\n",
              "\n",
              "<style>\n",
              "  .colab-df-quickchart {\n",
              "      --bg-color: #E8F0FE;\n",
              "      --fill-color: #1967D2;\n",
              "      --hover-bg-color: #E2EBFA;\n",
              "      --hover-fill-color: #174EA6;\n",
              "      --disabled-fill-color: #AAA;\n",
              "      --disabled-bg-color: #DDD;\n",
              "  }\n",
              "\n",
              "  [theme=dark] .colab-df-quickchart {\n",
              "      --bg-color: #3B4455;\n",
              "      --fill-color: #D2E3FC;\n",
              "      --hover-bg-color: #434B5C;\n",
              "      --hover-fill-color: #FFFFFF;\n",
              "      --disabled-bg-color: #3B4455;\n",
              "      --disabled-fill-color: #666;\n",
              "  }\n",
              "\n",
              "  .colab-df-quickchart {\n",
              "    background-color: var(--bg-color);\n",
              "    border: none;\n",
              "    border-radius: 50%;\n",
              "    cursor: pointer;\n",
              "    display: none;\n",
              "    fill: var(--fill-color);\n",
              "    height: 32px;\n",
              "    padding: 0;\n",
              "    width: 32px;\n",
              "  }\n",
              "\n",
              "  .colab-df-quickchart:hover {\n",
              "    background-color: var(--hover-bg-color);\n",
              "    box-shadow: 0 1px 2px rgba(60, 64, 67, 0.3), 0 1px 3px 1px rgba(60, 64, 67, 0.15);\n",
              "    fill: var(--button-hover-fill-color);\n",
              "  }\n",
              "\n",
              "  .colab-df-quickchart-complete:disabled,\n",
              "  .colab-df-quickchart-complete:disabled:hover {\n",
              "    background-color: var(--disabled-bg-color);\n",
              "    fill: var(--disabled-fill-color);\n",
              "    box-shadow: none;\n",
              "  }\n",
              "\n",
              "  .colab-df-spinner {\n",
              "    border: 2px solid var(--fill-color);\n",
              "    border-color: transparent;\n",
              "    border-bottom-color: var(--fill-color);\n",
              "    animation:\n",
              "      spin 1s steps(1) infinite;\n",
              "  }\n",
              "\n",
              "  @keyframes spin {\n",
              "    0% {\n",
              "      border-color: transparent;\n",
              "      border-bottom-color: var(--fill-color);\n",
              "      border-left-color: var(--fill-color);\n",
              "    }\n",
              "    20% {\n",
              "      border-color: transparent;\n",
              "      border-left-color: var(--fill-color);\n",
              "      border-top-color: var(--fill-color);\n",
              "    }\n",
              "    30% {\n",
              "      border-color: transparent;\n",
              "      border-left-color: var(--fill-color);\n",
              "      border-top-color: var(--fill-color);\n",
              "      border-right-color: var(--fill-color);\n",
              "    }\n",
              "    40% {\n",
              "      border-color: transparent;\n",
              "      border-right-color: var(--fill-color);\n",
              "      border-top-color: var(--fill-color);\n",
              "    }\n",
              "    60% {\n",
              "      border-color: transparent;\n",
              "      border-right-color: var(--fill-color);\n",
              "    }\n",
              "    80% {\n",
              "      border-color: transparent;\n",
              "      border-right-color: var(--fill-color);\n",
              "      border-bottom-color: var(--fill-color);\n",
              "    }\n",
              "    90% {\n",
              "      border-color: transparent;\n",
              "      border-bottom-color: var(--fill-color);\n",
              "    }\n",
              "  }\n",
              "</style>\n",
              "\n",
              "  <script>\n",
              "    async function quickchart(key) {\n",
              "      const quickchartButtonEl =\n",
              "        document.querySelector('#' + key + ' button');\n",
              "      quickchartButtonEl.disabled = true;  // To prevent multiple clicks.\n",
              "      quickchartButtonEl.classList.add('colab-df-spinner');\n",
              "      try {\n",
              "        const charts = await google.colab.kernel.invokeFunction(\n",
              "            'suggestCharts', [key], {});\n",
              "      } catch (error) {\n",
              "        console.error('Error during call to suggestCharts:', error);\n",
              "      }\n",
              "      quickchartButtonEl.classList.remove('colab-df-spinner');\n",
              "      quickchartButtonEl.classList.add('colab-df-quickchart-complete');\n",
              "    }\n",
              "    (() => {\n",
              "      let quickchartButtonEl =\n",
              "        document.querySelector('#df-4fe278fd-a9d8-454c-b38c-1fc0ced86b60 button');\n",
              "      quickchartButtonEl.style.display =\n",
              "        google.colab.kernel.accessAllowed ? 'block' : 'none';\n",
              "    })();\n",
              "  </script>\n",
              "</div>\n",
              "\n",
              "    </div>\n",
              "  </div>\n"
            ],
            "application/vnd.google.colaboratory.intrinsic+json": {
              "type": "dataframe",
              "variable_name": "kk_df",
              "summary": "{\n  \"name\": \"kk_df\",\n  \"rows\": 100,\n  \"fields\": [\n    {\n      \"column\": \"k1\",\n      \"properties\": {\n        \"dtype\": \"category\",\n        \"num_unique_values\": 10,\n        \"samples\": [\n          \"s8\",\n          \"s1\",\n          \"s5\"\n        ],\n        \"semantic_type\": \"\",\n        \"description\": \"\"\n      }\n    },\n    {\n      \"column\": \"k2\",\n      \"properties\": {\n        \"dtype\": \"category\",\n        \"num_unique_values\": 10,\n        \"samples\": [\n          \"s8\",\n          \"s1\",\n          \"s5\"\n        ],\n        \"semantic_type\": \"\",\n        \"description\": \"\"\n      }\n    },\n    {\n      \"column\": \"t\",\n      \"properties\": {\n        \"dtype\": \"number\",\n        \"std\": 1.279049909514235,\n        \"min\": 0.0,\n        \"max\": 4.943998728414635,\n        \"num_unique_values\": 46,\n        \"samples\": [\n          2.868159398061737,\n          2.881206652884047,\n          2.296729027565957\n        ],\n        \"semantic_type\": \"\",\n        \"description\": \"\"\n      }\n    }\n  ]\n}"
            }
          },
          "metadata": {},
          "execution_count": 68
        }
      ]
    },
    {
      "cell_type": "code",
      "source": [
        "r_df = pd.read_csv('orders.csv')\n",
        "print(len(r_df))\n",
        "r_df.head()"
      ],
      "metadata": {
        "colab": {
          "base_uri": "https://localhost:8080/",
          "height": 224
        },
        "id": "qHIrbSsmLhty",
        "outputId": "1277181d-e034-4300-821f-37cfe7e661ad"
      },
      "execution_count": null,
      "outputs": [
        {
          "output_type": "stream",
          "name": "stdout",
          "text": [
            "100\n"
          ]
        },
        {
          "output_type": "execute_result",
          "data": {
            "text/plain": [
              "     r   s     w   b   e\n",
              "0  r00  s4  1000  17  18\n",
              "1  r01  s1   950  16  18\n",
              "2  r02  s6  1330   2   4\n",
              "3  r03  s5  1130  19  20\n",
              "4  r04  s2   710   1   2"
            ],
            "text/html": [
              "\n",
              "  <div id=\"df-e2f26196-8410-4a99-9e7a-d5ebc4996a80\" class=\"colab-df-container\">\n",
              "    <div>\n",
              "<style scoped>\n",
              "    .dataframe tbody tr th:only-of-type {\n",
              "        vertical-align: middle;\n",
              "    }\n",
              "\n",
              "    .dataframe tbody tr th {\n",
              "        vertical-align: top;\n",
              "    }\n",
              "\n",
              "    .dataframe thead th {\n",
              "        text-align: right;\n",
              "    }\n",
              "</style>\n",
              "<table border=\"1\" class=\"dataframe\">\n",
              "  <thead>\n",
              "    <tr style=\"text-align: right;\">\n",
              "      <th></th>\n",
              "      <th>r</th>\n",
              "      <th>s</th>\n",
              "      <th>w</th>\n",
              "      <th>b</th>\n",
              "      <th>e</th>\n",
              "    </tr>\n",
              "  </thead>\n",
              "  <tbody>\n",
              "    <tr>\n",
              "      <th>0</th>\n",
              "      <td>r00</td>\n",
              "      <td>s4</td>\n",
              "      <td>1000</td>\n",
              "      <td>17</td>\n",
              "      <td>18</td>\n",
              "    </tr>\n",
              "    <tr>\n",
              "      <th>1</th>\n",
              "      <td>r01</td>\n",
              "      <td>s1</td>\n",
              "      <td>950</td>\n",
              "      <td>16</td>\n",
              "      <td>18</td>\n",
              "    </tr>\n",
              "    <tr>\n",
              "      <th>2</th>\n",
              "      <td>r02</td>\n",
              "      <td>s6</td>\n",
              "      <td>1330</td>\n",
              "      <td>2</td>\n",
              "      <td>4</td>\n",
              "    </tr>\n",
              "    <tr>\n",
              "      <th>3</th>\n",
              "      <td>r03</td>\n",
              "      <td>s5</td>\n",
              "      <td>1130</td>\n",
              "      <td>19</td>\n",
              "      <td>20</td>\n",
              "    </tr>\n",
              "    <tr>\n",
              "      <th>4</th>\n",
              "      <td>r04</td>\n",
              "      <td>s2</td>\n",
              "      <td>710</td>\n",
              "      <td>1</td>\n",
              "      <td>2</td>\n",
              "    </tr>\n",
              "  </tbody>\n",
              "</table>\n",
              "</div>\n",
              "    <div class=\"colab-df-buttons\">\n",
              "\n",
              "  <div class=\"colab-df-container\">\n",
              "    <button class=\"colab-df-convert\" onclick=\"convertToInteractive('df-e2f26196-8410-4a99-9e7a-d5ebc4996a80')\"\n",
              "            title=\"Convert this dataframe to an interactive table.\"\n",
              "            style=\"display:none;\">\n",
              "\n",
              "  <svg xmlns=\"http://www.w3.org/2000/svg\" height=\"24px\" viewBox=\"0 -960 960 960\">\n",
              "    <path d=\"M120-120v-720h720v720H120Zm60-500h600v-160H180v160Zm220 220h160v-160H400v160Zm0 220h160v-160H400v160ZM180-400h160v-160H180v160Zm440 0h160v-160H620v160ZM180-180h160v-160H180v160Zm440 0h160v-160H620v160Z\"/>\n",
              "  </svg>\n",
              "    </button>\n",
              "\n",
              "  <style>\n",
              "    .colab-df-container {\n",
              "      display:flex;\n",
              "      gap: 12px;\n",
              "    }\n",
              "\n",
              "    .colab-df-convert {\n",
              "      background-color: #E8F0FE;\n",
              "      border: none;\n",
              "      border-radius: 50%;\n",
              "      cursor: pointer;\n",
              "      display: none;\n",
              "      fill: #1967D2;\n",
              "      height: 32px;\n",
              "      padding: 0 0 0 0;\n",
              "      width: 32px;\n",
              "    }\n",
              "\n",
              "    .colab-df-convert:hover {\n",
              "      background-color: #E2EBFA;\n",
              "      box-shadow: 0px 1px 2px rgba(60, 64, 67, 0.3), 0px 1px 3px 1px rgba(60, 64, 67, 0.15);\n",
              "      fill: #174EA6;\n",
              "    }\n",
              "\n",
              "    .colab-df-buttons div {\n",
              "      margin-bottom: 4px;\n",
              "    }\n",
              "\n",
              "    [theme=dark] .colab-df-convert {\n",
              "      background-color: #3B4455;\n",
              "      fill: #D2E3FC;\n",
              "    }\n",
              "\n",
              "    [theme=dark] .colab-df-convert:hover {\n",
              "      background-color: #434B5C;\n",
              "      box-shadow: 0px 1px 3px 1px rgba(0, 0, 0, 0.15);\n",
              "      filter: drop-shadow(0px 1px 2px rgba(0, 0, 0, 0.3));\n",
              "      fill: #FFFFFF;\n",
              "    }\n",
              "  </style>\n",
              "\n",
              "    <script>\n",
              "      const buttonEl =\n",
              "        document.querySelector('#df-e2f26196-8410-4a99-9e7a-d5ebc4996a80 button.colab-df-convert');\n",
              "      buttonEl.style.display =\n",
              "        google.colab.kernel.accessAllowed ? 'block' : 'none';\n",
              "\n",
              "      async function convertToInteractive(key) {\n",
              "        const element = document.querySelector('#df-e2f26196-8410-4a99-9e7a-d5ebc4996a80');\n",
              "        const dataTable =\n",
              "          await google.colab.kernel.invokeFunction('convertToInteractive',\n",
              "                                                    [key], {});\n",
              "        if (!dataTable) return;\n",
              "\n",
              "        const docLinkHtml = 'Like what you see? Visit the ' +\n",
              "          '<a target=\"_blank\" href=https://colab.research.google.com/notebooks/data_table.ipynb>data table notebook</a>'\n",
              "          + ' to learn more about interactive tables.';\n",
              "        element.innerHTML = '';\n",
              "        dataTable['output_type'] = 'display_data';\n",
              "        await google.colab.output.renderOutput(dataTable, element);\n",
              "        const docLink = document.createElement('div');\n",
              "        docLink.innerHTML = docLinkHtml;\n",
              "        element.appendChild(docLink);\n",
              "      }\n",
              "    </script>\n",
              "  </div>\n",
              "\n",
              "\n",
              "<div id=\"df-9dbb40a2-8ae8-4fbb-b51e-bb3dcb322d04\">\n",
              "  <button class=\"colab-df-quickchart\" onclick=\"quickchart('df-9dbb40a2-8ae8-4fbb-b51e-bb3dcb322d04')\"\n",
              "            title=\"Suggest charts\"\n",
              "            style=\"display:none;\">\n",
              "\n",
              "<svg xmlns=\"http://www.w3.org/2000/svg\" height=\"24px\"viewBox=\"0 0 24 24\"\n",
              "     width=\"24px\">\n",
              "    <g>\n",
              "        <path d=\"M19 3H5c-1.1 0-2 .9-2 2v14c0 1.1.9 2 2 2h14c1.1 0 2-.9 2-2V5c0-1.1-.9-2-2-2zM9 17H7v-7h2v7zm4 0h-2V7h2v10zm4 0h-2v-4h2v4z\"/>\n",
              "    </g>\n",
              "</svg>\n",
              "  </button>\n",
              "\n",
              "<style>\n",
              "  .colab-df-quickchart {\n",
              "      --bg-color: #E8F0FE;\n",
              "      --fill-color: #1967D2;\n",
              "      --hover-bg-color: #E2EBFA;\n",
              "      --hover-fill-color: #174EA6;\n",
              "      --disabled-fill-color: #AAA;\n",
              "      --disabled-bg-color: #DDD;\n",
              "  }\n",
              "\n",
              "  [theme=dark] .colab-df-quickchart {\n",
              "      --bg-color: #3B4455;\n",
              "      --fill-color: #D2E3FC;\n",
              "      --hover-bg-color: #434B5C;\n",
              "      --hover-fill-color: #FFFFFF;\n",
              "      --disabled-bg-color: #3B4455;\n",
              "      --disabled-fill-color: #666;\n",
              "  }\n",
              "\n",
              "  .colab-df-quickchart {\n",
              "    background-color: var(--bg-color);\n",
              "    border: none;\n",
              "    border-radius: 50%;\n",
              "    cursor: pointer;\n",
              "    display: none;\n",
              "    fill: var(--fill-color);\n",
              "    height: 32px;\n",
              "    padding: 0;\n",
              "    width: 32px;\n",
              "  }\n",
              "\n",
              "  .colab-df-quickchart:hover {\n",
              "    background-color: var(--hover-bg-color);\n",
              "    box-shadow: 0 1px 2px rgba(60, 64, 67, 0.3), 0 1px 3px 1px rgba(60, 64, 67, 0.15);\n",
              "    fill: var(--button-hover-fill-color);\n",
              "  }\n",
              "\n",
              "  .colab-df-quickchart-complete:disabled,\n",
              "  .colab-df-quickchart-complete:disabled:hover {\n",
              "    background-color: var(--disabled-bg-color);\n",
              "    fill: var(--disabled-fill-color);\n",
              "    box-shadow: none;\n",
              "  }\n",
              "\n",
              "  .colab-df-spinner {\n",
              "    border: 2px solid var(--fill-color);\n",
              "    border-color: transparent;\n",
              "    border-bottom-color: var(--fill-color);\n",
              "    animation:\n",
              "      spin 1s steps(1) infinite;\n",
              "  }\n",
              "\n",
              "  @keyframes spin {\n",
              "    0% {\n",
              "      border-color: transparent;\n",
              "      border-bottom-color: var(--fill-color);\n",
              "      border-left-color: var(--fill-color);\n",
              "    }\n",
              "    20% {\n",
              "      border-color: transparent;\n",
              "      border-left-color: var(--fill-color);\n",
              "      border-top-color: var(--fill-color);\n",
              "    }\n",
              "    30% {\n",
              "      border-color: transparent;\n",
              "      border-left-color: var(--fill-color);\n",
              "      border-top-color: var(--fill-color);\n",
              "      border-right-color: var(--fill-color);\n",
              "    }\n",
              "    40% {\n",
              "      border-color: transparent;\n",
              "      border-right-color: var(--fill-color);\n",
              "      border-top-color: var(--fill-color);\n",
              "    }\n",
              "    60% {\n",
              "      border-color: transparent;\n",
              "      border-right-color: var(--fill-color);\n",
              "    }\n",
              "    80% {\n",
              "      border-color: transparent;\n",
              "      border-right-color: var(--fill-color);\n",
              "      border-bottom-color: var(--fill-color);\n",
              "    }\n",
              "    90% {\n",
              "      border-color: transparent;\n",
              "      border-bottom-color: var(--fill-color);\n",
              "    }\n",
              "  }\n",
              "</style>\n",
              "\n",
              "  <script>\n",
              "    async function quickchart(key) {\n",
              "      const quickchartButtonEl =\n",
              "        document.querySelector('#' + key + ' button');\n",
              "      quickchartButtonEl.disabled = true;  // To prevent multiple clicks.\n",
              "      quickchartButtonEl.classList.add('colab-df-spinner');\n",
              "      try {\n",
              "        const charts = await google.colab.kernel.invokeFunction(\n",
              "            'suggestCharts', [key], {});\n",
              "      } catch (error) {\n",
              "        console.error('Error during call to suggestCharts:', error);\n",
              "      }\n",
              "      quickchartButtonEl.classList.remove('colab-df-spinner');\n",
              "      quickchartButtonEl.classList.add('colab-df-quickchart-complete');\n",
              "    }\n",
              "    (() => {\n",
              "      let quickchartButtonEl =\n",
              "        document.querySelector('#df-9dbb40a2-8ae8-4fbb-b51e-bb3dcb322d04 button');\n",
              "      quickchartButtonEl.style.display =\n",
              "        google.colab.kernel.accessAllowed ? 'block' : 'none';\n",
              "    })();\n",
              "  </script>\n",
              "</div>\n",
              "\n",
              "    </div>\n",
              "  </div>\n"
            ],
            "application/vnd.google.colaboratory.intrinsic+json": {
              "type": "dataframe",
              "variable_name": "r_df",
              "summary": "{\n  \"name\": \"r_df\",\n  \"rows\": 100,\n  \"fields\": [\n    {\n      \"column\": \"r\",\n      \"properties\": {\n        \"dtype\": \"string\",\n        \"num_unique_values\": 100,\n        \"samples\": [\n          \"r83\",\n          \"r53\",\n          \"r70\"\n        ],\n        \"semantic_type\": \"\",\n        \"description\": \"\"\n      }\n    },\n    {\n      \"column\": \"s\",\n      \"properties\": {\n        \"dtype\": \"category\",\n        \"num_unique_values\": 9,\n        \"samples\": [\n          \"s7\",\n          \"s1\",\n          \"s3\"\n        ],\n        \"semantic_type\": \"\",\n        \"description\": \"\"\n      }\n    },\n    {\n      \"column\": \"w\",\n      \"properties\": {\n        \"dtype\": \"number\",\n        \"std\": 293,\n        \"min\": 480,\n        \"max\": 2020,\n        \"num_unique_values\": 65,\n        \"samples\": [\n          1310,\n          1770,\n          1000\n        ],\n        \"semantic_type\": \"\",\n        \"description\": \"\"\n      }\n    },\n    {\n      \"column\": \"b\",\n      \"properties\": {\n        \"dtype\": \"number\",\n        \"std\": 5,\n        \"min\": 1,\n        \"max\": 19,\n        \"num_unique_values\": 18,\n        \"samples\": [\n          17,\n          16,\n          14\n        ],\n        \"semantic_type\": \"\",\n        \"description\": \"\"\n      }\n    },\n    {\n      \"column\": \"e\",\n      \"properties\": {\n        \"dtype\": \"number\",\n        \"std\": 5,\n        \"min\": 2,\n        \"max\": 20,\n        \"num_unique_values\": 18,\n        \"samples\": [\n          18,\n          4,\n          9\n        ],\n        \"semantic_type\": \"\",\n        \"description\": \"\"\n      }\n    }\n  ]\n}"
            }
          },
          "metadata": {},
          "execution_count": 69
        }
      ]
    },
    {
      "cell_type": "markdown",
      "source": [
        "集合と定数をあらためて準備"
      ],
      "metadata": {
        "id": "2ibnbbRqLXIO"
      }
    },
    {
      "cell_type": "code",
      "source": [
        "# 配送日のリスト\n",
        "D = list(range(r_df.b.min(), r_df.e.max() + 1))\n",
        "\n",
        "# 配送センター\n",
        "p = k_df[k_df.depo_flag == 1].k.tolist()[0]\n",
        "\n",
        "# お店のリスト\n",
        "S = k_df[k_df.depo_flag == 0].k.tolist()\n",
        "\n",
        "# 地点のリスト\n",
        "K = [p] + S\n",
        "\n",
        "# 荷物のリスト\n",
        "R = r_df.r.tolist()\n",
        "\n",
        "# 各種変数を定義するために必要なリスト\n",
        "DKK = [(d,k1,k2) for d in D for k1 in K for k2 in K]\n",
        "DR = [(d,r) for d in D for r in R]\n",
        "DK = [(d,k) for d in D for k in K]\n",
        "\n",
        "#表示\n",
        "print(D)\n",
        "print(K)\n",
        "print(R[:5])\n",
        "print(DKK[:5])\n",
        "print(DR[:5])\n",
        "print(DK[:5])"
      ],
      "metadata": {
        "colab": {
          "base_uri": "https://localhost:8080/"
        },
        "id": "TXChIYsYLaSP",
        "outputId": "58608077-49c4-4ae1-ef1d-60c3fefbec53"
      },
      "execution_count": null,
      "outputs": [
        {
          "output_type": "stream",
          "name": "stdout",
          "text": [
            "[1, 2, 3, 4, 5, 6, 7, 8, 9, 10, 11, 12, 13, 14, 15, 16, 17, 18, 19, 20]\n",
            "['p', 's1', 's2', 's3', 's4', 's5', 's6', 's7', 's8', 's9']\n",
            "['r00', 'r01', 'r02', 'r03', 'r04']\n",
            "[(1, 'p', 'p'), (1, 'p', 's1'), (1, 'p', 's2'), (1, 'p', 's3'), (1, 'p', 's4')]\n",
            "[(1, 'r00'), (1, 'r01'), (1, 'r02'), (1, 'r03'), (1, 'r04')]\n",
            "[(1, 'p'), (1, 's1'), (1, 's2'), (1, 's3'), (1, 's4')]\n"
          ]
        }
      ]
    },
    {
      "cell_type": "markdown",
      "source": [
        "同様に辞書を作成"
      ],
      "metadata": {
        "id": "6n7RebAuLqlB"
      }
    },
    {
      "cell_type": "code",
      "source": [
        "# 荷物に紐づける配送先のお店\n",
        "R2S = {row.r:row.s for row in r_df.itertuples()}\n",
        "\n",
        "# 荷物に紐づける重量\n",
        "R2W = {row.r:row.w for row in r_df.itertuples()}\n",
        "\n",
        "# 荷物に紐づける指定配送期間の開始日\n",
        "R2B = {row.r:row.b for row in r_df.itertuples()}\n",
        "\n",
        "# 荷物に紐づける指定配送期間の終了日\n",
        "R2E = {row.r:row.e for row in r_df.itertuples()}\n",
        "\n",
        "# 地点の移動時間\n",
        "KK2T = {(row.k1,row.k2):row.t for row in kk_df.itertuples()}\n",
        "\n",
        "# 表示\n",
        "print('R2S:', R2S)\n",
        "print('R2W:', R2W)\n",
        "print('R2B:', R2B)\n",
        "print('R2E:', R2E)\n",
        "print('KK2T:', KK2T)"
      ],
      "metadata": {
        "colab": {
          "base_uri": "https://localhost:8080/"
        },
        "id": "Wru5WmEpLoSC",
        "outputId": "356971ac-3556-4a36-b112-226242ae796e"
      },
      "execution_count": null,
      "outputs": [
        {
          "output_type": "stream",
          "name": "stdout",
          "text": [
            "R2S: {'r00': 's4', 'r01': 's1', 'r02': 's6', 'r03': 's5', 'r04': 's2', 'r05': 's5', 'r06': 's3', 'r07': 's4', 'r08': 's2', 'r09': 's6', 'r10': 's9', 'r11': 's3', 'r12': 's1', 'r13': 's7', 'r14': 's9', 'r15': 's3', 'r16': 's5', 'r17': 's7', 'r18': 's4', 'r19': 's9', 'r20': 's6', 'r21': 's8', 'r22': 's4', 'r23': 's9', 'r24': 's2', 'r25': 's3', 'r26': 's5', 'r27': 's5', 'r28': 's2', 'r29': 's4', 'r30': 's4', 'r31': 's1', 'r32': 's7', 'r33': 's8', 'r34': 's5', 'r35': 's6', 'r36': 's1', 'r37': 's7', 'r38': 's7', 'r39': 's2', 'r40': 's4', 'r41': 's3', 'r42': 's7', 'r43': 's5', 'r44': 's2', 'r45': 's9', 'r46': 's9', 'r47': 's7', 'r48': 's2', 'r49': 's9', 'r50': 's7', 'r51': 's7', 'r52': 's6', 'r53': 's9', 'r54': 's5', 'r55': 's5', 'r56': 's4', 'r57': 's8', 'r58': 's6', 'r59': 's3', 'r60': 's2', 'r61': 's7', 'r62': 's1', 'r63': 's5', 'r64': 's7', 'r65': 's8', 'r66': 's8', 'r67': 's1', 'r68': 's7', 'r69': 's2', 'r70': 's1', 'r71': 's2', 'r72': 's3', 'r73': 's3', 'r74': 's1', 'r75': 's2', 'r76': 's3', 'r77': 's3', 'r78': 's4', 'r79': 's9', 'r80': 's6', 'r81': 's7', 'r82': 's2', 'r83': 's2', 'r84': 's2', 'r85': 's8', 'r86': 's6', 'r87': 's1', 'r88': 's2', 'r89': 's5', 'r90': 's7', 'r91': 's2', 'r92': 's7', 'r93': 's6', 'r94': 's1', 'r95': 's3', 'r96': 's5', 'r97': 's9', 'r98': 's9', 'r99': 's9'}\n",
            "R2W: {'r00': 1000, 'r01': 950, 'r02': 1330, 'r03': 1130, 'r04': 710, 'r05': 690, 'r06': 1180, 'r07': 690, 'r08': 960, 'r09': 930, 'r10': 910, 'r11': 1100, 'r12': 1360, 'r13': 1120, 'r14': 820, 'r15': 650, 'r16': 1590, 'r17': 930, 'r18': 880, 'r19': 1470, 'r20': 1020, 'r21': 2020, 'r22': 790, 'r23': 890, 'r24': 1160, 'r25': 560, 'r26': 1440, 'r27': 900, 'r28': 1230, 'r29': 1020, 'r30': 1020, 'r31': 1080, 'r32': 1110, 'r33': 1840, 'r34': 690, 'r35': 980, 'r36': 1220, 'r37': 1230, 'r38': 1360, 'r39': 890, 'r40': 1130, 'r41': 1450, 'r42': 870, 'r43': 1290, 'r44': 620, 'r45': 970, 'r46': 1060, 'r47': 860, 'r48': 1680, 'r49': 1250, 'r50': 1090, 'r51': 850, 'r52': 970, 'r53': 890, 'r54': 780, 'r55': 520, 'r56': 480, 'r57': 880, 'r58': 830, 'r59': 690, 'r60': 1100, 'r61': 1200, 'r62': 1090, 'r63': 560, 'r64': 780, 'r65': 1170, 'r66': 950, 'r67': 1120, 'r68': 1240, 'r69': 1040, 'r70': 1260, 'r71': 970, 'r72': 940, 'r73': 1060, 'r74': 1310, 'r75': 740, 'r76': 630, 'r77': 880, 'r78': 1270, 'r79': 910, 'r80': 1560, 'r81': 990, 'r82': 590, 'r83': 1770, 'r84': 650, 'r85': 1160, 'r86': 900, 'r87': 1060, 'r88': 770, 'r89': 780, 'r90': 850, 'r91': 1190, 'r92': 1580, 'r93': 910, 'r94': 900, 'r95': 1290, 'r96': 700, 'r97': 1270, 'r98': 1100, 'r99': 850}\n",
            "R2B: {'r00': 17, 'r01': 16, 'r02': 2, 'r03': 19, 'r04': 1, 'r05': 10, 'r06': 13, 'r07': 4, 'r08': 16, 'r09': 14, 'r10': 16, 'r11': 8, 'r12': 12, 'r13': 19, 'r14': 9, 'r15': 16, 'r16': 16, 'r17': 15, 'r18': 13, 'r19': 9, 'r20': 2, 'r21': 19, 'r22': 10, 'r23': 5, 'r24': 14, 'r25': 2, 'r26': 16, 'r27': 6, 'r28': 14, 'r29': 4, 'r30': 16, 'r31': 6, 'r32': 8, 'r33': 7, 'r34': 18, 'r35': 18, 'r36': 11, 'r37': 10, 'r38': 16, 'r39': 15, 'r40': 19, 'r41': 18, 'r42': 19, 'r43': 6, 'r44': 6, 'r45': 17, 'r46': 1, 'r47': 2, 'r48': 9, 'r49': 13, 'r50': 18, 'r51': 8, 'r52': 16, 'r53': 1, 'r54': 6, 'r55': 19, 'r56': 4, 'r57': 2, 'r58': 19, 'r59': 14, 'r60': 18, 'r61': 13, 'r62': 17, 'r63': 19, 'r64': 6, 'r65': 2, 'r66': 7, 'r67': 6, 'r68': 17, 'r69': 10, 'r70': 15, 'r71': 11, 'r72': 13, 'r73': 5, 'r74': 5, 'r75': 8, 'r76': 16, 'r77': 1, 'r78': 2, 'r79': 5, 'r80': 2, 'r81': 6, 'r82': 8, 'r83': 18, 'r84': 10, 'r85': 18, 'r86': 15, 'r87': 15, 'r88': 18, 'r89': 17, 'r90': 7, 'r91': 7, 'r92': 18, 'r93': 4, 'r94': 16, 'r95': 13, 'r96': 4, 'r97': 13, 'r98': 10, 'r99': 1}\n",
            "R2E: {'r00': 18, 'r01': 18, 'r02': 4, 'r03': 20, 'r04': 2, 'r05': 12, 'r06': 15, 'r07': 6, 'r08': 17, 'r09': 15, 'r10': 17, 'r11': 9, 'r12': 14, 'r13': 20, 'r14': 10, 'r15': 17, 'r16': 17, 'r17': 16, 'r18': 14, 'r19': 10, 'r20': 4, 'r21': 20, 'r22': 11, 'r23': 7, 'r24': 16, 'r25': 3, 'r26': 18, 'r27': 8, 'r28': 16, 'r29': 5, 'r30': 18, 'r31': 8, 'r32': 10, 'r33': 8, 'r34': 19, 'r35': 20, 'r36': 12, 'r37': 12, 'r38': 18, 'r39': 17, 'r40': 20, 'r41': 19, 'r42': 20, 'r43': 7, 'r44': 8, 'r45': 19, 'r46': 3, 'r47': 4, 'r48': 11, 'r49': 15, 'r50': 19, 'r51': 10, 'r52': 17, 'r53': 3, 'r54': 8, 'r55': 20, 'r56': 6, 'r57': 4, 'r58': 20, 'r59': 16, 'r60': 20, 'r61': 15, 'r62': 18, 'r63': 20, 'r64': 7, 'r65': 3, 'r66': 9, 'r67': 8, 'r68': 19, 'r69': 11, 'r70': 17, 'r71': 12, 'r72': 15, 'r73': 6, 'r74': 7, 'r75': 9, 'r76': 18, 'r77': 3, 'r78': 3, 'r79': 7, 'r80': 3, 'r81': 8, 'r82': 9, 'r83': 20, 'r84': 11, 'r85': 19, 'r86': 17, 'r87': 17, 'r88': 20, 'r89': 18, 'r90': 9, 'r91': 9, 'r92': 20, 'r93': 5, 'r94': 18, 'r95': 14, 'r96': 5, 'r97': 14, 'r98': 12, 'r99': 3}\n",
            "KK2T: {('p', 'p'): 0.0, ('p', 's1'): 0.6618048985464831, ('p', 's2'): 2.9325699595693937, ('p', 's3'): 1.903527135779046, ('p', 's4'): 1.301730387410743, ('p', 's5'): 0.4553824651008621, ('p', 's6'): 1.4522785543897057, ('p', 's7'): 0.8425129739306184, ('p', 's8'): 2.1672450270010017, ('p', 's9'): 2.6223170683761907, ('s1', 'p'): 0.6618048985464831, ('s1', 's1'): 0.0, ('s1', 's2'): 2.3893232850645365, ('s1', 's3'): 2.33025149097131, ('s1', 's4'): 1.6504869491807492, ('s1', 's5'): 0.3043514798712115, ('s1', 's6'): 1.966610940851162, ('s1', 's7'): 1.4760901492526832, ('s1', 's8'): 2.565781990068833, ('s1', 's9'): 2.7606668433461263, ('s2', 'p'): 2.9325699595693937, ('s2', 's1'): 2.3893232850645365, ('s2', 's2'): 0.0, ('s2', 's3'): 3.5503473835679253, ('s2', 's4'): 4.028661918273781, ('s2', 's5'): 2.693419151434357, ('s2', 's6'): 4.34861208276556, ('s2', 's7'): 3.5014219709795844, ('s2', 's8'): 4.943998728414635, ('s2', 's9'): 2.960494998600176, ('s3', 'p'): 1.903527135779046, ('s3', 's1'): 2.33025149097131, ('s3', 's2'): 3.5503473835679253, ('s3', 's3'): 0.0, ('s3', 's4'): 2.881206652884047, ('s3', 's5'): 2.296729027565957, ('s3', 's6'): 2.65382557280395, ('s3', 's7'): 1.302370193289199, ('s3', 's8'): 3.469437825388361, ('s3', 's9'): 1.2929132484695316, ('s4', 'p'): 1.301730387410743, ('s4', 's1'): 1.6504869491807492, ('s4', 's2'): 4.028661918273781, ('s4', 's3'): 2.881206652884047, ('s4', 's4'): 0.0, ('s4', 's5'): 1.3531670616503215, ('s4', 's6'): 0.5754671589164339, ('s4', 's7'): 1.578913524545914, ('s4', 's8'): 0.9159754189566712, ('s4', 's9'): 3.840677092945487, ('s5', 'p'): 0.4553824651008621, ('s5', 's1'): 0.3043514798712115, ('s5', 's2'): 2.693419151434357, ('s5', 's3'): 2.296729027565957, ('s5', 's4'): 1.3531670616503215, ('s5', 's5'): 0.0, ('s5', 's6'): 1.6632184980530935, ('s5', 's7'): 1.297840131341717, ('s5', 's8'): 2.266851782298962, ('s5', 's9'): 2.868159398061737, ('s6', 'p'): 1.4522785543897057, ('s6', 's1'): 1.966610940851162, ('s6', 's2'): 4.34861208276556, ('s6', 's3'): 2.65382557280395, ('s6', 's4'): 0.5754671589164339, ('s6', 's5'): 1.6632184980530935, ('s6', 's6'): 0.0, ('s6', 's7'): 1.393693125219608, ('s6', 's8'): 0.8210413431334596, ('s6', 's9'): 3.746569392636121, ('s7', 'p'): 0.8425129739306184, ('s7', 's1'): 1.4760901492526832, ('s7', 's2'): 3.5014219709795844, ('s7', 's3'): 1.302370193289199, ('s7', 's4'): 1.578913524545914, ('s7', 's5'): 1.297840131341717, ('s7', 's6'): 1.393693125219608, ('s7', 's7'): 0.0, ('s7', 's8'): 2.2143285684647966, ('s7', 's9'): 2.3554651179522046, ('s8', 'p'): 2.1672450270010017, ('s8', 's1'): 2.565781990068833, ('s8', 's2'): 4.943998728414635, ('s8', 's3'): 3.469437825388361, ('s8', 's4'): 0.9159754189566712, ('s8', 's5'): 2.266851782298962, ('s8', 's6'): 0.8210413431334596, ('s8', 's7'): 2.2143285684647966, ('s8', 's8'): 0.0, ('s8', 's9'): 4.56500643468924, ('s9', 'p'): 2.6223170683761907, ('s9', 's1'): 2.7606668433461263, ('s9', 's2'): 2.960494998600176, ('s9', 's3'): 1.2929132484695316, ('s9', 's4'): 3.840677092945487, ('s9', 's5'): 2.868159398061737, ('s9', 's6'): 3.746569392636121, ('s9', 's7'): 2.3554651179522046, ('s9', 's8'): 4.56500643468924, ('s9', 's9'): 0.0}\n"
          ]
        }
      ]
    },
    {
      "cell_type": "markdown",
      "source": [
        "☆素朴な数理モデルを再度実行。以下のコードは再掲（コピペ）"
      ],
      "metadata": {
        "id": "EGeyYrF0L-er"
      }
    },
    {
      "cell_type": "code",
      "source": [
        "import pulp\n",
        "\n",
        "prob = pulp.LpProblem('vrp_small', pulp.LpMinimize)\n",
        "\n",
        "x = pulp.LpVariable.dicts('x', DKK, cat='Binary')\n",
        "u = pulp.LpVariable.dicts('u', DK, cat='Integer', lowBound=0)\n",
        "y = pulp.LpVariable.dicts('y', DR, cat='Binary')\n",
        "h = pulp.LpVariable.dicts('h', D, cat='Continuous', lowBound=0)\n",
        "\n",
        "for d in D:\n",
        "    for k1 in K:\n",
        "        # (A-1) 各配送日について、ある地点に移動する数とその地点から移動する数は一致\n",
        "        prob += pulp.lpSum([x[d,k1,k2] for k2 in K]) == pulp.lpSum([x[d,k2,k1] for k2 in K])\n",
        "\n",
        "        # (A-2) 各配送日について、地点に訪問する数は高々1回まで\n",
        "        prob += pulp.lpSum([x[d,k2,k1] for k2 in K]) <= 1\n",
        "\n",
        "for d in D:\n",
        "    # (B-1) 各配送日について、配送センターは出発地点(0番目に訪問)\n",
        "    prob += u[d,p] == 0\n",
        "\n",
        "    # (B-2) 各配送日における、地点への訪問順番の上下限値\n",
        "    for s in S:\n",
        "        prob += 1 <= u[d,s]\n",
        "        prob += u[d,s] <= len(K) - 1\n",
        "\n",
        "    # (B-3) 各配送日について、お店間だけのサイクルを禁止\n",
        "    for s1 in S:\n",
        "        for s2 in S:\n",
        "            prob += u[d,s1] + 1 <= u[d,s2] + (len(K) - 1) * (1 - x[d,s1,s2])\n",
        "\n",
        "# (C) 各荷物は、自社配送するなら期間内で高々1回まで\n",
        "for r in R:\n",
        "    prob += pulp.lpSum([y[d,r] for d in D]) <= 1\n",
        "\n",
        "# (D) 各配送日について、荷物を自社配送するなら、配送先のお店に訪問\n",
        "for d in D:\n",
        "    for r in R:\n",
        "        tar_s = R2S[r]\n",
        "        prob += y[d,r] <= pulp.lpSum(x[d,k,tar_s] for k in K)\n",
        "\n",
        "# (E) 各配送日について、荷物の重量は4,000[kg]以下\n",
        "for d in D:\n",
        "    prob += pulp.lpSum([y[d,r] * R2W[r] for r in R]) <= 4000\n",
        "\n",
        "# (F) 各配送日について、ドライバーの残業時間は所定労働時間の8時間を差し引いた労働時間\n",
        "for d in D:\n",
        "    prob += pulp.lpSum([KK2T[k1,k2] * x[d,k1,k2] for k1 in K for k2 in K]) - 8 <= h[d]\n",
        "\n",
        "# (G) 各配送日について、ドライバーの残業時間は3時間以内\n",
        "for d in D:\n",
        "    prob += h[d] <= 3\n",
        "\n",
        "# (H) 各荷物は指定配送期間外の配送を禁止\n",
        "for r in R:\n",
        "    for d in D:\n",
        "        if d < R2B[r]:\n",
        "            prob += y[d,r] == 0\n",
        "        if R2E[r] < d:\n",
        "            prob += y[d,r] == 0\n",
        "\n",
        "# (I) 配送費用（残業費用+外注費用）を最小化する\n",
        "zangyo = pulp.lpSum([3000 * h[d] for d in D])\n",
        "gaityu = pulp.lpSum([46 * R2W[r] * (1 - pulp.lpSum(y[d,r] for d in D)) for r in R])\n",
        "prob += zangyo + gaityu\n",
        "\n",
        "# 求解（明示的にCBCソルバーを指定する）\n",
        "solver = pulp.PULP_CBC_CMD()\n",
        "status = prob.solve(solver)\n",
        "print('ステータス:', pulp.LpStatus[status])\n",
        "\n",
        "# 結果の表示\n",
        "print('残業費用:{:.0f}[円]'.format(zangyo.value()))\n",
        "print('外注費用:{:.0f}[円]'.format(gaityu.value()))\n",
        "print('費用合計:{:.0f}[円]'.format(zangyo.value() + gaityu.value()))"
      ],
      "metadata": {
        "colab": {
          "base_uri": "https://localhost:8080/",
          "height": 365
        },
        "id": "1t8mVeYJLyHQ",
        "outputId": "ab78a8ff-9e08-4e3a-be30-ab6a1a383120"
      },
      "execution_count": null,
      "outputs": [
        {
          "output_type": "error",
          "ename": "KeyboardInterrupt",
          "evalue": "",
          "traceback": [
            "\u001b[0;31m---------------------------------------------------------------------------\u001b[0m",
            "\u001b[0;31mKeyboardInterrupt\u001b[0m                         Traceback (most recent call last)",
            "\u001b[0;32m<ipython-input-72-fba0c13fc052>\u001b[0m in \u001b[0;36m<cell line: 69>\u001b[0;34m()\u001b[0m\n\u001b[1;32m     67\u001b[0m \u001b[0;31m# 求解（明示的にCBCソルバーを指定する）\u001b[0m\u001b[0;34m\u001b[0m\u001b[0;34m\u001b[0m\u001b[0m\n\u001b[1;32m     68\u001b[0m \u001b[0msolver\u001b[0m \u001b[0;34m=\u001b[0m \u001b[0mpulp\u001b[0m\u001b[0;34m.\u001b[0m\u001b[0mPULP_CBC_CMD\u001b[0m\u001b[0;34m(\u001b[0m\u001b[0;34m)\u001b[0m\u001b[0;34m\u001b[0m\u001b[0;34m\u001b[0m\u001b[0m\n\u001b[0;32m---> 69\u001b[0;31m \u001b[0mstatus\u001b[0m \u001b[0;34m=\u001b[0m \u001b[0mprob\u001b[0m\u001b[0;34m.\u001b[0m\u001b[0msolve\u001b[0m\u001b[0;34m(\u001b[0m\u001b[0msolver\u001b[0m\u001b[0;34m)\u001b[0m\u001b[0;34m\u001b[0m\u001b[0;34m\u001b[0m\u001b[0m\n\u001b[0m\u001b[1;32m     70\u001b[0m \u001b[0mprint\u001b[0m\u001b[0;34m(\u001b[0m\u001b[0;34m'ステータス:'\u001b[0m\u001b[0;34m,\u001b[0m \u001b[0mpulp\u001b[0m\u001b[0;34m.\u001b[0m\u001b[0mLpStatus\u001b[0m\u001b[0;34m[\u001b[0m\u001b[0mstatus\u001b[0m\u001b[0;34m]\u001b[0m\u001b[0;34m)\u001b[0m\u001b[0;34m\u001b[0m\u001b[0;34m\u001b[0m\u001b[0m\n\u001b[1;32m     71\u001b[0m \u001b[0;34m\u001b[0m\u001b[0m\n",
            "\u001b[0;32m/usr/local/lib/python3.10/dist-packages/pulp/pulp.py\u001b[0m in \u001b[0;36msolve\u001b[0;34m(self, solver, **kwargs)\u001b[0m\n\u001b[1;32m   1881\u001b[0m         \u001b[0;31m# time it\u001b[0m\u001b[0;34m\u001b[0m\u001b[0;34m\u001b[0m\u001b[0m\n\u001b[1;32m   1882\u001b[0m         \u001b[0mself\u001b[0m\u001b[0;34m.\u001b[0m\u001b[0mstartClock\u001b[0m\u001b[0;34m(\u001b[0m\u001b[0;34m)\u001b[0m\u001b[0;34m\u001b[0m\u001b[0;34m\u001b[0m\u001b[0m\n\u001b[0;32m-> 1883\u001b[0;31m         \u001b[0mstatus\u001b[0m \u001b[0;34m=\u001b[0m \u001b[0msolver\u001b[0m\u001b[0;34m.\u001b[0m\u001b[0mactualSolve\u001b[0m\u001b[0;34m(\u001b[0m\u001b[0mself\u001b[0m\u001b[0;34m,\u001b[0m \u001b[0;34m**\u001b[0m\u001b[0mkwargs\u001b[0m\u001b[0;34m)\u001b[0m\u001b[0;34m\u001b[0m\u001b[0;34m\u001b[0m\u001b[0m\n\u001b[0m\u001b[1;32m   1884\u001b[0m         \u001b[0mself\u001b[0m\u001b[0;34m.\u001b[0m\u001b[0mstopClock\u001b[0m\u001b[0;34m(\u001b[0m\u001b[0;34m)\u001b[0m\u001b[0;34m\u001b[0m\u001b[0;34m\u001b[0m\u001b[0m\n\u001b[1;32m   1885\u001b[0m         \u001b[0mself\u001b[0m\u001b[0;34m.\u001b[0m\u001b[0mrestoreObjective\u001b[0m\u001b[0;34m(\u001b[0m\u001b[0mwasNone\u001b[0m\u001b[0;34m,\u001b[0m \u001b[0mdummyVar\u001b[0m\u001b[0;34m)\u001b[0m\u001b[0;34m\u001b[0m\u001b[0;34m\u001b[0m\u001b[0m\n",
            "\u001b[0;32m/usr/local/lib/python3.10/dist-packages/pulp/apis/coin_api.py\u001b[0m in \u001b[0;36mactualSolve\u001b[0;34m(self, lp, **kwargs)\u001b[0m\n\u001b[1;32m    110\u001b[0m     \u001b[0;32mdef\u001b[0m \u001b[0mactualSolve\u001b[0m\u001b[0;34m(\u001b[0m\u001b[0mself\u001b[0m\u001b[0;34m,\u001b[0m \u001b[0mlp\u001b[0m\u001b[0;34m,\u001b[0m \u001b[0;34m**\u001b[0m\u001b[0mkwargs\u001b[0m\u001b[0;34m)\u001b[0m\u001b[0;34m:\u001b[0m\u001b[0;34m\u001b[0m\u001b[0;34m\u001b[0m\u001b[0m\n\u001b[1;32m    111\u001b[0m         \u001b[0;34m\"\"\"Solve a well formulated lp problem\"\"\"\u001b[0m\u001b[0;34m\u001b[0m\u001b[0;34m\u001b[0m\u001b[0m\n\u001b[0;32m--> 112\u001b[0;31m         \u001b[0;32mreturn\u001b[0m \u001b[0mself\u001b[0m\u001b[0;34m.\u001b[0m\u001b[0msolve_CBC\u001b[0m\u001b[0;34m(\u001b[0m\u001b[0mlp\u001b[0m\u001b[0;34m,\u001b[0m \u001b[0;34m**\u001b[0m\u001b[0mkwargs\u001b[0m\u001b[0;34m)\u001b[0m\u001b[0;34m\u001b[0m\u001b[0;34m\u001b[0m\u001b[0m\n\u001b[0m\u001b[1;32m    113\u001b[0m \u001b[0;34m\u001b[0m\u001b[0m\n\u001b[1;32m    114\u001b[0m     \u001b[0;32mdef\u001b[0m \u001b[0mavailable\u001b[0m\u001b[0;34m(\u001b[0m\u001b[0mself\u001b[0m\u001b[0;34m)\u001b[0m\u001b[0;34m:\u001b[0m\u001b[0;34m\u001b[0m\u001b[0;34m\u001b[0m\u001b[0m\n",
            "\u001b[0;32m/usr/local/lib/python3.10/dist-packages/pulp/apis/coin_api.py\u001b[0m in \u001b[0;36msolve_CBC\u001b[0;34m(self, lp, use_mps)\u001b[0m\n\u001b[1;32m    176\u001b[0m         \u001b[0;32melse\u001b[0m\u001b[0;34m:\u001b[0m\u001b[0;34m\u001b[0m\u001b[0;34m\u001b[0m\u001b[0m\n\u001b[1;32m    177\u001b[0m             \u001b[0mcbc\u001b[0m \u001b[0;34m=\u001b[0m \u001b[0msubprocess\u001b[0m\u001b[0;34m.\u001b[0m\u001b[0mPopen\u001b[0m\u001b[0;34m(\u001b[0m\u001b[0margs\u001b[0m\u001b[0;34m,\u001b[0m \u001b[0mstdout\u001b[0m\u001b[0;34m=\u001b[0m\u001b[0mpipe\u001b[0m\u001b[0;34m,\u001b[0m \u001b[0mstderr\u001b[0m\u001b[0;34m=\u001b[0m\u001b[0mpipe\u001b[0m\u001b[0;34m,\u001b[0m \u001b[0mstdin\u001b[0m\u001b[0;34m=\u001b[0m\u001b[0mdevnull\u001b[0m\u001b[0;34m)\u001b[0m\u001b[0;34m\u001b[0m\u001b[0;34m\u001b[0m\u001b[0m\n\u001b[0;32m--> 178\u001b[0;31m         \u001b[0;32mif\u001b[0m \u001b[0mcbc\u001b[0m\u001b[0;34m.\u001b[0m\u001b[0mwait\u001b[0m\u001b[0;34m(\u001b[0m\u001b[0;34m)\u001b[0m \u001b[0;34m!=\u001b[0m \u001b[0;36m0\u001b[0m\u001b[0;34m:\u001b[0m\u001b[0;34m\u001b[0m\u001b[0;34m\u001b[0m\u001b[0m\n\u001b[0m\u001b[1;32m    179\u001b[0m             \u001b[0;32mif\u001b[0m \u001b[0mpipe\u001b[0m\u001b[0;34m:\u001b[0m\u001b[0;34m\u001b[0m\u001b[0;34m\u001b[0m\u001b[0m\n\u001b[1;32m    180\u001b[0m                 \u001b[0mpipe\u001b[0m\u001b[0;34m.\u001b[0m\u001b[0mclose\u001b[0m\u001b[0;34m(\u001b[0m\u001b[0;34m)\u001b[0m\u001b[0;34m\u001b[0m\u001b[0;34m\u001b[0m\u001b[0m\n",
            "\u001b[0;32m/usr/lib/python3.10/subprocess.py\u001b[0m in \u001b[0;36mwait\u001b[0;34m(self, timeout)\u001b[0m\n\u001b[1;32m   1207\u001b[0m             \u001b[0mendtime\u001b[0m \u001b[0;34m=\u001b[0m \u001b[0m_time\u001b[0m\u001b[0;34m(\u001b[0m\u001b[0;34m)\u001b[0m \u001b[0;34m+\u001b[0m \u001b[0mtimeout\u001b[0m\u001b[0;34m\u001b[0m\u001b[0;34m\u001b[0m\u001b[0m\n\u001b[1;32m   1208\u001b[0m         \u001b[0;32mtry\u001b[0m\u001b[0;34m:\u001b[0m\u001b[0;34m\u001b[0m\u001b[0;34m\u001b[0m\u001b[0m\n\u001b[0;32m-> 1209\u001b[0;31m             \u001b[0;32mreturn\u001b[0m \u001b[0mself\u001b[0m\u001b[0;34m.\u001b[0m\u001b[0m_wait\u001b[0m\u001b[0;34m(\u001b[0m\u001b[0mtimeout\u001b[0m\u001b[0;34m=\u001b[0m\u001b[0mtimeout\u001b[0m\u001b[0;34m)\u001b[0m\u001b[0;34m\u001b[0m\u001b[0;34m\u001b[0m\u001b[0m\n\u001b[0m\u001b[1;32m   1210\u001b[0m         \u001b[0;32mexcept\u001b[0m \u001b[0mKeyboardInterrupt\u001b[0m\u001b[0;34m:\u001b[0m\u001b[0;34m\u001b[0m\u001b[0;34m\u001b[0m\u001b[0m\n\u001b[1;32m   1211\u001b[0m             \u001b[0;31m# https://bugs.python.org/issue25942\u001b[0m\u001b[0;34m\u001b[0m\u001b[0;34m\u001b[0m\u001b[0m\n",
            "\u001b[0;32m/usr/lib/python3.10/subprocess.py\u001b[0m in \u001b[0;36m_wait\u001b[0;34m(self, timeout)\u001b[0m\n\u001b[1;32m   1957\u001b[0m                         \u001b[0;32mif\u001b[0m \u001b[0mself\u001b[0m\u001b[0;34m.\u001b[0m\u001b[0mreturncode\u001b[0m \u001b[0;32mis\u001b[0m \u001b[0;32mnot\u001b[0m \u001b[0;32mNone\u001b[0m\u001b[0;34m:\u001b[0m\u001b[0;34m\u001b[0m\u001b[0;34m\u001b[0m\u001b[0m\n\u001b[1;32m   1958\u001b[0m                             \u001b[0;32mbreak\u001b[0m  \u001b[0;31m# Another thread waited.\u001b[0m\u001b[0;34m\u001b[0m\u001b[0;34m\u001b[0m\u001b[0m\n\u001b[0;32m-> 1959\u001b[0;31m                         \u001b[0;34m(\u001b[0m\u001b[0mpid\u001b[0m\u001b[0;34m,\u001b[0m \u001b[0msts\u001b[0m\u001b[0;34m)\u001b[0m \u001b[0;34m=\u001b[0m \u001b[0mself\u001b[0m\u001b[0;34m.\u001b[0m\u001b[0m_try_wait\u001b[0m\u001b[0;34m(\u001b[0m\u001b[0;36m0\u001b[0m\u001b[0;34m)\u001b[0m\u001b[0;34m\u001b[0m\u001b[0;34m\u001b[0m\u001b[0m\n\u001b[0m\u001b[1;32m   1960\u001b[0m                         \u001b[0;31m# Check the pid and loop as waitpid has been known to\u001b[0m\u001b[0;34m\u001b[0m\u001b[0;34m\u001b[0m\u001b[0m\n\u001b[1;32m   1961\u001b[0m                         \u001b[0;31m# return 0 even without WNOHANG in odd situations.\u001b[0m\u001b[0;34m\u001b[0m\u001b[0;34m\u001b[0m\u001b[0m\n",
            "\u001b[0;32m/usr/lib/python3.10/subprocess.py\u001b[0m in \u001b[0;36m_try_wait\u001b[0;34m(self, wait_flags)\u001b[0m\n\u001b[1;32m   1915\u001b[0m             \u001b[0;34m\"\"\"All callers to this function MUST hold self._waitpid_lock.\"\"\"\u001b[0m\u001b[0;34m\u001b[0m\u001b[0;34m\u001b[0m\u001b[0m\n\u001b[1;32m   1916\u001b[0m             \u001b[0;32mtry\u001b[0m\u001b[0;34m:\u001b[0m\u001b[0;34m\u001b[0m\u001b[0;34m\u001b[0m\u001b[0m\n\u001b[0;32m-> 1917\u001b[0;31m                 \u001b[0;34m(\u001b[0m\u001b[0mpid\u001b[0m\u001b[0;34m,\u001b[0m \u001b[0msts\u001b[0m\u001b[0;34m)\u001b[0m \u001b[0;34m=\u001b[0m \u001b[0mos\u001b[0m\u001b[0;34m.\u001b[0m\u001b[0mwaitpid\u001b[0m\u001b[0;34m(\u001b[0m\u001b[0mself\u001b[0m\u001b[0;34m.\u001b[0m\u001b[0mpid\u001b[0m\u001b[0;34m,\u001b[0m \u001b[0mwait_flags\u001b[0m\u001b[0;34m)\u001b[0m\u001b[0;34m\u001b[0m\u001b[0;34m\u001b[0m\u001b[0m\n\u001b[0m\u001b[1;32m   1918\u001b[0m             \u001b[0;32mexcept\u001b[0m \u001b[0mChildProcessError\u001b[0m\u001b[0;34m:\u001b[0m\u001b[0;34m\u001b[0m\u001b[0;34m\u001b[0m\u001b[0m\n\u001b[1;32m   1919\u001b[0m                 \u001b[0;31m# This happens if SIGCLD is set to be ignored or waiting\u001b[0m\u001b[0;34m\u001b[0m\u001b[0;34m\u001b[0m\u001b[0m\n",
            "\u001b[0;31mKeyboardInterrupt\u001b[0m: "
          ]
        }
      ]
    },
    {
      "cell_type": "markdown",
      "source": [
        "計算量が多く、全く終わらない。\n",
        "\n",
        "計算を打ち切るためのオプションを指定\n",
        "\n",
        "\n",
        "代表的なオプションは以下2つ\n",
        "\n",
        "**timeLimit: 計算時間による終了判定**\n",
        "\n",
        "60秒で計算を打ち切る。\n",
        "\n",
        "```python\n",
        "solver = pulp.PULP_CBC_CMD(timeLimite=60)\n",
        "```\n",
        "\n",
        "\n",
        "**gapRel: 最適解となる目的関数値からの誤差による終了判定**\n",
        "\n",
        "離村的な最適解の目的関数値に対して10%以内の誤差の目的関数値の解が得られたら打ち切り。\n",
        "\n",
        "```python\n",
        "solver = pulp.PULP_CBC_CMD(gapRel=0.1)\n",
        "```"
      ],
      "metadata": {
        "id": "Y_FOke0oMKfS"
      }
    },
    {
      "cell_type": "markdown",
      "source": [
        "誤差による終了判定を入れて再度実行"
      ],
      "metadata": {
        "id": "jg0z142VNnU5"
      }
    },
    {
      "cell_type": "code",
      "source": [
        "import pulp\n",
        "\n",
        "prob = pulp.LpProblem('vrp_small', pulp.LpMinimize)\n",
        "\n",
        "x = pulp.LpVariable.dicts('x', DKK, cat='Binary')\n",
        "u = pulp.LpVariable.dicts('u', DK, cat='Integer', lowBound=0)\n",
        "y = pulp.LpVariable.dicts('y', DR, cat='Binary')\n",
        "h = pulp.LpVariable.dicts('h', D, cat='Continuous', lowBound=0)\n",
        "\n",
        "for d in D:\n",
        "    for k1 in K:\n",
        "        # (A-1) 各配送日について、ある地点に移動する数とその地点から移動する数は一致\n",
        "        prob += pulp.lpSum([x[d,k1,k2] for k2 in K]) == pulp.lpSum([x[d,k2,k1] for k2 in K])\n",
        "\n",
        "        # (A-2) 各配送日について、地点に訪問する数は高々1回まで\n",
        "        prob += pulp.lpSum([x[d,k2,k1] for k2 in K]) <= 1\n",
        "\n",
        "for d in D:\n",
        "    # (B-1) 各配送日について、配送センターは出発地点(0番目に訪問)\n",
        "    prob += u[d,p] == 0\n",
        "\n",
        "    # (B-2) 各配送日における、地点への訪問順番の上下限値\n",
        "    for s in S:\n",
        "        prob += 1 <= u[d,s]\n",
        "        prob += u[d,s] <= len(K) - 1\n",
        "\n",
        "    # (B-3) 各配送日について、お店間だけのサイクルを禁止\n",
        "    for s1 in S:\n",
        "        for s2 in S:\n",
        "            prob += u[d,s1] + 1 <= u[d,s2] + (len(K) - 1) * (1 - x[d,s1,s2])\n",
        "\n",
        "# (C) 各荷物は、自社配送するなら期間内で高々1回まで\n",
        "for r in R:\n",
        "    prob += pulp.lpSum([y[d,r] for d in D]) <= 1\n",
        "\n",
        "# (D) 各配送日について、荷物を自社配送するなら、配送先のお店に訪問\n",
        "for d in D:\n",
        "    for r in R:\n",
        "        tar_s = R2S[r]\n",
        "        prob += y[d,r] <= pulp.lpSum(x[d,k,tar_s] for k in K)\n",
        "\n",
        "# (E) 各配送日について、荷物の重量は4,000[kg]以下\n",
        "for d in D:\n",
        "    prob += pulp.lpSum([y[d,r] * R2W[r] for r in R]) <= 4000\n",
        "\n",
        "# (F) 各配送日について、ドライバーの残業時間は所定労働時間の8時間を差し引いた労働時間\n",
        "for d in D:\n",
        "    prob += pulp.lpSum([KK2T[k1,k2] * x[d,k1,k2] for k1 in K for k2 in K]) - 8 <= h[d]\n",
        "\n",
        "# (G) 各配送日について、ドライバーの残業時間は3時間以内\n",
        "for d in D:\n",
        "    prob += h[d] <= 3\n",
        "\n",
        "# (H) 各荷物は指定配送期間外の配送を禁止\n",
        "for r in R:\n",
        "    for d in D:\n",
        "        if d < R2B[r]:\n",
        "            prob += y[d,r] == 0\n",
        "        if R2E[r] < d:\n",
        "            prob += y[d,r] == 0\n",
        "\n",
        "# (I) 配送費用（残業費用+外注費用）を最小化する\n",
        "zangyo = pulp.lpSum([3000 * h[d] for d in D])\n",
        "gaityu = pulp.lpSum([46 * R2W[r] * (1 - pulp.lpSum(y[d,r] for d in D)) for r in R])\n",
        "prob += zangyo + gaityu\n",
        "\n",
        "# 求解（明示的にCBCソルバーを指定する）\n",
        "solver = pulp.PULP_CBC_CMD(gapRel=0.1) #誤差による終了判定を追加\n",
        "status = prob.solve(solver)\n",
        "print('ステータス:', pulp.LpStatus[status])\n",
        "\n",
        "# 結果の表示\n",
        "print('残業費用:{:.0f}[円]'.format(zangyo.value()))\n",
        "print('外注費用:{:.0f}[円]'.format(gaityu.value()))\n",
        "print('費用合計:{:.0f}[円]'.format(zangyo.value() + gaityu.value()))"
      ],
      "metadata": {
        "colab": {
          "base_uri": "https://localhost:8080/"
        },
        "id": "-9UsdQRCNXm9",
        "outputId": "e8ec77bf-b93a-43fb-ac48-811e21b400de"
      },
      "execution_count": null,
      "outputs": [
        {
          "output_type": "stream",
          "name": "stdout",
          "text": [
            "ステータス: Optimal\n",
            "残業費用:27003[円]\n",
            "外注費用:1208420[円]\n",
            "費用合計:1235423[円]\n"
          ]
        }
      ]
    },
    {
      "cell_type": "markdown",
      "source": [
        "配送ルートを確認する"
      ],
      "metadata": {
        "id": "njd6_KtkN9pa"
      }
    },
    {
      "cell_type": "code",
      "source": [
        "for d in D:\n",
        "    X = [(k1,k2) for k1 in K for k2 in K if x[d,k1,k2].value()==1]\n",
        "\n",
        "    time = sum([KK2T[k1,k2] for k1,k2 in X])\n",
        "    print('---配送日:{}日目---'.format(d))\n",
        "    print('配送重量:{}[kg]'.format(sum([y[d,r].value() * R2W[r] for r in R])))\n",
        "    print('移動時間:{:.2f}[h]'.format(time))\n",
        "    print('残業時間:{:.2f}[h]'.format(h[d].value()))\n",
        "\n",
        "    # 移動する地点の順番のリストを作成\n",
        "    tar = p\n",
        "    Route = [p]\n",
        "    while len(X) >= 1:\n",
        "        for k1,k2 in X:\n",
        "            if k1 == tar:\n",
        "                tar = k2\n",
        "                Route.append(k2)\n",
        "                X.remove((k1,k2))\n",
        "\n",
        "    print('配送ルート:', '->'.join(Route), '\\n')"
      ],
      "metadata": {
        "colab": {
          "base_uri": "https://localhost:8080/"
        },
        "id": "kHCyiBO4N_mU",
        "outputId": "3ab81a46-dc8c-4e53-a616-b7ed970375f9"
      },
      "execution_count": null,
      "outputs": [
        {
          "output_type": "stream",
          "name": "stdout",
          "text": [
            "---配送日:1日目---\n",
            "配送重量:3680.0[kg]\n",
            "移動時間:5.82[h]\n",
            "残業時間:0.00[h]\n",
            "配送ルート: p->s3->s9->p \n",
            "\n",
            "---配送日:2日目---\n",
            "配送重量:3940.0[kg]\n",
            "移動時間:7.60[h]\n",
            "残業時間:0.00[h]\n",
            "配送ルート: p->s4->s8->s6->s3->p \n",
            "\n",
            "---配送日:3日目---\n",
            "配送重量:3850.0[kg]\n",
            "移動時間:5.37[h]\n",
            "残業時間:0.00[h]\n",
            "配送ルート: p->s5->s4->s6->s8->p \n",
            "\n",
            "---配送日:4日目---\n",
            "配送重量:3960.0[kg]\n",
            "移動時間:6.67[h]\n",
            "残業時間:0.00[h]\n",
            "配送ルート: p->s4->s6->s8->s7->s5->p \n",
            "\n",
            "---配送日:5日目---\n",
            "配送重量:3980.0[kg]\n",
            "移動時間:7.18[h]\n",
            "残業時間:0.00[h]\n",
            "配送ルート: p->s9->s3->s5->s1->p \n",
            "\n",
            "---配送日:6日目---\n",
            "配送重量:3560.0[kg]\n",
            "移動時間:6.73[h]\n",
            "残業時間:0.00[h]\n",
            "配送ルート: p->s5->s7->s9->p \n",
            "\n",
            "---配送日:7日目---\n",
            "配送重量:3770.0[kg]\n",
            "移動時間:6.29[h]\n",
            "残業時間:0.00[h]\n",
            "配送ルート: p->s1->s5->s4->s8->s7->p \n",
            "\n",
            "---配送日:8日目---\n",
            "配送重量:4000.0[kg]\n",
            "移動時間:8.51[h]\n",
            "残業時間:0.51[h]\n",
            "配送ルート: p->s1->s2->s3->p \n",
            "\n",
            "---配送日:9日目---\n",
            "配送重量:3880.0[kg]\n",
            "移動時間:9.33[h]\n",
            "残業時間:1.33[h]\n",
            "配送ルート: p->s2->s9->s3->s7->p \n",
            "\n",
            "---配送日:10日目---\n",
            "配送重量:3890.0[kg]\n",
            "移動時間:9.21[h]\n",
            "残業時間:1.21[h]\n",
            "配送ルート: p->s7->s9->s2->s1->p \n",
            "\n",
            "---配送日:11日目---\n",
            "配送重量:3100.0[kg]\n",
            "移動時間:8.28[h]\n",
            "残業時間:0.28[h]\n",
            "配送ルート: p->s4->s5->s1->s2->p \n",
            "\n",
            "---配送日:12日目---\n",
            "配送重量:3810.0[kg]\n",
            "移動時間:3.08[h]\n",
            "残業時間:0.00[h]\n",
            "配送ルート: p->s5->s1->s7->p \n",
            "\n",
            "---配送日:13日目---\n",
            "配送重量:3720.0[kg]\n",
            "移動時間:6.62[h]\n",
            "残業時間:0.00[h]\n",
            "配送ルート: p->s1->s9->s3->p \n",
            "\n",
            "---配送日:14日目---\n",
            "配送重量:3950.0[kg]\n",
            "移動時間:6.48[h]\n",
            "残業時間:0.00[h]\n",
            "配送ルート: p->s4->s6->s7->s3->p \n",
            "\n",
            "---配送日:15日目---\n",
            "配送重量:3950.0[kg]\n",
            "移動時間:10.29[h]\n",
            "残業時間:2.29[h]\n",
            "配送ルート: p->s7->s4->s6->s5->s2->p \n",
            "\n",
            "---配送日:16日目---\n",
            "配送重量:3860.0[kg]\n",
            "移動時間:8.63[h]\n",
            "残業時間:0.63[h]\n",
            "配送ルート: p->s7->s3->s2->p \n",
            "\n",
            "---配送日:17日目---\n",
            "配送重量:4000.0[kg]\n",
            "移動時間:7.20[h]\n",
            "残業時間:0.00[h]\n",
            "配送ルート: p->s3->s7->s4->s1->s5->p \n",
            "\n",
            "---配送日:18日目---\n",
            "配送重量:3990.0[kg]\n",
            "移動時間:10.76[h]\n",
            "残業時間:2.76[h]\n",
            "配送ルート: p->s6->s1->s5->s2->s7->p \n",
            "\n",
            "---配送日:19日目---\n",
            "配送重量:3970.0[kg]\n",
            "移動時間:6.68[h]\n",
            "残業時間:0.00[h]\n",
            "配送ルート: p->s3->s6->s5->p \n",
            "\n",
            "---配送日:20日目---\n",
            "配送重量:3970.0[kg]\n",
            "移動時間:7.77[h]\n",
            "残業時間:0.00[h]\n",
            "配送ルート: p->s2->s5->s7->p \n",
            "\n"
          ]
        }
      ]
    },
    {
      "cell_type": "markdown",
      "source": [
        "荷物ごとの結果を確認"
      ],
      "metadata": {
        "id": "A4nMyX2sOfh9"
      }
    },
    {
      "cell_type": "code",
      "source": [
        "for r in R:\n",
        "    # 自社のトラックで配送したかどうかのフラグ\n",
        "    owned_truck_flag = sum([y[d,r].value() for d in D])\n",
        "    if owned_truck_flag:\n",
        "        # 配送日の取得\n",
        "        tar_d = [d for d in D if y[d,r].value() == 1][0]\n",
        "        text = '荷物{}(お店{},{}[kg])-配送日:{}日目'.format(r, R2S[r], R2W[r], tar_d)\n",
        "    else:\n",
        "        # 外注費用の取得\n",
        "        gc = 46 * R2W[r]\n",
        "        text = '荷物{}(お店{},{}[kg])-外注費用:{}[円]'.format(r, R2S[r], R2W[r], gc)\n",
        "\n",
        "    print(text)"
      ],
      "metadata": {
        "colab": {
          "base_uri": "https://localhost:8080/"
        },
        "id": "RyLMPEc9OcVy",
        "outputId": "578193a7-9100-458a-a86f-cefba5eaa56e"
      },
      "execution_count": null,
      "outputs": [
        {
          "output_type": "stream",
          "name": "stdout",
          "text": [
            "荷物r00(お店s4,1000[kg])-配送日:17日目\n",
            "荷物r01(お店s1,950[kg])-外注費用:43700[円]\n",
            "荷物r02(お店s6,1330[kg])-配送日:2日目\n",
            "荷物r03(お店s5,1130[kg])-配送日:19日目\n",
            "荷物r04(お店s2,710[kg])-外注費用:32660[円]\n",
            "荷物r05(お店s5,690[kg])-配送日:11日目\n",
            "荷物r06(お店s3,1180[kg])-配送日:13日目\n",
            "荷物r07(お店s4,690[kg])-配送日:4日目\n",
            "荷物r08(お店s2,960[kg])-外注費用:44160[円]\n",
            "荷物r09(お店s6,930[kg])-配送日:14日目\n",
            "荷物r10(お店s9,910[kg])-外注費用:41860[円]\n",
            "荷物r11(お店s3,1100[kg])-配送日:8日目\n",
            "荷物r12(お店s1,1360[kg])-配送日:12日目\n",
            "荷物r13(お店s7,1120[kg])-外注費用:51520[円]\n",
            "荷物r14(お店s9,820[kg])-配送日:9日目\n",
            "荷物r15(お店s3,650[kg])-配送日:16日目\n",
            "荷物r16(お店s5,1590[kg])-配送日:17日目\n",
            "荷物r17(お店s7,930[kg])-配送日:15日目\n",
            "荷物r18(お店s4,880[kg])-配送日:14日目\n",
            "荷物r19(お店s9,1470[kg])-配送日:9日目\n",
            "荷物r20(お店s6,1020[kg])-配送日:3日目\n",
            "荷物r21(お店s8,2020[kg])-外注費用:92920[円]\n",
            "荷物r22(お店s4,790[kg])-配送日:11日目\n",
            "荷物r23(お店s9,890[kg])-配送日:6日目\n",
            "荷物r24(お店s2,1160[kg])-配送日:16日目\n",
            "荷物r25(お店s3,560[kg])-配送日:2日目\n",
            "荷物r26(お店s5,1440[kg])-外注費用:66240[円]\n",
            "荷物r27(お店s5,900[kg])-配送日:6日目\n",
            "荷物r28(お店s2,1230[kg])-配送日:15日目\n",
            "荷物r29(お店s4,1020[kg])-配送日:4日目\n",
            "荷物r30(お店s4,1020[kg])-外注費用:46920[円]\n",
            "荷物r31(お店s1,1080[kg])-配送日:7日目\n",
            "荷物r32(お店s7,1110[kg])-配送日:10日目\n",
            "荷物r33(お店s8,1840[kg])-配送日:7日目\n",
            "荷物r34(お店s5,690[kg])-外注費用:31740[円]\n",
            "荷物r35(お店s6,980[kg])-配送日:18日目\n",
            "荷物r36(お店s1,1220[kg])-配送日:12日目\n",
            "荷物r37(お店s7,1230[kg])-配送日:12日目\n",
            "荷物r38(お店s7,1360[kg])-配送日:16日目\n",
            "荷物r39(お店s2,890[kg])-配送日:15日目\n",
            "荷物r40(お店s4,1130[kg])-外注費用:51980[円]\n",
            "荷物r41(お店s3,1450[kg])-配送日:19日目\n",
            "荷物r42(お店s7,870[kg])-外注費用:40020[円]\n",
            "荷物r43(お店s5,1290[kg])-外注費用:59340[円]\n",
            "荷物r44(お店s2,620[kg])-外注費用:28520[円]\n",
            "荷物r45(お店s9,970[kg])-外注費用:44620[円]\n",
            "荷物r46(お店s9,1060[kg])-配送日:1日目\n",
            "荷物r47(お店s7,860[kg])-配送日:4日目\n",
            "荷物r48(お店s2,1680[kg])-配送日:10日目\n",
            "荷物r49(お店s9,1250[kg])-配送日:13日目\n",
            "荷物r50(お店s7,1090[kg])-外注費用:50140[円]\n",
            "荷物r51(お店s7,850[kg])-配送日:9日目\n",
            "荷物r52(お店s6,970[kg])-外注費用:44620[円]\n",
            "荷物r53(お店s9,890[kg])-配送日:1日目\n",
            "荷物r54(お店s5,780[kg])-外注費用:35880[円]\n",
            "荷物r55(お店s5,520[kg])-配送日:20日目\n",
            "荷物r56(お店s4,480[kg])-配送日:4日目\n",
            "荷物r57(お店s8,880[kg])-配送日:2日目\n",
            "荷物r58(お店s6,830[kg])-配送日:19日目\n",
            "荷物r59(お店s3,690[kg])-配送日:16日目\n",
            "荷物r60(お店s2,1100[kg])-配送日:20日目\n",
            "荷物r61(お店s7,1200[kg])-配送日:14日目\n",
            "荷物r62(お店s1,1090[kg])-外注費用:50140[円]\n",
            "荷物r63(お店s5,560[kg])-配送日:19日目\n",
            "荷物r64(お店s7,780[kg])-配送日:6日目\n",
            "荷物r65(お店s8,1170[kg])-配送日:2日目\n",
            "荷物r66(お店s8,950[kg])-外注費用:43700[円]\n",
            "荷物r67(お店s1,1120[kg])-配送日:8日目\n",
            "荷物r68(お店s7,1240[kg])-配送日:18日目\n",
            "荷物r69(お店s2,1040[kg])-外注費用:47840[円]\n",
            "荷物r70(お店s1,1260[kg])-外注費用:57960[円]\n",
            "荷物r71(お店s2,970[kg])-配送日:11日目\n",
            "荷物r72(お店s3,940[kg])-配送日:14日目\n",
            "荷物r73(お店s3,1060[kg])-配送日:5日目\n",
            "荷物r74(お店s1,1310[kg])-配送日:5日目\n",
            "荷物r75(お店s2,740[kg])-配送日:9日目\n",
            "荷物r76(お店s3,630[kg])-配送日:17日目\n",
            "荷物r77(お店s3,880[kg])-配送日:1日目\n",
            "荷物r78(お店s4,1270[kg])-配送日:3日目\n",
            "荷物r79(お店s9,910[kg])-配送日:5日目\n",
            "荷物r80(お店s6,1560[kg])-配送日:3日目\n",
            "荷物r81(お店s7,990[kg])-配送日:6日目\n",
            "荷物r82(お店s2,590[kg])-配送日:8日目\n",
            "荷物r83(お店s2,1770[kg])-配送日:18日目\n",
            "荷物r84(お店s2,650[kg])-配送日:11日目\n",
            "荷物r85(お店s8,1160[kg])-外注費用:53360[円]\n",
            "荷物r86(お店s6,900[kg])-配送日:15日目\n",
            "荷物r87(お店s1,1060[kg])-外注費用:48760[円]\n",
            "荷物r88(お店s2,770[kg])-配送日:20日目\n",
            "荷物r89(お店s5,780[kg])-配送日:17日目\n",
            "荷物r90(お店s7,850[kg])-配送日:7日目\n",
            "荷物r91(お店s2,1190[kg])-配送日:8日目\n",
            "荷物r92(お店s7,1580[kg])-配送日:20日目\n",
            "荷物r93(お店s6,910[kg])-配送日:4日目\n",
            "荷物r94(お店s1,900[kg])-外注費用:41400[円]\n",
            "荷物r95(お店s3,1290[kg])-配送日:13日目\n",
            "荷物r96(お店s5,700[kg])-配送日:5日目\n",
            "荷物r97(お店s9,1270[kg])-外注費用:58420[円]\n",
            "荷物r98(お店s9,1100[kg])-配送日:10日目\n",
            "荷物r99(お店s9,850[kg])-配送日:1日目\n"
          ]
        }
      ]
    },
    {
      "cell_type": "markdown",
      "source": [
        "日付ごとにチェック"
      ],
      "metadata": {
        "id": "9_Po4K3oQhKw"
      }
    },
    {
      "cell_type": "code",
      "source": [
        "for d in [1, 2, 3]:\n",
        "    X = [(k1,k2) for k1 in K for k2 in K if x[d,k1,k2].value()==1]\n",
        "\n",
        "    time = sum([KK2T[k1,k2] for k1,k2 in X])\n",
        "    print('---配送日:{}日目---'.format(d))\n",
        "    print('配送重量:{}[kg]'.format(sum([y[d,r].value() * R2W[r] for r in R])))\n",
        "    print('移動時間:{:.2f}[h]'.format(time))\n",
        "    print('残業時間:{:.2f}[h]'.format(h[d].value()))\n",
        "\n",
        "    # 移動する地点の順番のリストを作成\n",
        "    tar = p\n",
        "    Route = [p]\n",
        "    while len(X) >= 1:\n",
        "        for k1,k2 in X:\n",
        "            if k1 == tar:\n",
        "                tar = k2\n",
        "                Route.append(k2)\n",
        "                X.remove((k1,k2))\n",
        "\n",
        "    print('配送ルート:', '->'.join(Route), '\\n')\n",
        "\n",
        "    for r in R:\n",
        "        # 自社のトラックで配送したかどうかのフラグ\n",
        "        owned_truck_flag = sum([y[d,r].value() for d in D])\n",
        "        if owned_truck_flag:\n",
        "            # 配送日の取得\n",
        "            tar_d = [d for d in D if y[d,r].value() == 1][0]\n",
        "            text = '荷物{}(お店{},{}[kg])-配送日:{}日目'.format(r, R2S[r], R2W[r], tar_d)\n",
        "\n",
        "        if tar_d == d:\n",
        "            print(text)\n",
        "\n",
        "    print('\\n')"
      ],
      "metadata": {
        "colab": {
          "base_uri": "https://localhost:8080/"
        },
        "id": "DNIVsSJWQitF",
        "outputId": "c87280ea-a59a-4fc8-dee0-df2866113fd3"
      },
      "execution_count": null,
      "outputs": [
        {
          "output_type": "stream",
          "name": "stdout",
          "text": [
            "---配送日:1日目---\n",
            "配送重量:3680.0[kg]\n",
            "移動時間:5.82[h]\n",
            "残業時間:0.00[h]\n",
            "配送ルート: p->s3->s9->p \n",
            "\n",
            "荷物r46(お店s9,1060[kg])-配送日:1日目\n",
            "荷物r53(お店s9,890[kg])-配送日:1日目\n",
            "荷物r53(お店s9,890[kg])-配送日:1日目\n",
            "荷物r77(お店s3,880[kg])-配送日:1日目\n",
            "荷物r99(お店s9,850[kg])-配送日:1日目\n",
            "\n",
            "\n",
            "---配送日:2日目---\n",
            "配送重量:3940.0[kg]\n",
            "移動時間:7.60[h]\n",
            "残業時間:0.00[h]\n",
            "配送ルート: p->s4->s8->s6->s3->p \n",
            "\n",
            "荷物r02(お店s6,1330[kg])-配送日:2日目\n",
            "荷物r25(お店s3,560[kg])-配送日:2日目\n",
            "荷物r25(お店s3,560[kg])-配送日:2日目\n",
            "荷物r57(お店s8,880[kg])-配送日:2日目\n",
            "荷物r65(お店s8,1170[kg])-配送日:2日目\n",
            "荷物r65(お店s8,1170[kg])-配送日:2日目\n",
            "\n",
            "\n",
            "---配送日:3日目---\n",
            "配送重量:3850.0[kg]\n",
            "移動時間:5.37[h]\n",
            "残業時間:0.00[h]\n",
            "配送ルート: p->s5->s4->s6->s8->p \n",
            "\n",
            "荷物r20(お店s6,1020[kg])-配送日:3日目\n",
            "荷物r20(お店s6,1020[kg])-配送日:3日目\n",
            "荷物r78(お店s4,1270[kg])-配送日:3日目\n",
            "荷物r80(お店s6,1560[kg])-配送日:3日目\n",
            "\n",
            "\n"
          ]
        }
      ]
    },
    {
      "cell_type": "markdown",
      "source": [
        "配送の必要がないお店に寄り道している\n",
        "\n",
        "e.g. 2日目 s4, 3日目 s5"
      ],
      "metadata": {
        "id": "pPFRyS5XR0PB"
      }
    },
    {
      "cell_type": "markdown",
      "source": [
        "問題を調査する。ルートの中に荷物のないお店への訪問がどのくらいあるかを確認。"
      ],
      "metadata": {
        "id": "1w0J_EB4bqXW"
      }
    },
    {
      "cell_type": "code",
      "source": [
        "# 各配送日に対して、配送したお店を紐づける辞書の作成\n",
        "resD2S = {d:set() for d in D}\n",
        "for d,r in y:\n",
        "    if y[d,r].value() == 1:\n",
        "        resD2S[d].add(R2S[r])\n",
        "\n",
        "for d in D:\n",
        "    print('---配送日:{}日目---'.format(d))\n",
        "    X = [(k1,k2) for k1 in K for k2 in K if x[d,k1,k2].value() == 1]\n",
        "    time = sum([KK2T[k1,k2] for k1,k2 in X])\n",
        "    print('移動時間:{:.2f}[h]'.format(time))\n",
        "    routeS = set([k1 for k1,k2 in X]) - set([p])\n",
        "    print('(A)配送ルートのお店:', routeS)\n",
        "    targetS = resD2S[d]\n",
        "    print('(B)荷物の注文があるお店:', targetS)\n",
        "\n",
        "    print('(A)-(B):', routeS - targetS)"
      ],
      "metadata": {
        "colab": {
          "base_uri": "https://localhost:8080/"
        },
        "id": "7liIjEvDPGtZ",
        "outputId": "4dfb58ba-a138-437a-ac56-d7ea04328bfd"
      },
      "execution_count": null,
      "outputs": [
        {
          "output_type": "stream",
          "name": "stdout",
          "text": [
            "---配送日:1日目---\n",
            "移動時間:5.82[h]\n",
            "(A)配送ルートのお店: {'s3', 's9'}\n",
            "(B)荷物の注文があるお店: {'s3', 's9'}\n",
            "(A)-(B): set()\n",
            "---配送日:2日目---\n",
            "移動時間:7.60[h]\n",
            "(A)配送ルートのお店: {'s4', 's6', 's8', 's3'}\n",
            "(B)荷物の注文があるお店: {'s3', 's8', 's6'}\n",
            "(A)-(B): {'s4'}\n",
            "---配送日:3日目---\n",
            "移動時間:5.37[h]\n",
            "(A)配送ルートのお店: {'s4', 's6', 's5', 's8'}\n",
            "(B)荷物の注文があるお店: {'s4', 's6'}\n",
            "(A)-(B): {'s5', 's8'}\n",
            "---配送日:4日目---\n",
            "移動時間:6.67[h]\n",
            "(A)配送ルートのお店: {'s5', 's4', 's7', 's8', 's6'}\n",
            "(B)荷物の注文があるお店: {'s4', 's7', 's6'}\n",
            "(A)-(B): {'s5', 's8'}\n",
            "---配送日:5日目---\n",
            "移動時間:7.18[h]\n",
            "(A)配送ルートのお店: {'s3', 's1', 's5', 's9'}\n",
            "(B)荷物の注文があるお店: {'s9', 's1', 's5', 's3'}\n",
            "(A)-(B): set()\n",
            "---配送日:6日目---\n",
            "移動時間:6.73[h]\n",
            "(A)配送ルートのお店: {'s7', 's5', 's9'}\n",
            "(B)荷物の注文があるお店: {'s7', 's5', 's9'}\n",
            "(A)-(B): set()\n",
            "---配送日:7日目---\n",
            "移動時間:6.29[h]\n",
            "(A)配送ルートのお店: {'s5', 's4', 's7', 's8', 's1'}\n",
            "(B)荷物の注文があるお店: {'s7', 's1', 's8'}\n",
            "(A)-(B): {'s4', 's5'}\n",
            "---配送日:8日目---\n",
            "移動時間:8.51[h]\n",
            "(A)配送ルートのお店: {'s1', 's2', 's3'}\n",
            "(B)荷物の注文があるお店: {'s1', 's2', 's3'}\n",
            "(A)-(B): set()\n",
            "---配送日:9日目---\n",
            "移動時間:9.33[h]\n",
            "(A)配送ルートのお店: {'s3', 's7', 's2', 's9'}\n",
            "(B)荷物の注文があるお店: {'s7', 's2', 's9'}\n",
            "(A)-(B): {'s3'}\n",
            "---配送日:10日目---\n",
            "移動時間:9.21[h]\n",
            "(A)配送ルートのお店: {'s1', 's7', 's2', 's9'}\n",
            "(B)荷物の注文があるお店: {'s7', 's2', 's9'}\n",
            "(A)-(B): {'s1'}\n",
            "---配送日:11日目---\n",
            "移動時間:8.28[h]\n",
            "(A)配送ルートのお店: {'s4', 's2', 's1', 's5'}\n",
            "(B)荷物の注文があるお店: {'s4', 's2', 's5'}\n",
            "(A)-(B): {'s1'}\n",
            "---配送日:12日目---\n",
            "移動時間:3.08[h]\n",
            "(A)配送ルートのお店: {'s1', 's7', 's5'}\n",
            "(B)荷物の注文があるお店: {'s7', 's1'}\n",
            "(A)-(B): {'s5'}\n",
            "---配送日:13日目---\n",
            "移動時間:6.62[h]\n",
            "(A)配送ルートのお店: {'s3', 's1', 's9'}\n",
            "(B)荷物の注文があるお店: {'s9', 's3'}\n",
            "(A)-(B): {'s1'}\n",
            "---配送日:14日目---\n",
            "移動時間:6.48[h]\n",
            "(A)配送ルートのお店: {'s4', 's6', 's7', 's3'}\n",
            "(B)荷物の注文があるお店: {'s4', 's3', 's7', 's6'}\n",
            "(A)-(B): set()\n",
            "---配送日:15日目---\n",
            "移動時間:10.29[h]\n",
            "(A)配送ルートのお店: {'s2', 's5', 's4', 's7', 's6'}\n",
            "(B)荷物の注文があるお店: {'s7', 's2', 's6'}\n",
            "(A)-(B): {'s4', 's5'}\n",
            "---配送日:16日目---\n",
            "移動時間:8.63[h]\n",
            "(A)配送ルートのお店: {'s7', 's2', 's3'}\n",
            "(B)荷物の注文があるお店: {'s7', 's2', 's3'}\n",
            "(A)-(B): set()\n",
            "---配送日:17日目---\n",
            "移動時間:7.20[h]\n",
            "(A)配送ルートのお店: {'s5', 's4', 's7', 's1', 's3'}\n",
            "(B)荷物の注文があるお店: {'s4', 's5', 's3'}\n",
            "(A)-(B): {'s1', 's7'}\n",
            "---配送日:18日目---\n",
            "移動時間:10.76[h]\n",
            "(A)配送ルートのお店: {'s2', 's5', 's7', 's1', 's6'}\n",
            "(B)荷物の注文があるお店: {'s7', 's2', 's6'}\n",
            "(A)-(B): {'s1', 's5'}\n",
            "---配送日:19日目---\n",
            "移動時間:6.68[h]\n",
            "(A)配送ルートのお店: {'s3', 's5', 's6'}\n",
            "(B)荷物の注文があるお店: {'s6', 's5', 's3'}\n",
            "(A)-(B): set()\n",
            "---配送日:20日目---\n",
            "移動時間:7.77[h]\n",
            "(A)配送ルートのお店: {'s2', 's7', 's5'}\n",
            "(B)荷物の注文があるお店: {'s2', 's7', 's5'}\n",
            "(A)-(B): set()\n"
          ]
        }
      ]
    },
    {
      "cell_type": "markdown",
      "source": [
        "問題ありあり。\n",
        "\n",
        "要件で費用ばかりに注目していて**移動時間の最小化が入っていなかったことが要因**。\n",
        "\n",
        "配送ルートも可視化"
      ],
      "metadata": {
        "id": "0pRSqcLqcMK2"
      }
    },
    {
      "cell_type": "code",
      "source": [
        "import matplotlib.pyplot as plt\n",
        "\n",
        "# 各地点の座標の取得\n",
        "K2XY = {row.k:(row.x,row.y) for row in k_df.itertuples()}\n",
        "\n",
        "fig = plt.figure(figsize=(12,20))\n",
        "for i in range(len(D)):\n",
        "    d = D[i]\n",
        "    X = [(k1,k2) for k1 in K for k2 in K if x[d,k1,k2].value() == 1]\n",
        "    routeK = [k1 for k1,k2 in X]\n",
        "    time = sum(KK2T[k1,k2] for k1,k2 in X)\n",
        "    title_text = 'day:{}({:.1f}[h])'.format(d, time)\n",
        "    ax = fig.add_subplot(\n",
        "            5, 4, i + 1,\n",
        "            xlim=(-3.5, 3.5),\n",
        "            ylim=(-3.5, 3.5),\n",
        "            title=title_text)\n",
        "    ax.set_aspect('equal')\n",
        "\n",
        "    for row in k_df.itertuples():\n",
        "        if row.k in routeK:\n",
        "            if row.depo_flag:\n",
        "                ax.scatter(row.x, row.y, marker='o')\n",
        "            else:\n",
        "                ax.scatter(row.x, row.y, marker='x')\n",
        "\n",
        "    for k1,k2 in X:\n",
        "        (x1,y1) = K2XY[k1]\n",
        "        (x2,y2) = K2XY[k2]\n",
        "        ax.arrow(x1, y1, (x2 - x1), (y2 - y1),\n",
        "                head_width=0.2,\n",
        "                length_includes_head=True)"
      ],
      "metadata": {
        "colab": {
          "base_uri": "https://localhost:8080/",
          "height": 1000
        },
        "id": "YUzozJfuQyCt",
        "outputId": "37770752-e232-4b26-a320-c578f9741ced"
      },
      "execution_count": null,
      "outputs": [
        {
          "output_type": "display_data",
          "data": {
            "text/plain": [
              "<Figure size 1200x2000 with 20 Axes>"
            ],
            "image/png": "[encoded data removed]"
          },
          "metadata": {}
        }
      ]
    },
    {
      "cell_type": "markdown",
      "source": [
        "交差していて、最短経路を得られてなさそう（最短経路は交差がない）\n",
        "\n",
        "以下改善したい\n",
        "\n",
        "- 計算効率改善\n",
        "- 最短経路の選定\n",
        "- 荷物の注文がないお店の訪問をなくす\n",
        "- 移動時間（=労働時間）の最小化"
      ],
      "metadata": {
        "id": "z7GSX4ZTcd8Y"
      }
    },
    {
      "cell_type": "markdown",
      "source": [
        "### **5.5 配送パターンを利用したモデリング**\n",
        "\n",
        "「効率的な配送パターン」を定義\n",
        "\n",
        "- (ⅰ) 配送ルートは最短経路である\n",
        "- (ⅱ) 配送ルートの移動時間は11[時間]以下（所定労働時間8時間＋最大残業時間3時間）\n",
        "- (ⅲ) 荷物の重量は4,000[kg]以下\n",
        "- (ⅳ) 荷物を配送しないお店に訪問する配送ルートは選択しない\n",
        "\n",
        "各配送日に効率的な配送パターンを列挙。各配送日にどの配送パターンを選択するかという問題に置き換える。\n"
      ],
      "metadata": {
        "id": "Q6QPaQY4dCws"
      }
    },
    {
      "cell_type": "markdown",
      "source": [
        "#### ① 集合と定数"
      ],
      "metadata": {
        "id": "mI1Aya7AdCzZ"
      }
    },
    {
      "cell_type": "markdown",
      "source": [
        "数理モデリングに必要な集合と定数\n",
        "\n",
        "以下の通り。詳細は書籍参照\n",
        "- 配送日の集合\n",
        "- 荷物の集合\n",
        "- 残業費用\n",
        "- 外注費用"
      ],
      "metadata": {
        "id": "Pa72e8kAdC2F"
      }
    },
    {
      "cell_type": "markdown",
      "source": [
        "配送パターンに関する集合と定数を定義\n",
        "\n",
        "\n",
        "- 各配送日の配送パターンの集合\n",
        "- 各荷物を配送する配送パターンの集合\n",
        "\n",
        "各配送日の効率的な配送パターンに対して決まる移動時間と残業時間を考える\n",
        "\n",
        "- 各配送日の配送パターンの集合を結合した集合\n",
        "- 各配送パターンの移動時間\n",
        "- 各配送パターンの残業時間"
      ],
      "metadata": {
        "id": "pj3mwA_5dC4y"
      }
    },
    {
      "cell_type": "markdown",
      "source": [
        "#### ② 決定変数と補助変数"
      ],
      "metadata": {
        "id": "nrG16v4hdC7R"
      }
    },
    {
      "cell_type": "markdown",
      "source": [
        "- 各配送日の配送パターンの選択を表す決定変数\n",
        "- 荷物の外注の有無を表す補助変数"
      ],
      "metadata": {
        "id": "_vBDTg6fdC9m"
      }
    },
    {
      "cell_type": "markdown",
      "source": [
        "#### ③ 制約と目的関数\n",
        "##### (A') 配送パターンの選択\n",
        "- 各配送日に1つの配送パターンを選択する\n",
        "\n",
        "あらかじめ効率的な配送パターンを列挙しているので、いずれの配送パターンを選択しても要件は満たされる。\n",
        "\n",
        "##### (B') 外注と自社配送の選択\n",
        "\n",
        "- 各荷物は外注するか自社配送のどちらかを選択する\n",
        "\n",
        "##### (C') 配送費用の最小化と移動時間の最小化\n",
        "\n",
        "- 目的関数（最小化）：数式は書籍参照\n",
        "\n",
        "コストだけでなく、時間も最小化している。\n",
        "\n"
      ],
      "metadata": {
        "id": "YUAzcpaKidgG"
      }
    },
    {
      "cell_type": "markdown",
      "source": [
        "**★配送パターンを利用した数理モデル**\n",
        "\n",
        "書籍参照"
      ],
      "metadata": {
        "id": "tA6Kv0wKidin"
      }
    },
    {
      "cell_type": "markdown",
      "source": [
        "### **5.6 配送パターンを利用した数理モデルの実装**"
      ],
      "metadata": {
        "id": "rj-MJmr7idlf"
      }
    },
    {
      "cell_type": "markdown",
      "source": [
        "#### **① 効率的な配送パターンの列挙**\n",
        "\n",
        "以下2つを定義\n",
        "\n",
        "**実行可能な配送ルート**\n",
        "- (ⅰ) 配送ルートは最短経路である\n",
        "- (ⅱ) 配送ルートの移動時間は11時間以下\n",
        "\n",
        "**効率的な配送パターン**\n",
        "\n",
        "実行可能な配送ルートで、かつ以下の(ⅲ)と(ⅳ)を満たす\n",
        "- (ⅲ) 荷物の重量は 4,000[kg]以下\n",
        "- (ⅳ) 荷物を配送しないお店に訪問するルートは選択しない\n",
        "\n",
        "2つのステップで効率的な配送パターンを列挙する"
      ],
      "metadata": {
        "id": "cSHYpMzKj2RJ"
      }
    },
    {
      "cell_type": "markdown",
      "source": [
        "**ステップ1 実行可能な配送ルートの列挙**"
      ],
      "metadata": {
        "id": "wc_fxdy9j2Ty"
      }
    },
    {
      "cell_type": "markdown",
      "source": [
        "データの読み込み"
      ],
      "metadata": {
        "id": "LcqkHfUYluCS"
      }
    },
    {
      "cell_type": "code",
      "source": [
        "import pandas as pd\n",
        "k_df = pd.read_csv('locations.csv')\n",
        "kk_df = pd.read_csv('distances.csv')\n",
        "r_df = pd.read_csv('orders.csv')\n",
        "\n",
        "D = list(range(r_df.b.min(), r_df.e.max() + 1))\n",
        "p = k_df[k_df.depo_flag == 1].k.tolist()[0]\n",
        "S = k_df[k_df.depo_flag == 0].k.tolist()\n",
        "K = [p] + S\n",
        "R = r_df.r.tolist()\n",
        "\n",
        "R2S = {row.r:row.s for row in r_df.itertuples()}\n",
        "R2W = {row.r:row.w for row in r_df.itertuples()}\n",
        "R2B = {row.r:row.b for row in r_df.itertuples()}\n",
        "R2E = {row.r:row.e for row in r_df.itertuples()}\n",
        "KK2T = {(row.k1,row.k2):row.t for row in kk_df.itertuples()}"
      ],
      "metadata": {
        "id": "Brv-D-IQlo8M"
      },
      "execution_count": null,
      "outputs": []
    },
    {
      "cell_type": "markdown",
      "source": [
        "巡回セールスマン問題を解く関数を定義。\n",
        "\n",
        "素朴な数理モデルの部分的な問題を解く数理モデル。目的関数が最短経路となる配送ルートを求めるように変更されている。"
      ],
      "metadata": {
        "id": "rfP7EFp8ly7Z"
      }
    },
    {
      "cell_type": "code",
      "source": [
        "import pulp\n",
        "\n",
        "def tsp(p_, S_, KK2T_):\n",
        "    K = [p_] + S_\n",
        "    KK = [(k1,k2) for k1 in K for k2 in K]\n",
        "    prob = pulp.LpProblem('tsp', pulp.LpMinimize)\n",
        "    x = pulp.LpVariable.dicts('x', KK, cat='Binary')\n",
        "    u = pulp.LpVariable.dicts('u', K, cat='Integer', lowBound=0)\n",
        "\n",
        "    # 各地点に必ず1回訪問する\n",
        "    for k1 in K:\n",
        "        prob += pulp.lpSum([x[k1,k2] for k2 in K]) == 1\n",
        "        prob += pulp.lpSum([x[k2,k1] for k2 in K]) == 1\n",
        "\n",
        "    # (B-1)\n",
        "    prob += u[p_] == 0\n",
        "\n",
        "    # (B-2)\n",
        "    for s in S_:\n",
        "        prob += 1 <= u[s]\n",
        "        prob += u[s] <= len(K) - 1\n",
        "\n",
        "    # (B-3)\n",
        "    for s1 in S_:\n",
        "        for s2 in S_:\n",
        "            prob += u[s1] + 1 <= u[s2] + (len(K) - 1) * (1 - x[s1,s2])\n",
        "\n",
        "    # 移動時間は11時間以内\n",
        "    prob += pulp.lpSum([KK2T_[k1,k2] * x[k1,k2] for k1 in K for k2 in K]) <= 11\n",
        "\n",
        "    # 目的関数は移動時間の最小化\n",
        "    prob += pulp.lpSum([KK2T_[k1,k2] * x[k1,k2] for k1 in K for k2 in K])\n",
        "\n",
        "    solver = pulp.PULP_CBC_CMD(msg=0)\n",
        "    status = prob.solve(solver)\n",
        "\n",
        "    if status == 1:\n",
        "        X = [(k1,k2) for k1 in K for k2 in K if x[k1,k2].value() == 1]\n",
        "        time = sum([KK2T_[k1,k2] for k1,k2 in X])\n",
        "    else:\n",
        "        X = []\n",
        "        time = -1\n",
        "    return status, X, time"
      ],
      "metadata": {
        "id": "jTHSnkPDmFb_"
      },
      "execution_count": null,
      "outputs": []
    },
    {
      "cell_type": "markdown",
      "source": [
        "関数のテストを実行"
      ],
      "metadata": {
        "id": "FoidyyoAj2Wj"
      }
    },
    {
      "cell_type": "code",
      "source": [
        "testS = ['s4', 's5', 's9']\n",
        "status, X, time = tsp(p, testS, KK2T)\n",
        "print('ステータス:', pulp.LpStatus[status])\n",
        "print('x:', X)\n",
        "print('移動時間:', time)"
      ],
      "metadata": {
        "colab": {
          "base_uri": "https://localhost:8080/"
        },
        "id": "VDcNZrmrmPHP",
        "outputId": "43425f82-d59f-41cc-b51f-6e128a25e216"
      },
      "execution_count": null,
      "outputs": [
        {
          "output_type": "stream",
          "name": "stdout",
          "text": [
            "ステータス: Optimal\n",
            "x: [('p', 's4'), ('s4', 's5'), ('s5', 's9'), ('s9', 'p')]\n",
            "移動時間: 8.145373915498993\n"
          ]
        }
      ]
    },
    {
      "cell_type": "markdown",
      "source": [
        "解けている。"
      ],
      "metadata": {
        "id": "8IBy_jpImYmB"
      }
    },
    {
      "cell_type": "code",
      "source": [
        "testS = ['s1', 's2', 's3', 's4', 's5', 's9']\n",
        "status, X, time = tsp(p, testS, KK2T)\n",
        "print('ステータス:', pulp.LpStatus[status])\n",
        "print('x:', X)\n",
        "print('移動時間:', time)"
      ],
      "metadata": {
        "colab": {
          "base_uri": "https://localhost:8080/"
        },
        "id": "ofGaxmWymQWU",
        "outputId": "53e46c24-a22f-4a48-c965-73b308e110cd"
      },
      "execution_count": null,
      "outputs": [
        {
          "output_type": "stream",
          "name": "stdout",
          "text": [
            "ステータス: Infeasible\n",
            "x: []\n",
            "移動時間: -1\n"
          ]
        }
      ]
    },
    {
      "cell_type": "markdown",
      "source": [
        "解がない。\n",
        "\n",
        "解がない配送ルートは排除できる。"
      ],
      "metadata": {
        "id": "BAimuNZVmajH"
      }
    },
    {
      "cell_type": "markdown",
      "source": [
        "実行可能な配送ルートを算出する。\n",
        "\n",
        "具体的には、お店を訪問する配送ルートと移動時間とを紐づける辞書 `Stp2Pat`を作成する。"
      ],
      "metadata": {
        "id": "tkRN0gO-mqVl"
      }
    },
    {
      "cell_type": "code",
      "source": [
        "from itertools import combinations\n",
        "\n",
        "Stp2Pat = {}\n",
        "for n in range(len(S) + 1):\n",
        "    # お店の集合Sからn個選ぶ組合せを列挙\n",
        "    count = 0\n",
        "    for Stp in combinations(S, n): # 辞書式で列挙される\n",
        "        # 配送センターpとn個のお店(Stp)の巡回セールスマン問題を解く\n",
        "        status, X, time = tsp(p, list(Stp), KK2T)\n",
        "\n",
        "        # 解が存在するときのみ配送ルートとして採用\n",
        "        if status == 1:\n",
        "            Stp2Pat[Stp] = (X, time)\n",
        "            count += 1\n",
        "    print('訪問するお店の数:{} 配送ルート数:{}'.format(n, count))\n",
        "print('要件(ⅰ)(ⅱ)を満たす配送ルート数:', len(Stp2Pat))"
      ],
      "metadata": {
        "colab": {
          "base_uri": "https://localhost:8080/"
        },
        "id": "GFyfzp8Dmneo",
        "outputId": "4dbb0da7-9902-45d6-c5fb-71a8e2fe751a"
      },
      "execution_count": null,
      "outputs": [
        {
          "output_type": "stream",
          "name": "stdout",
          "text": [
            "訪問するお店の数:0 配送ルート数:1\n",
            "訪問するお店の数:1 配送ルート数:9\n",
            "訪問するお店の数:2 配送ルート数:36\n",
            "訪問するお店の数:3 配送ルート数:81\n",
            "訪問するお店の数:4 配送ルート数:107\n",
            "訪問するお店の数:5 配送ルート数:83\n",
            "訪問するお店の数:6 配送ルート数:37\n",
            "訪問するお店の数:7 配送ルート数:9\n",
            "訪問するお店の数:8 配送ルート数:1\n",
            "訪問するお店の数:9 配送ルート数:0\n",
            "要件(ⅰ)(ⅱ)を満たす配送ルート数: 364\n"
          ]
        }
      ]
    },
    {
      "cell_type": "markdown",
      "source": [
        "Stp2Patの中身を確認。"
      ],
      "metadata": {
        "id": "lIw6lF_Sm_1q"
      }
    },
    {
      "cell_type": "code",
      "source": [
        "for i, (Stp,Pat) in enumerate(Stp2Pat.items()):\n",
        "    if i>3:break\n",
        "    print('---お店の組合せ:', Stp)\n",
        "    print('配送ルート:', Pat)"
      ],
      "metadata": {
        "colab": {
          "base_uri": "https://localhost:8080/"
        },
        "id": "g3vwYM9QnDgy",
        "outputId": "f9fa9782-bd09-4513-a2d5-e057b36962e2"
      },
      "execution_count": null,
      "outputs": [
        {
          "output_type": "stream",
          "name": "stdout",
          "text": [
            "---お店の組合せ: ()\n",
            "配送ルート: ([('p', 'p')], 0.0)\n",
            "---お店の組合せ: ('s1',)\n",
            "配送ルート: ([('p', 's1'), ('s1', 'p')], 1.3236097970929661)\n",
            "---お店の組合せ: ('s2',)\n",
            "配送ルート: ([('p', 's2'), ('s2', 'p')], 5.865139919138787)\n",
            "---お店の組合せ: ('s3',)\n",
            "配送ルート: ([('p', 's3'), ('s3', 'p')], 3.807054271558092)\n"
          ]
        }
      ]
    },
    {
      "cell_type": "markdown",
      "source": [
        "書籍ではさらなる高速化のアイデアも示されているが、ここでは割愛"
      ],
      "metadata": {
        "id": "_qjzVnZ5j2ZF"
      }
    },
    {
      "cell_type": "markdown",
      "source": [
        "**ステップ2 効率的な配送パターンの列挙**"
      ],
      "metadata": {
        "id": "UFIgtFAsj2b4"
      }
    },
    {
      "cell_type": "markdown",
      "source": [
        "各配送日に配送可能な荷物に着目し、要件（ⅲ）を満たす荷物の組み合わせを列挙。\n",
        "\n",
        "荷物の組み合わせが決まれば、訪問するお店も決まるので、1つめのステップで得られた「実行可能な配送ルート」と称号することで、要件（ⅳ）を満たす効率的な配送パターンを得ることができる。\n",
        "\n",
        "以下は再掲\n",
        "\n",
        "**実行可能な配送ルート**\n",
        "- (ⅰ) 配送ルートは最短経路である\n",
        "- (ⅱ) 配送ルートの移動時間は11時間以下\n",
        "\n",
        "**効率的な配送パターン**\n",
        "\n",
        "実行可能な配送ルートで、かつ以下の(ⅲ)と(ⅳ)を満たす\n",
        "- (ⅲ) 荷物の重量は 4,000[kg]以下\n",
        "- (ⅳ) 荷物を配送しないお店に訪問するルートは選択しない\n"
      ],
      "metadata": {
        "id": "t7wUFWfinrFf"
      }
    },
    {
      "cell_type": "code",
      "source": [
        "# 配送日に対して配送可能な荷物のリストを紐づける辞書\n",
        "D2R = {d:[] for d in D}\n",
        "for r in R:\n",
        "    for d in range(R2B[r], R2E[r] + 1):\n",
        "        D2R[d].append(r)\n",
        "\n",
        "# 各配送日に配送可能な荷物のリスト\n",
        "for d in D:\n",
        "    print('配送日:', d, D2R[d])"
      ],
      "metadata": {
        "colab": {
          "base_uri": "https://localhost:8080/"
        },
        "id": "uUT14FQtoNG5",
        "outputId": "2f1cf2b6-6577-4c87-f570-c0ac1fc452f8"
      },
      "execution_count": null,
      "outputs": [
        {
          "output_type": "stream",
          "name": "stdout",
          "text": [
            "配送日: 1 ['r04', 'r46', 'r53', 'r77', 'r99']\n",
            "配送日: 2 ['r02', 'r04', 'r20', 'r25', 'r46', 'r47', 'r53', 'r57', 'r65', 'r77', 'r78', 'r80', 'r99']\n",
            "配送日: 3 ['r02', 'r20', 'r25', 'r46', 'r47', 'r53', 'r57', 'r65', 'r77', 'r78', 'r80', 'r99']\n",
            "配送日: 4 ['r02', 'r07', 'r20', 'r29', 'r47', 'r56', 'r57', 'r93', 'r96']\n",
            "配送日: 5 ['r07', 'r23', 'r29', 'r56', 'r73', 'r74', 'r79', 'r93', 'r96']\n",
            "配送日: 6 ['r07', 'r23', 'r27', 'r31', 'r43', 'r44', 'r54', 'r56', 'r64', 'r67', 'r73', 'r74', 'r79', 'r81']\n",
            "配送日: 7 ['r23', 'r27', 'r31', 'r33', 'r43', 'r44', 'r54', 'r64', 'r66', 'r67', 'r74', 'r79', 'r81', 'r90', 'r91']\n",
            "配送日: 8 ['r11', 'r27', 'r31', 'r32', 'r33', 'r44', 'r51', 'r54', 'r66', 'r67', 'r75', 'r81', 'r82', 'r90', 'r91']\n",
            "配送日: 9 ['r11', 'r14', 'r19', 'r32', 'r48', 'r51', 'r66', 'r75', 'r82', 'r90', 'r91']\n",
            "配送日: 10 ['r05', 'r14', 'r19', 'r22', 'r32', 'r37', 'r48', 'r51', 'r69', 'r84', 'r98']\n",
            "配送日: 11 ['r05', 'r22', 'r36', 'r37', 'r48', 'r69', 'r71', 'r84', 'r98']\n",
            "配送日: 12 ['r05', 'r12', 'r36', 'r37', 'r71', 'r98']\n",
            "配送日: 13 ['r06', 'r12', 'r18', 'r49', 'r61', 'r72', 'r95', 'r97']\n",
            "配送日: 14 ['r06', 'r09', 'r12', 'r18', 'r24', 'r28', 'r49', 'r59', 'r61', 'r72', 'r95', 'r97']\n",
            "配送日: 15 ['r06', 'r09', 'r17', 'r24', 'r28', 'r39', 'r49', 'r59', 'r61', 'r70', 'r72', 'r86', 'r87']\n",
            "配送日: 16 ['r01', 'r08', 'r10', 'r15', 'r16', 'r17', 'r24', 'r26', 'r28', 'r30', 'r38', 'r39', 'r52', 'r59', 'r70', 'r76', 'r86', 'r87', 'r94']\n",
            "配送日: 17 ['r00', 'r01', 'r08', 'r10', 'r15', 'r16', 'r26', 'r30', 'r38', 'r39', 'r45', 'r52', 'r62', 'r68', 'r70', 'r76', 'r86', 'r87', 'r89', 'r94']\n",
            "配送日: 18 ['r00', 'r01', 'r26', 'r30', 'r34', 'r35', 'r38', 'r41', 'r45', 'r50', 'r60', 'r62', 'r68', 'r76', 'r83', 'r85', 'r88', 'r89', 'r92', 'r94']\n",
            "配送日: 19 ['r03', 'r13', 'r21', 'r34', 'r35', 'r40', 'r41', 'r42', 'r45', 'r50', 'r55', 'r58', 'r60', 'r63', 'r68', 'r83', 'r85', 'r88', 'r92']\n",
            "配送日: 20 ['r03', 'r13', 'r21', 'r35', 'r40', 'r42', 'r55', 'r58', 'r60', 'r63', 'r83', 'r88', 'r92']\n"
          ]
        }
      ]
    },
    {
      "cell_type": "markdown",
      "source": [
        "以下2つで効率的な配送パターンを抽出\n",
        "\n",
        "- 4,000[kg]以下の組み合わせを抽出\n",
        "- 実行可能な配送ルートに限定"
      ],
      "metadata": {
        "id": "nOTTdLwcofqo"
      }
    },
    {
      "cell_type": "code",
      "source": [
        "# 各配送日に紐づける効率的な配送パターンのリスト\n",
        "D2Pat = {d:[] for d in D}\n",
        "for d in D:\n",
        "    # 配送日dに配送可能な荷物のリストを作成\n",
        "    dayR = D2R[d]\n",
        "\n",
        "    # 荷物のリストの部分集合を列挙\n",
        "    for n in range(len(dayR) + 1):\n",
        "        for tarR in combinations(dayR, n):\n",
        "\n",
        "            # 要件(iii):荷物の重量の確認\n",
        "            w = sum([R2W[r] for r in tarR])\n",
        "            if w > 4000:\n",
        "                continue\n",
        "\n",
        "            # 荷物の配送先のお店を抽出\n",
        "            tarS = set([R2S[r] for r in tarR])\n",
        "            tarStp = tuple(sorted(tarS))\n",
        "\n",
        "            # 要件(iv):実行可能な配送ルートとの照合\n",
        "            if tarStp in Stp2Pat:\n",
        "                X, time = Stp2Pat[tarStp]\n",
        "                pat = (X,time,list(tarR))\n",
        "                D2Pat[d].append(pat)\n",
        "            else:\n",
        "                continue\n",
        "    print('配送日:{} 配送パターン数:{}'.format(d, len(D2Pat[d])))"
      ],
      "metadata": {
        "colab": {
          "base_uri": "https://localhost:8080/"
        },
        "id": "dnCNfq-FoW9o",
        "outputId": "d16bfe1d-3b76-40e5-f65a-da0f79a79ff3"
      },
      "execution_count": null,
      "outputs": [
        {
          "output_type": "stream",
          "name": "stdout",
          "text": [
            "配送日:1 配送パターン数:31\n",
            "配送日:2 配送パターン数:614\n",
            "配送日:3 配送パターン数:503\n",
            "配送日:4 配送パターン数:269\n",
            "配送日:5 配送パターン数:260\n",
            "配送日:6 配送パターン数:1371\n",
            "配送日:7 配送パターン数:1143\n",
            "配送日:8 配送パターン数:1461\n",
            "配送日:9 配送パターン数:332\n",
            "配送日:10 配送パターン数:345\n",
            "配送日:11 配送パターン数:175\n",
            "配送日:12 配送パターン数:44\n",
            "配送日:13 配送パターン数:93\n",
            "配送日:14 配送パターン数:333\n",
            "配送日:15 配送パターン数:557\n",
            "配送日:16 配送パターン数:2737\n",
            "配送日:17 配送パターン数:3292\n",
            "配送日:18 配送パターン数:2416\n",
            "配送日:19 配送パターン数:2244\n",
            "配送日:20 配送パターン数:575\n"
          ]
        }
      ]
    },
    {
      "cell_type": "markdown",
      "source": [
        "#### **② 配送パターンを利用した数理モデルの実装・実験・検証**"
      ],
      "metadata": {
        "id": "ZphTgbNcnrIC"
      }
    },
    {
      "cell_type": "markdown",
      "source": [],
      "metadata": {
        "id": "7ZzMu1qynrKz"
      }
    },
    {
      "cell_type": "code",
      "source": [
        "# 配送日に、配送可能な配送パターンのリストを紐づける辞書\n",
        "D2Q = {d:[] for d in D}\n",
        "\n",
        "# 配送パターンに、配送可能な荷物のリストを紐づける辞書\n",
        "Q2R = {}\n",
        "\n",
        "# 配送パターンに、移動時間を紐づける辞書\n",
        "Q2T = {}\n",
        "\n",
        "# 配送パターンに、残業時間を紐づける辞書\n",
        "Q2H = {}\n",
        "\n",
        "# 配送パターンに、配送ルートを紐づける辞書\n",
        "Q2X = {}\n",
        "\n",
        "for d in D:\n",
        "    for q_no, (X,time,tarR) in enumerate(D2Pat[d]):\n",
        "        q = 'q_{}_{}'.format(d, q_no)\n",
        "        D2Q[d].append(q)\n",
        "        Q2R[q] = tarR\n",
        "        Q2T[q] = time\n",
        "        Q2H[q] = max(time - 8, 0)\n",
        "        Q2X[q] = X\n",
        "print('配送日1日目の配送パターン:', D2Q[1])"
      ],
      "metadata": {
        "colab": {
          "base_uri": "https://localhost:8080/"
        },
        "id": "1IkqvpWio_c7",
        "outputId": "d135c5cf-2526-4153-eebe-37e80ea745c1"
      },
      "execution_count": null,
      "outputs": [
        {
          "output_type": "stream",
          "name": "stdout",
          "text": [
            "配送日1日目の配送パターン: ['q_1_0', 'q_1_1', 'q_1_2', 'q_1_3', 'q_1_4', 'q_1_5', 'q_1_6', 'q_1_7', 'q_1_8', 'q_1_9', 'q_1_10', 'q_1_11', 'q_1_12', 'q_1_13', 'q_1_14', 'q_1_15', 'q_1_16', 'q_1_17', 'q_1_18', 'q_1_19', 'q_1_20', 'q_1_21', 'q_1_22', 'q_1_23', 'q_1_24', 'q_1_25', 'q_1_26', 'q_1_27', 'q_1_28', 'q_1_29', 'q_1_30']\n"
          ]
        }
      ]
    },
    {
      "cell_type": "markdown",
      "source": [
        "特定の配送パターンに注目して確認"
      ],
      "metadata": {
        "id": "UpkCReWqpjq6"
      }
    },
    {
      "cell_type": "code",
      "source": [
        "q = 'q_1_20'\n",
        "print('対象となる配送パターンの識別子:', q)\n",
        "print('荷物のリスト:', Q2R[q])\n",
        "print('移動時間:', Q2T[q])\n",
        "print('残業時間:', Q2H[q])\n",
        "print('配送ルート:', Q2X[q])"
      ],
      "metadata": {
        "colab": {
          "base_uri": "https://localhost:8080/"
        },
        "id": "k17Wi45QpF_-",
        "outputId": "3a80b74c-9b2d-4623-ab0d-48603ac2b839"
      },
      "execution_count": null,
      "outputs": [
        {
          "output_type": "stream",
          "name": "stdout",
          "text": [
            "対象となる配送パターンの識別子: q_1_20\n",
            "荷物のリスト: ['r04', 'r53', 'r99']\n",
            "移動時間: 8.51538202654576\n",
            "残業時間: 0.51538202654576\n",
            "配送ルート: [('p', 's2'), ('s2', 's9'), ('s9', 'p')]\n"
          ]
        }
      ]
    },
    {
      "cell_type": "markdown",
      "source": [
        "★「配送パターンを利用した数理モデル」の実装"
      ],
      "metadata": {
        "id": "PqRH7FkknrNl"
      }
    },
    {
      "cell_type": "code",
      "source": [
        "import pulp\n",
        "\n",
        "prob = pulp.LpProblem('vrp_enum', pulp.LpMinimize)\n",
        "\n",
        "x = {}\n",
        "for d in D:\n",
        "    for q in D2Q[d]:\n",
        "        x[d,q] = pulp.LpVariable('x_{}_{}'.format(d, q), cat='Binary')\n",
        "y = pulp.LpVariable.dicts('y', R, cat='Continuous', lowBound=0, upBound=1)\n",
        "\n",
        "# (A') 各配送日に1つの配送パターンを選択\n",
        "for d in D:\n",
        "    prob += pulp.lpSum([x[d,q] for q in D2Q[d]]) == 1\n",
        "\n",
        "# (B') 各荷物は外注するか自社配送のどちらかを選択\n",
        "for r in R:\n",
        "    prob += y[r] + pulp.lpSum(x[d,q] for d in D for q in D2Q[d] if r in Q2R[q]) == 1\n",
        "\n",
        "# (C') 費用合計と移動時間合計の最小化\n",
        "zangyo = pulp.lpSum([3000 * Q2H[q] * x[d,q] for d in D for q in D2Q[d]])\n",
        "gaityu = pulp.lpSum([46 * R2W[r] * y[r] for r in R])\n",
        "time = pulp.lpSum([x[d,q] * Q2T[q] for d in D for q in D2Q[d]])\n",
        "prob += zangyo + gaityu + time\n",
        "\n",
        "# 求解\n",
        "solver = pulp.PULP_CBC_CMD(msg=1)\n",
        "status = prob.solve(solver)\n",
        "print('ステータス:', pulp.LpStatus[status])\n",
        "\n",
        "# 結果の表示\n",
        "print('残業費用:{:.0f}[円]'.format(zangyo.value()))\n",
        "print('外注費用:{:.0f}[円]'.format(gaityu.value()))\n",
        "print('費用剛健:{:.0f}[円]'.format(zangyo.value() + gaityu.value()))\n",
        "print('移動時間:{:.0f}[時間]'.format(time.value()))"
      ],
      "metadata": {
        "colab": {
          "base_uri": "https://localhost:8080/"
        },
        "id": "ta_KvgOHwuLk",
        "outputId": "63683cc1-1028-4c59-f590-97c6941caa51"
      },
      "execution_count": null,
      "outputs": [
        {
          "output_type": "stream",
          "name": "stdout",
          "text": [
            "ステータス: Optimal\n",
            "残業費用:8213[円]\n",
            "外注費用:1098940[円]\n",
            "費用剛健:1107153[円]\n",
            "移動時間:123[時間]\n"
          ]
        }
      ]
    },
    {
      "cell_type": "markdown",
      "source": [
        "- 計算が非常に速くなった\n",
        "- 大きく費用削減ができている\n",
        "- 移動時間も短縮できている"
      ],
      "metadata": {
        "id": "UtB2zwh0w3YC"
      }
    },
    {
      "cell_type": "markdown",
      "source": [
        "配送日ごとの配送ルートを確認"
      ],
      "metadata": {
        "id": "MKaT5WM9nrQC"
      }
    },
    {
      "cell_type": "code",
      "source": [
        "resD2Q = {d:q for d in D for q in D2Q[d] if x[d,q].value() == 1}\n",
        "for d in D:\n",
        "    tar_q = resD2Q[d]\n",
        "\n",
        "    # 移動する地点の順番のリストを作成\n",
        "    X = Q2X[tar_q].copy()\n",
        "    tar = p\n",
        "    Route = [p]\n",
        "    while len(X) >= 1:\n",
        "        for k1,k2 in X:\n",
        "            if k1 == tar:\n",
        "                tar = k2\n",
        "                Route.append(k2)\n",
        "                X.remove((k1,k2))\n",
        "\n",
        "    print('---配送日:{} 配送パターン:{}---'.format(d, tar_q))\n",
        "    print('移動時間:{:.2f}[時間]'.format(Q2T[tar_q]))\n",
        "    print('残業時間:{:.2f}[時間]'.format(Q2H[tar_q]))\n",
        "    print('配送ルート:', '->'.join(Route))\n",
        "    for r in Q2R[tar_q]:\n",
        "        print('荷物{}-お店{}'.format(r, R2S[r]))\n",
        "    print('\\n')"
      ],
      "metadata": {
        "colab": {
          "base_uri": "https://localhost:8080/"
        },
        "id": "gpie0i05xF2X",
        "outputId": "bb0f80ff-4e3c-4099-c457-29ba9d5bf06b"
      },
      "execution_count": null,
      "outputs": [
        {
          "output_type": "stream",
          "name": "stdout",
          "text": [
            "---配送日:1 配送パターン:q_1_30---\n",
            "移動時間:5.82[時間]\n",
            "残業時間:0.00[時間]\n",
            "配送ルート: p->s3->s9->p\n",
            "荷物r46-お店s9\n",
            "荷物r53-お店s9\n",
            "荷物r77-お店s3\n",
            "荷物r99-お店s9\n",
            "\n",
            "\n",
            "---配送日:2 配送パターン:q_2_358---\n",
            "移動時間:9.28[時間]\n",
            "残業時間:1.28[時間]\n",
            "配送ルート: p->s2->s7->s6->p\n",
            "荷物r02-お店s6\n",
            "荷物r04-お店s2\n",
            "荷物r20-お店s6\n",
            "荷物r47-お店s7\n",
            "\n",
            "\n",
            "---配送日:3 配送パターン:q_3_290---\n",
            "移動時間:4.49[時間]\n",
            "残業時間:0.00[時間]\n",
            "配送ルート: p->s4->s8->s6->p\n",
            "荷物r65-お店s8\n",
            "荷物r78-お店s4\n",
            "荷物r80-お店s6\n",
            "\n",
            "\n",
            "---配送日:4 配送パターン:q_4_255---\n",
            "移動時間:4.49[時間]\n",
            "残業時間:0.00[時間]\n",
            "配送ルート: p->s4->s8->s6->p\n",
            "荷物r07-お店s4\n",
            "荷物r29-お店s4\n",
            "荷物r56-お店s4\n",
            "荷物r57-お店s8\n",
            "荷物r93-お店s6\n",
            "\n",
            "\n",
            "---配送日:5 配送パターン:q_5_240---\n",
            "移動時間:6.72[時間]\n",
            "残業時間:0.00[時間]\n",
            "配送ルート: p->s5->s1->s9->s3->p\n",
            "荷物r73-お店s3\n",
            "荷物r74-お店s1\n",
            "荷物r79-お店s9\n",
            "荷物r96-お店s5\n",
            "\n",
            "\n",
            "---配送日:6 配送パターン:q_6_729---\n",
            "移動時間:6.14[時間]\n",
            "残業時間:0.00[時間]\n",
            "配送ルート: p->s5->s1->s9->p\n",
            "荷物r23-お店s9\n",
            "荷物r27-お店s5\n",
            "荷物r31-お店s1\n",
            "荷物r67-お店s1\n",
            "\n",
            "\n",
            "---配送日:7 配送パターン:q_7_346---\n",
            "移動時間:5.78[時間]\n",
            "残業時間:0.00[時間]\n",
            "配送ルート: p->s5->s8->s7->p\n",
            "荷物r33-お店s8\n",
            "荷物r43-お店s5\n",
            "荷物r64-お店s7\n",
            "\n",
            "\n",
            "---配送日:8 配送パターン:q_8_1445---\n",
            "移動時間:7.49[時間]\n",
            "残業時間:0.00[時間]\n",
            "配送ルート: p->s5->s2->s7->p\n",
            "荷物r44-お店s2\n",
            "荷物r54-お店s5\n",
            "荷物r75-お店s2\n",
            "荷物r81-お店s7\n",
            "荷物r90-お店s7\n",
            "\n",
            "\n",
            "---配送日:9 配送パターン:q_9_242---\n",
            "移動時間:8.63[時間]\n",
            "残業時間:0.63[時間]\n",
            "配送ルート: p->s7->s3->s2->p\n",
            "荷物r11-お店s3\n",
            "荷物r32-お店s7\n",
            "荷物r82-お店s2\n",
            "荷物r91-お店s2\n",
            "\n",
            "\n",
            "---配送日:10 配送パターン:q_10_293---\n",
            "移動時間:7.86[時間]\n",
            "残業時間:0.00[時間]\n",
            "配送ルート: p->s9->s7->s4->p\n",
            "荷物r14-お店s9\n",
            "荷物r19-お店s9\n",
            "荷物r22-お店s4\n",
            "荷物r51-お店s7\n",
            "\n",
            "\n",
            "---配送日:11 配送パターン:q_11_109---\n",
            "移動時間:7.28[時間]\n",
            "残業時間:0.00[時間]\n",
            "配送ルート: p->s2->s7->p\n",
            "荷物r37-お店s7\n",
            "荷物r48-お店s2\n",
            "荷物r69-お店s2\n",
            "\n",
            "\n",
            "---配送日:12 配送パターン:q_12_42---\n",
            "移動時間:8.73[時間]\n",
            "残業時間:0.73[時間]\n",
            "配送ルート: p->s9->s2->s1->s5->p\n",
            "荷物r05-お店s5\n",
            "荷物r36-お店s1\n",
            "荷物r71-お店s2\n",
            "荷物r98-お店s9\n",
            "\n",
            "\n",
            "---配送日:13 配送パターン:q_13_72---\n",
            "移動時間:6.62[時間]\n",
            "残業時間:0.00[時間]\n",
            "配送ルート: p->s1->s9->s3->p\n",
            "荷物r12-お店s1\n",
            "荷物r95-お店s3\n",
            "荷物r97-お店s9\n",
            "\n",
            "\n",
            "---配送日:14 配送パターン:q_14_302---\n",
            "移動時間:8.10[時間]\n",
            "残業時間:0.10[時間]\n",
            "配送ルート: p->s4->s3->s9->p\n",
            "荷物r06-お店s3\n",
            "荷物r18-お店s4\n",
            "荷物r49-お店s9\n",
            "荷物r59-お店s3\n",
            "\n",
            "\n",
            "---配送日:15 配送パターン:q_15_426---\n",
            "移動時間:6.05[時間]\n",
            "残業時間:0.00[時間]\n",
            "配送ルート: p->s6->s7->s3->p\n",
            "荷物r09-お店s6\n",
            "荷物r17-お店s7\n",
            "荷物r61-お店s7\n",
            "荷物r72-お店s3\n",
            "\n",
            "\n",
            "---配送日:16 配送パターン:q_16_720---\n",
            "移動時間:3.57[時間]\n",
            "残業時間:0.00[時間]\n",
            "配送ルート: p->s5->s6->p\n",
            "荷物r16-お店s5\n",
            "荷物r26-お店s5\n",
            "荷物r52-お店s6\n",
            "\n",
            "\n",
            "---配送日:17 配送パターン:q_17_2096---\n",
            "移動時間:1.32[時間]\n",
            "残業時間:0.00[時間]\n",
            "配送ルート: p->s1->p\n",
            "荷物r01-お店s1\n",
            "荷物r62-お店s1\n",
            "荷物r87-お店s1\n",
            "荷物r94-お店s1\n",
            "\n",
            "\n",
            "---配送日:18 配送パターン:q_18_1425---\n",
            "移動時間:4.62[時間]\n",
            "残業時間:0.00[時間]\n",
            "配送ルート: p->s5->s4->s6->s7->p\n",
            "荷物r00-お店s4\n",
            "荷物r35-お店s6\n",
            "荷物r68-お店s7\n",
            "荷物r89-お店s5\n",
            "\n",
            "\n",
            "---配送日:19 配送パターン:q_19_2177---\n",
            "移動時間:4.35[時間]\n",
            "残業時間:0.00[時間]\n",
            "配送ルート: p->s5->s6->s7->p\n",
            "荷物r34-お店s5\n",
            "荷物r42-お店s7\n",
            "荷物r50-お店s7\n",
            "荷物r55-お店s5\n",
            "荷物r58-お店s6\n",
            "\n",
            "\n",
            "---配送日:20 配送パターン:q_20_140---\n",
            "移動時間:6.08[時間]\n",
            "残業時間:0.00[時間]\n",
            "配送ルート: p->s2->s5->p\n",
            "荷物r03-お店s5\n",
            "荷物r60-お店s2\n",
            "荷物r83-お店s2\n",
            "\n",
            "\n"
          ]
        }
      ]
    },
    {
      "cell_type": "markdown",
      "source": [
        "可視化"
      ],
      "metadata": {
        "id": "yywOVX-6xgQU"
      }
    },
    {
      "cell_type": "code",
      "source": [
        "import matplotlib.pyplot as plt\n",
        "\n",
        "# 各地点の座標の取得\n",
        "K2XY = {row.k:(row.x,row.y) for row in k_df.itertuples()}\n",
        "\n",
        "fig = plt.figure(figsize=(12,20))\n",
        "for i in range(len(D)):\n",
        "    d = D[i]\n",
        "    tar_q = resD2Q[d]\n",
        "    X = Q2X[tar_q]\n",
        "    routeK = [k1 for k1,k2 in X]\n",
        "    time = Q2T[tar_q]\n",
        "    title_text = 'day:{}({:.1f}[h])'.format(d, time)\n",
        "\n",
        "    ax = fig.add_subplot(5, 4, i + 1,\n",
        "                         xlim=(-3.5, 3.5),\n",
        "                         ylim=(-3.5, 3.5),\n",
        "                         title=title_text)\n",
        "    ax.set_aspect('equal')\n",
        "\n",
        "    for row in k_df.itertuples():\n",
        "        if row.k in routeK:\n",
        "            if row.depo_flag:\n",
        "                ax.scatter(row.x, row.y, marker='o')\n",
        "            else:\n",
        "                ax.scatter(row.x, row.y, marker='x')\n",
        "\n",
        "    for k1,k2 in X:\n",
        "        (x1,y1) = K2XY[k1]\n",
        "        (x2,y2) = K2XY[k2]\n",
        "        ax.arrow(x1, y1, (x2 - x1), (y2 - y1),\n",
        "                head_width=0.2,\n",
        "                length_includes_head=True)"
      ],
      "metadata": {
        "colab": {
          "base_uri": "https://localhost:8080/",
          "height": 1000
        },
        "id": "DuhKuOL7ic0X",
        "outputId": "c086b5c4-0271-4b21-bdde-09611042843a"
      },
      "execution_count": null,
      "outputs": [
        {
          "output_type": "display_data",
          "data": {
            "text/plain": [
              "<Figure size 1200x2000 with 20 Axes>"
            ],
            "image/png": "[encoded data removed]"
          },
          "metadata": {}
        }
      ]
    },
    {
      "cell_type": "markdown",
      "source": [
        "スッキリした配送ルート"
      ],
      "metadata": {
        "id": "VsgubUcgxmo7"
      }
    },
    {
      "cell_type": "markdown",
      "source": [
        "### **5.7 第5章のまとめ**"
      ],
      "metadata": {
        "id": "knpnzp7Jxo26"
      }
    },
    {
      "cell_type": "markdown",
      "source": [
        "省略。色々発展的な例題が出されているが、チャレンジできず。\n",
        "\n",
        "どの課題もできる気がしない…"
      ],
      "metadata": {
        "id": "A60ZDPROx5a7"
      }
    }
  ],
  "metadata": {
    "kernelspec": {
      "display_name": "Python 3",
      "language": "python",
      "name": "python3"
    },
    "language_info": {
      "codemirror_mode": {
        "name": "ipython",
        "version": 3
      },
      "file_extension": ".py",
      "mimetype": "text/x-python",
      "name": "python",
      "nbconvert_exporter": "python",
      "pygments_lexer": "ipython3",
      "version": "3.8.5"
    },
    "colab": {
      "provenance": [],
      "include_colab_link": true
    }
  },
  "nbformat": 4,
  "nbformat_minor": 0
}